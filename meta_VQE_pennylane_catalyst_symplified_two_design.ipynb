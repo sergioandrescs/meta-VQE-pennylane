{
 "cells": [
  {
   "attachments": {},
   "cell_type": "markdown",
   "id": "22e51aa6",
   "metadata": {},
   "source": [
    "# meta-VQE\n",
    "\n",
    "Hot to obtain a Potential Energy Surface (PES) plot without training for *all* the points of interest.\n",
    "\n",
    "## Keypoints\n",
    "\n",
    "* For a molecule, the Hamiltonian depends on the geometry (separation) of the atoms or nuclei\n",
    "* For simple, vanilla VQE, all the possible configurations (separations) in the molecule need to be trained separately\n",
    "* meta-VQE trains a few points (training points), encoding the original parameters $\\vec{\\theta}$ using metaparamers and a linear or Gaussian encoding.\n",
    "\n",
    "The code below uses Catalyst (from Xanadu) and JAX to optimize calculations"
   ]
  },
  {
   "cell_type": "code",
   "execution_count": 1,
   "id": "f9196990-aaaa-4a07-a3ad-56ddaf5cd7fb",
   "metadata": {},
   "outputs": [],
   "source": [
    "import catalyst\n",
    "from catalyst import qjit\n",
    "\n",
    "import pennylane as qml\n",
    "from pennylane import numpy as np\n",
    "import matplotlib.pyplot as plt\n",
    "\n",
    "from scipy.optimize import minimize, OptimizeResult\n",
    "\n",
    "import jax.numpy as jnp"
   ]
  },
  {
   "cell_type": "code",
   "execution_count": 2,
   "id": "04a30258-8faa-402d-9c44-43fc3f1788c1",
   "metadata": {},
   "outputs": [],
   "source": [
    "## Layers and wires for circuits\n",
    "\n",
    "symbols = [\"Li\", \"H\"]\n",
    "coordinates = np.array([0.0, 0.0, 0.0, 0.0, 0.0, 1.0])\n",
    "\n",
    "# Building the molecular hamiltonian for LiH\n",
    "hamiltonian, qubits = qml.qchem.molecular_hamiltonian(\n",
    "    symbols,\n",
    "    coordinates,\n",
    "    method=\"pyscf\",\n",
    ")\n",
    "\n",
    "LAYERS = 1\n",
    "WIRES = qubits\n",
    "\n",
    "## https://docs.pennylane.ai/projects/catalyst/en/latest/code/api/catalyst.grad.html - [\"fd\", \"ps\", \"adj\"]\n",
    "GRADIENT_METHOD= \"fd\"\n",
    "\n",
    "TRAINING_ENERGIES= {\"gradient_descent\":{\"energies\":[], \"trained_meta_vars\":[]},\n",
    "                    \"spsa\":{\"energies\":[], \"trained_meta_vars\":[]},\n",
    "                    \"adam\":{\"energies\":[], \"trained_meta_vars\":[]},\n",
    "                   }\n",
    "\n",
    "# Encoder: \n",
    "# Linear -> 1\n",
    "# Gaussian -> 2\n",
    "\n",
    "ENCODER_MULTIPLIER_DICT = {1:2,\n",
    "                      2:4}\n",
    "\n",
    "ENCODER = 2\n",
    "\n",
    "shared_dev = qml.device(\"lightning.qubit\", wires=WIRES)\n",
    "\n",
    "symbols = [\"Li\", \"H\"]\n",
    "\n",
    "train_points = [1.0,2.0,3.0,4.0,5.0]\n",
    "\n",
    "test_points = np.arange(0.6,6,0.2)\n",
    "\n",
    "test_hamiltonians = []\n",
    "\n",
    "for d in test_points:\n",
    "    symbols = [\"Li\", \"H\"]\n",
    "    coordinates = np.array([0.0, 0.0, 0.0, 0.0, 0.0, d]) \n",
    "    \n",
    "    hamiltonian, _ = qml.qchem.molecular_hamiltonian(\n",
    "        symbols,\n",
    "        coordinates,\n",
    "        method=\"pyscf\",\n",
    "    )    \n",
    "    \n",
    "    test_hamiltonians.append(hamiltonian)\n",
    "    \n"
   ]
  },
  {
   "cell_type": "code",
   "execution_count": null,
   "id": "3ad9aec7",
   "metadata": {},
   "outputs": [],
   "source": [
    "## Get Full COnfiguration Integration (FCI) data to compare\n",
    "## Notice there are several ways to run FCI in pyscf: https://pyscf.org/user/ci.html\n",
    "import pyscf\n",
    "fci_energies = []\n",
    "\n",
    "for d in test_points:\n",
    "    mol = pyscf.M(\n",
    "    atom = 'Li 0 0 0; H 0 0 {0}'.format(d),\n",
    "    basis = 'sto3g',\n",
    "    unit=\"Bohr\",       charge= 0,\n",
    "    spin= 0   \n",
    "    )\n",
    "\n",
    "    myhf = mol.RHF().run()\n",
    "\n",
    "    cisolver = pyscf.fci.FCI(myhf)\n",
    "    fci_energies.append(cisolver.kernel()[0])"
   ]
  },
  {
   "attachments": {},
   "cell_type": "markdown",
   "id": "17886ebb",
   "metadata": {},
   "source": [
    "### Linear Encoding\n",
    "\n",
    "$\\theta_{i} = w_{i} \\, R + \\phi_{i}$"
   ]
  },
  {
   "cell_type": "code",
   "execution_count": 3,
   "id": "5b32eb5c-a2dd-40eb-88ef-3f0eded2ec10",
   "metadata": {},
   "outputs": [],
   "source": [
    "def linear_encoding(param_array, r):\n",
    "    \"\"\"1-D array with alphas and betas. len(param_array) = 2 * len(weights) \n",
    "\n",
    "    Args:\n",
    "        param_array (float): alphas and betas for lineasr encoding\n",
    "        r(float): Hamiltonian parameter (in this case, distance)\n",
    "    \"\"\"\n",
    "    return param_array[::2]*r + param_array[1::2]"
   ]
  },
  {
   "attachments": {},
   "cell_type": "markdown",
   "id": "394f9cfd",
   "metadata": {},
   "source": [
    "### Gaussian Encoding\n",
    "\n",
    "$\\theta_{i} = \\alpha_{i} e^{\\beta_{i} (\\gamma_{i} - R)} + \\delta_{i}$"
   ]
  },
  {
   "cell_type": "code",
   "execution_count": 4,
   "id": "4e087c96",
   "metadata": {},
   "outputs": [],
   "source": [
    "def gaussian_encoding(param_array, r):\n",
    "    \"\"\"1-D array with alphas, betas, gammas and deltas. len(param_array) = 4 * len(weights) \n",
    "\n",
    "    Args:\n",
    "        param_array (float): , betas, gammas and deltas for gaussian encoding\n",
    "        r(float): Hamiltonian parameter (in this case, distance)\n",
    "    \"\"\"\n",
    "\n",
    "    exp_arg = param_array[1::4]*(param_array[2::4] - r)\n",
    "\n",
    "    return param_array[::4]*jnp.exp(exp_arg) + param_array[3::4]"
   ]
  },
  {
   "cell_type": "code",
   "execution_count": 5,
   "id": "a3d35b38-49f2-4c92-9b55-a4b630ad5baf",
   "metadata": {},
   "outputs": [
    {
     "name": "stdout",
     "output_type": "stream",
     "text": [
      "===== NUM OF PARAMETERS =====\n",
      "136\n"
     ]
    }
   ],
   "source": [
    "## Get shapes\n",
    "\n",
    "## For linear is 2\n",
    "## For Gaussian is 4\n",
    "ENCODING_MULTIPLIER= ENCODER_MULTIPLIER_DICT[ENCODER]\n",
    "\n",
    "if(ENCODER == 1):\n",
    "    ENCODER_FUNC =linear_encoding\n",
    "else:\n",
    "    ENCODER_FUNC =gaussian_encoding\n",
    "\n",
    "num_params = (WIRES + LAYERS*(WIRES-1)*2)*ENCODING_MULTIPLIER\n",
    "\n",
    "shapes = qml.SimplifiedTwoDesign.shape(n_layers=LAYERS, n_wires=WIRES)\n",
    "weights = np.random.random(num_params)\n",
    "\n",
    "print(\"===== NUM OF PARAMETERS =====\")\n",
    "print(num_params)"
   ]
  },
  {
   "cell_type": "code",
   "execution_count": 6,
   "id": "cd73135a-5a02-4fa5-906c-f852cfbb652f",
   "metadata": {},
   "outputs": [],
   "source": [
    "##Run for all points without training\n",
    "\n",
    "@qml.qnode(shared_dev)\n",
    "def catalyst_simplified_two_design(params, hamiltonian):\n",
    "\n",
    "    shapes = qml.SimplifiedTwoDesign.shape(n_layers=LAYERS, n_wires=WIRES)\n",
    "\n",
    "    init_weights, weights = np.reshape(params[:qubits],shapes[0]), np.reshape(params[qubits:],shapes[1])\n",
    "\n",
    "    qml.SimplifiedTwoDesign(initial_layer_weights=init_weights, weights=weights, wires=range(WIRES))\n",
    "\n",
    "    return qml.expval(\n",
    "        qml.Hamiltonian(np.array(hamiltonian.coeffs), hamiltonian.ops)\n",
    "    )  "
   ]
  },
  {
   "attachments": {},
   "cell_type": "markdown",
   "id": "26497f40",
   "metadata": {},
   "source": [
    "### Cost Function\n",
    "\n",
    "Sum of energies for each configuration (separation)\n",
    "\n",
    "$C(\\vec{\\theta}) = \\sum_{i=1}^{M} \\bra{\\psi_{i}} \\hat{H}(\\vec{\\lambda}_{i}) \\ket{\\psi_{i}}$\n"
   ]
  },
  {
   "cell_type": "code",
   "execution_count": 7,
   "id": "c211e648-3189-4ec5-9585-66183b142bca",
   "metadata": {},
   "outputs": [
    {
     "name": "stdout",
     "output_type": "stream",
     "text": [
      "[0. 0. 0. 0. 0. 1.]\n",
      "[0. 0. 0. 0. 0. 2.]\n",
      "[0. 0. 0. 0. 0. 3.]\n",
      "[0. 0. 0. 0. 0. 4.]\n",
      "[0. 0. 0. 0. 0. 5.]\n"
     ]
    }
   ],
   "source": [
    "from jax.core import ShapedArray\n",
    "\n",
    "@qjit\n",
    "def energy_simplified_two_design(params: ShapedArray(shape=(num_params,), dtype=jnp.float64)):\n",
    "\n",
    "    energies = []   \n",
    "\n",
    "    for r in train_points:\n",
    "   \n",
    "        def catalyst_simplified_two_design(params):\n",
    "        \n",
    "            symbols = [\"Li\", \"H\"]\n",
    "            coordinates = np.array([0.0, 0.0, 0.0, 0.0, 0.0, r])     \n",
    "            \n",
    "            # Building the molecular hamiltonian for LiH\n",
    "            hamiltonian, qubits = qml.qchem.molecular_hamiltonian(\n",
    "                symbols,\n",
    "                coordinates,\n",
    "                method=\"pyscf\",\n",
    "            )\n",
    "            \n",
    "            print(coordinates)           \n",
    "            \n",
    "            shapes = qml.SimplifiedTwoDesign.shape(n_layers=LAYERS, n_wires=qubits)   \n",
    "\n",
    "            weights_encoded =  ENCODER_FUNC(params, r)       \n",
    "\n",
    "            init_weights, weights = np.reshape(weights_encoded[:qubits],shapes[0]), np.reshape(weights_encoded[qubits:],shapes[1])\n",
    "\n",
    "            qml.SimplifiedTwoDesign(initial_layer_weights=init_weights, weights=weights, wires=range(qubits))\n",
    "\n",
    "            return qml.expval(\n",
    "                qml.Hamiltonian(np.array(hamiltonian.coeffs), hamiltonian.ops)\n",
    "            )  \n",
    "                \n",
    "        circuit = qml.QNode(catalyst_simplified_two_design, shared_dev)\n",
    "        \n",
    "        energies.append(circuit(params))\n",
    "        \n",
    "    join_energy = jnp.sum(jnp.array(energies))\n",
    "\n",
    "\n",
    "    \n",
    "    return join_energy/len(train_points) "
   ]
  },
  {
   "attachments": {},
   "cell_type": "markdown",
   "id": "0a7648a1",
   "metadata": {},
   "source": [
    "### Circuit gradients"
   ]
  },
  {
   "cell_type": "code",
   "execution_count": 8,
   "id": "11410775",
   "metadata": {},
   "outputs": [
    {
     "name": "stdout",
     "output_type": "stream",
     "text": [
      "[0. 0. 0. 0. 0. 1.]\n",
      "[0. 0. 0. 0. 0. 2.]\n",
      "[0. 0. 0. 0. 0. 3.]\n",
      "[0. 0. 0. 0. 0. 4.]\n",
      "[0. 0. 0. 0. 0. 5.]\n"
     ]
    }
   ],
   "source": [
    "from jax.core import ShapedArray\n",
    "\n",
    "@qjit\n",
    "def gradient_simplified_two_design(params: ShapedArray(shape=(num_params,), dtype=jnp.float64)):\n",
    "\n",
    "    gradients = []\n",
    "\n",
    "    for r in train_points:\n",
    "   \n",
    "        def catalyst_simplified_two_design(params):\n",
    "        \n",
    "            symbols = [\"Li\", \"H\"]\n",
    "            coordinates = np.array([0.0, 0.0, 0.0, 0.0, 0.0, r])     \n",
    "            \n",
    "            # Building the molecular hamiltonian for LiH\n",
    "            hamiltonian, qubits = qml.qchem.molecular_hamiltonian(\n",
    "                symbols,\n",
    "                coordinates,\n",
    "                method=\"pyscf\",\n",
    "            )\n",
    "            \n",
    "            print(coordinates)           \n",
    "            \n",
    "            shapes = qml.SimplifiedTwoDesign.shape(n_layers=LAYERS, n_wires=qubits)   \n",
    "\n",
    "            weights_encoded =  ENCODER_FUNC(params, r)       \n",
    "\n",
    "            init_weights, weights = np.reshape(weights_encoded[:qubits],shapes[0]), np.reshape(weights_encoded[qubits:],shapes[1])\n",
    "\n",
    "            qml.SimplifiedTwoDesign(initial_layer_weights=init_weights, weights=weights, wires=range(qubits))\n",
    "\n",
    "            return qml.expval(\n",
    "                qml.Hamiltonian(np.array(hamiltonian.coeffs), hamiltonian.ops)\n",
    "            )  \n",
    "                \n",
    "        circuit = qml.QNode(catalyst_simplified_two_design, shared_dev)\n",
    "        \n",
    "        gradients.append(catalyst.grad(circuit, method = GRADIENT_METHOD )(params))\n",
    "        \n",
    "    all_gradients = jnp.array(gradients)\n",
    "    joined_gradients = jnp.sum(jnp.array([all_gradients[i][0] for i in range(len(all_gradients))]), axis=0)\n",
    "\n",
    "    \n",
    "    return joined_gradients/len(train_points)"
   ]
  },
  {
   "cell_type": "code",
   "execution_count": 9,
   "id": "a628bc64-816f-4a9f-8e1d-7839e46eb1ba",
   "metadata": {},
   "outputs": [
    {
     "data": {
      "text/plain": [
       "Array(-3.32853482, dtype=float64)"
      ]
     },
     "execution_count": 9,
     "metadata": {},
     "output_type": "execute_result"
    }
   ],
   "source": [
    "energy_simplified_two_design(weights)\n"
   ]
  },
  {
   "cell_type": "code",
   "execution_count": 10,
   "id": "beb851ba",
   "metadata": {},
   "outputs": [
    {
     "data": {
      "text/plain": [
       "Array([-2.25745793e-01,  1.24338824e-02, -5.95356653e-03, -7.27517772e-01,\n",
       "       -9.42972521e-01,  7.18287256e-01, -1.85356770e-02, -1.12794080e+00,\n",
       "        2.75204905e-01, -2.59335527e-01,  5.41880398e-02,  4.15432628e-01,\n",
       "       -7.79683269e-02,  3.12045962e-02, -2.66144973e-02, -1.36943948e-01,\n",
       "        2.46659138e-02, -3.02961212e-04,  1.25650601e-05,  3.30109415e-02,\n",
       "       -9.79428272e-03,  5.07699127e-03, -1.38138301e-03, -2.44228717e-02,\n",
       "        4.99351405e-03, -1.54031188e-03,  7.72833353e-04,  2.81717192e-02,\n",
       "       -1.02779056e-02,  1.04761551e-02, -2.74884027e-03, -1.79334858e-02,\n",
       "       -9.96033567e-03,  3.64709152e-04, -2.62182276e-04, -1.52484834e-02,\n",
       "       -1.44751713e-02,  2.70331535e-02, -3.02550873e-04, -1.50926702e-02,\n",
       "       -3.07654391e-02,  5.43499734e-03, -1.04024043e-02, -5.26643280e-02,\n",
       "        9.45786880e-02, -8.89909968e-02,  5.54736941e-02,  1.96234801e-01,\n",
       "       -7.15302048e-01,  3.02420561e-01, -4.55802951e-03, -7.87941208e-01,\n",
       "       -4.26455567e-01,  3.41238072e-01, -5.31821343e-02, -1.16753057e+00,\n",
       "        9.88775142e-02, -2.13780948e-02,  1.75527006e-02,  2.23436674e-01,\n",
       "       -1.80011801e-02,  3.74577080e-03, -3.51706220e-03, -7.97875934e-02,\n",
       "        2.62554529e-02, -3.42047359e-02,  4.05162925e-03,  3.70453552e-02,\n",
       "       -3.10653281e-03,  5.78761927e-04, -4.39285053e-04, -7.40312522e-03,\n",
       "        8.55625970e-03, -3.66021879e-03,  1.98665262e-03,  3.89358803e-02,\n",
       "       -3.17989635e-03,  2.22991048e-03, -2.50134224e-03, -1.12738094e-02,\n",
       "       -7.38408179e-03,  4.51693438e-03, -3.86608168e-03, -1.05837366e-02,\n",
       "       -1.52842281e-02,  1.44954448e-03, -9.47766310e-05, -1.70831083e-02,\n",
       "       -3.35861943e-02,  1.45071413e-02, -3.95226962e-04, -3.70444448e-02,\n",
       "        6.11467019e-02, -2.66041571e-02,  2.20395213e-02,  1.53012012e-01,\n",
       "       -6.16063028e-01,  1.16991622e-01, -1.77821535e-02, -1.26822584e+00,\n",
       "        1.69886150e-03,  3.08136006e-03,  6.97953695e-04, -4.58097453e-02,\n",
       "        4.89491914e-03, -2.29195862e-03,  2.42972220e-03, -3.33093642e-03,\n",
       "        2.06649275e-03, -4.74212669e-04,  4.41234604e-04, -1.00933129e-03,\n",
       "        4.07302458e-03,  3.84551058e-04,  9.79566650e-04, -6.85444679e-03,\n",
       "        1.22050299e-02, -1.33548745e-02,  4.79516871e-03,  2.90149913e-02,\n",
       "        3.51851499e-02, -6.81611390e-02,  9.43474632e-04,  3.79804659e-02,\n",
       "        3.12842809e-02, -2.21854597e-02,  7.30882377e-03,  7.39820765e-02,\n",
       "        2.11280371e-02, -6.57597177e-03,  9.02125485e-04,  4.38024665e-02,\n",
       "        4.54271714e-02, -5.80608930e-02,  2.63992117e-02,  1.42011569e-01],      dtype=float64)"
      ]
     },
     "execution_count": 10,
     "metadata": {},
     "output_type": "execute_result"
    }
   ],
   "source": [
    "gradient_simplified_two_design(weights)"
   ]
  },
  {
   "cell_type": "code",
   "execution_count": 11,
   "id": "6c70936e",
   "metadata": {},
   "outputs": [],
   "source": [
    "def gradient_descent(fun,x0, stepsize=0.1, tol=1e-4,maxiter=100, verbose = False, **options):\n",
    "\n",
    "    new_params = jnp.array(x0)\n",
    "    ref_energy = energy_simplified_two_design(new_params)\n",
    "    \n",
    "    energy_evolution = [ref_energy]    \n",
    "\n",
    "    niter = 0\n",
    "\n",
    "    for i in range(maxiter):\n",
    "        niter +=1\n",
    "        grad = gradient_simplified_two_design(new_params)\n",
    "\n",
    "        new_params -= grad*stepsize\n",
    "\n",
    "        new_energy = energy_simplified_two_design(new_params)\n",
    "        \n",
    "        energy_evolution.append(new_energy)\n",
    "        \n",
    "        if(verbose and i%10 == 0):\n",
    "            print(\"Gradient Descent - Step: \", i, \" Cost: \", new_energy)\n",
    "\n",
    "        if(np.abs(new_energy-ref_energy) < tol):\n",
    "            break\n",
    "        else:\n",
    "            ref_energy = new_energy\n",
    "            \n",
    "    TRAINING_ENERGIES[\"gradient_descent\"][\"energies\"].append(energy_evolution)\n",
    "    TRAINING_ENERGIES[\"gradient_descent\"][\"trained_meta_vars\"].append(new_params)\n",
    "    \n",
    "    print(\"Finished Gradient Descent training\")\n",
    "\n",
    "    return OptimizeResult(x=new_params, nit=niter)\n"
   ]
  },
  {
   "cell_type": "code",
   "execution_count": 12,
   "id": "76904612",
   "metadata": {},
   "outputs": [],
   "source": [
    "def spsa_optimizer(fun, x0, maxiter=100,alpha=0.602,gamma=0.101, c=0.2, A=None, a=None, tol=1e-4, verbose = False, **options):\n",
    "    new_params = jnp.array(x0)\n",
    "    ref_energy = energy_simplified_two_design(new_params)\n",
    "    \n",
    "    energy_evolution = [ref_energy]       \n",
    "\n",
    "    if not A:\n",
    "        A = maxiter * 0.1\n",
    "\n",
    "    if not a:\n",
    "        a = 0.05 * (A + 1) ** alpha        \n",
    "\n",
    "    niter = 0\n",
    "\n",
    "    for i in range(maxiter):\n",
    "        niter +=1\n",
    "\n",
    "        ak=a/np.power(i+1+A,alpha)\n",
    "        ck=c/np.power(i+1,gamma)\n",
    "\n",
    "        delta = np.random.choice([-1, 1], size=x0.shape)\n",
    "\n",
    "        thetaplus=new_params+ck*delta\n",
    "        thetaminus=new_params-ck*delta\n",
    "        yplus=energy_simplified_two_design(thetaplus)\n",
    "        yminus=energy_simplified_two_design(thetaminus)  \n",
    "\n",
    "        grad = jnp.array([(yplus - yminus) / (2 * ck * di) for di in delta]  )\n",
    "\n",
    "        new_params -= ak*grad\n",
    "\n",
    "        new_energy = energy_simplified_two_design(new_params)\n",
    "        \n",
    "        energy_evolution.append(new_energy)  \n",
    "        \n",
    "        if(verbose and i%10 == 0):\n",
    "            print(\"SPSA - Step: \", i, \" Cost: \", new_energy)        \n",
    "\n",
    "        if(np.abs(new_energy-ref_energy) < tol):\n",
    "            break\n",
    "        else:\n",
    "            ref_energy = new_energy\n",
    "            \n",
    "    TRAINING_ENERGIES[\"spsa\"][\"energies\"].append(energy_evolution)\n",
    "    TRAINING_ENERGIES[\"spsa\"][\"trained_meta_vars\"].append(new_params)  \n",
    "    \n",
    "    print(\"Finished SPSA training\")\n",
    "    \n",
    "\n",
    "    return OptimizeResult(x=new_params, nit=niter)    "
   ]
  },
  {
   "cell_type": "code",
   "execution_count": 13,
   "id": "1fb58d8b",
   "metadata": {},
   "outputs": [],
   "source": [
    "def adam(fun, x0, maxiter=100,stepsize=0.01, beta1=0.9, beta2=0.99, tol=1e-4,eps=1e-08, verbose = False, **options):\n",
    "    new_params = jnp.array(x0)\n",
    "    ref_energy = energy_simplified_two_design(new_params)\n",
    "    \n",
    "    energy_evolution = [ref_energy] \n",
    "      \n",
    "    m = jnp.zeros_like(x0)\n",
    "    v = jnp.zeros_like(x0)\n",
    "\n",
    "    niter = 0\n",
    "\n",
    "    for i in range(maxiter):\n",
    "        niter +=1\n",
    "\n",
    "        grad = gradient_simplified_two_design(new_params)\n",
    "\n",
    "        m = beta1*m + (1-beta1)*grad\n",
    "        v = beta2*v + (1-beta2)*jnp.square(grad)\n",
    "\n",
    "        mhat = m/(1-beta1**(i+1))\n",
    "\n",
    "        vhat = v/(1-beta2**(i+1))\n",
    "\n",
    "        step = mhat/(jnp.array([np.sqrt(vhat_i) + eps for vhat_i in vhat]) )\n",
    "\n",
    "\n",
    "        new_params -= stepsize*step\n",
    "\n",
    "        new_energy = energy_simplified_two_design(new_params)\n",
    "        \n",
    "        energy_evolution.append(new_energy)     \n",
    "        \n",
    "        if(verbose and i%10 == 0):\n",
    "            print(\"ADAM - Step: \", i, \" Cost: \", new_energy)        \n",
    "\n",
    "        if(np.abs(new_energy-ref_energy) < tol):\n",
    "            break\n",
    "        else:\n",
    "            ref_energy = new_energy\n",
    "            \n",
    "    TRAINING_ENERGIES[\"adam\"][\"energies\"].append(energy_evolution)\n",
    "    TRAINING_ENERGIES[\"adam\"][\"trained_meta_vars\"].append(new_params)  \n",
    "    \n",
    "    print(\"Finished ADAM training\")\n",
    "    \n",
    "\n",
    "    return OptimizeResult(x=new_params, nit=niter)    "
   ]
  },
  {
   "cell_type": "code",
   "execution_count": 14,
   "id": "fc328174",
   "metadata": {},
   "outputs": [
    {
     "name": "stdout",
     "output_type": "stream",
     "text": [
      "Gradient Descent - Step:  0  Cost:  -4.196150850690349\n",
      "Gradient Descent - Step:  10  Cost:  -6.391984824129028\n",
      "Gradient Descent - Step:  20  Cost:  -7.08330512157147\n",
      "Gradient Descent - Step:  30  Cost:  -7.302380179958497\n",
      "Gradient Descent - Step:  40  Cost:  -7.377970712213511\n",
      "Gradient Descent - Step:  50  Cost:  -7.411014103745825\n",
      "Gradient Descent - Step:  60  Cost:  -7.430296573017583\n",
      "Gradient Descent - Step:  70  Cost:  -7.443755426113685\n",
      "Gradient Descent - Step:  80  Cost:  -7.454062370303478\n",
      "Gradient Descent - Step:  90  Cost:  -7.462337293169808\n",
      "Gradient Descent - Step:  100  Cost:  -7.469162037407843\n",
      "Gradient Descent - Step:  110  Cost:  -7.474894003600369\n",
      "Gradient Descent - Step:  120  Cost:  -7.479778042640831\n",
      "Gradient Descent - Step:  130  Cost:  -7.483992068448489\n",
      "Gradient Descent - Step:  140  Cost:  -7.487668893713321\n",
      "Gradient Descent - Step:  150  Cost:  -7.490908722929722\n",
      "Gradient Descent - Step:  160  Cost:  -7.493787537457256\n",
      "Gradient Descent - Step:  170  Cost:  -7.496363156576436\n",
      "Gradient Descent - Step:  180  Cost:  -7.498679751397271\n",
      "Gradient Descent - Step:  190  Cost:  -7.500771269297165\n",
      "Finished Gradient Descent training\n",
      "SPSA - Step:  0  Cost:  -4.342014798284765\n",
      "SPSA - Step:  10  Cost:  -5.505249241843824\n",
      "SPSA - Step:  20  Cost:  -5.959244715810249\n",
      "SPSA - Step:  30  Cost:  -5.866204915041604\n",
      "SPSA - Step:  40  Cost:  -6.473395512022833\n",
      "SPSA - Step:  50  Cost:  -6.5938471147382725\n",
      "SPSA - Step:  60  Cost:  -6.7759167185297\n",
      "SPSA - Step:  70  Cost:  -6.885485991815607\n",
      "SPSA - Step:  80  Cost:  -6.925583309560035\n",
      "SPSA - Step:  90  Cost:  -6.955146606913142\n",
      "SPSA - Step:  100  Cost:  -7.058906742353171\n",
      "SPSA - Step:  110  Cost:  -7.054948402687659\n",
      "SPSA - Step:  120  Cost:  -7.103131687897831\n",
      "SPSA - Step:  130  Cost:  -7.129936810615055\n",
      "SPSA - Step:  140  Cost:  -7.174894835227354\n",
      "SPSA - Step:  150  Cost:  -7.202377482778995\n",
      "SPSA - Step:  160  Cost:  -7.21850856700363\n",
      "SPSA - Step:  170  Cost:  -7.211400070280843\n",
      "SPSA - Step:  180  Cost:  -7.22684152682414\n",
      "Finished SPSA training\n",
      "ADAM - Step:  0  Cost:  -3.464884993827899\n",
      "ADAM - Step:  10  Cost:  -4.88010605188643\n",
      "ADAM - Step:  20  Cost:  -5.842708505856012\n",
      "ADAM - Step:  30  Cost:  -6.57825648844374\n",
      "ADAM - Step:  40  Cost:  -6.8794698085983\n",
      "ADAM - Step:  50  Cost:  -7.153791570122617\n",
      "ADAM - Step:  60  Cost:  -7.302333266707182\n",
      "ADAM - Step:  70  Cost:  -7.406395582447486\n",
      "ADAM - Step:  80  Cost:  -7.473298793676923\n",
      "ADAM - Step:  90  Cost:  -7.5012676443858535\n",
      "ADAM - Step:  100  Cost:  -7.509984125876393\n",
      "ADAM - Step:  110  Cost:  -7.514145654931274\n",
      "ADAM - Step:  120  Cost:  -7.517077472928551\n",
      "ADAM - Step:  130  Cost:  -7.518947392972068\n",
      "ADAM - Step:  140  Cost:  -7.520207311498629\n",
      "ADAM - Step:  150  Cost:  -7.521191205873491\n",
      "ADAM - Step:  160  Cost:  -7.521972761052022\n",
      "ADAM - Step:  170  Cost:  -7.522582748254377\n",
      "ADAM - Step:  180  Cost:  -7.523071656391629\n",
      "ADAM - Step:  190  Cost:  -7.523473472019042\n",
      "Finished ADAM training\n"
     ]
    }
   ],
   "source": [
    "res_gradient = minimize(energy_simplified_two_design, weights, method = gradient_descent, options = {'maxiter': 200, 'tol':1e-5, 'verbose':True})\n",
    "res_spsa = minimize(energy_simplified_two_design, weights, method = spsa_optimizer, options = {'maxiter': 200, 'tol':1e-5, 'verbose':True})\n",
    "res_adam = minimize(energy_simplified_two_design, weights, method = adam, options = {'maxiter': 200, 'tol':1e-5, 'verbose':True})"
   ]
  },
  {
   "cell_type": "code",
   "execution_count": 15,
   "id": "1b0c3853-60a7-4753-86e1-a13e35564c0b",
   "metadata": {},
   "outputs": [
    {
     "data": {
      "text/plain": [
       "<function matplotlib.pyplot.show(close=None, block=None)>"
      ]
     },
     "execution_count": 15,
     "metadata": {},
     "output_type": "execute_result"
    },
    {
     "data": {
      "image/png": "[encoded data removed]",
      "text/plain": [
       "<Figure size 640x480 with 1 Axes>"
      ]
     },
     "metadata": {},
     "output_type": "display_data"
    }
   ],
   "source": [
    "plt.scatter([i for i in range(len(TRAINING_ENERGIES['gradient_descent']['energies'][-1]))],TRAINING_ENERGIES['gradient_descent']['energies'][-1], label=\"gradient descent\", marker='x')\n",
    "plt.scatter([i for i in range(len(TRAINING_ENERGIES['spsa']['energies'][-1]))],TRAINING_ENERGIES['spsa']['energies'][-1], label=\"spsa\", marker='x')\n",
    "plt.scatter([i for i in range(len(TRAINING_ENERGIES['adam']['energies'][-1]))],TRAINING_ENERGIES['adam']['energies'][-1], label=\"adam\", marker='x')\n",
    "\n",
    "plt.legend()\n",
    "plt.title('Meta Energies for training steep (finite diff)')\n",
    "plt.ylabel('Cost function')\n",
    "plt.xlabel('Training step')\n",
    "plt.show"
   ]
  },
  {
   "cell_type": "code",
   "execution_count": 22,
   "id": "6114acc1-caac-494b-944c-4fe878a70797",
   "metadata": {},
   "outputs": [
    {
     "name": "stdout",
     "output_type": "stream",
     "text": [
      "0.6\n",
      "0.8\n",
      "1.0\n",
      "1.2000000000000002\n",
      "1.4000000000000004\n",
      "1.6000000000000005\n",
      "1.8000000000000003\n",
      "2.0000000000000004\n",
      "2.2000000000000006\n",
      "2.400000000000001\n",
      "2.600000000000001\n",
      "2.8000000000000007\n",
      "3.000000000000001\n",
      "3.200000000000001\n",
      "3.400000000000001\n",
      "3.600000000000001\n",
      "3.800000000000001\n",
      "4.000000000000001\n",
      "4.200000000000001\n",
      "4.400000000000001\n",
      "4.600000000000001\n",
      "4.800000000000001\n",
      "5.000000000000001\n",
      "5.200000000000001\n",
      "5.400000000000001\n",
      "5.600000000000001\n",
      "5.800000000000002\n"
     ]
    }
   ],
   "source": [
    "trained_energies = {\"gradient_descent\":[], \"spsa\":[], \"adam\":[]}\n",
    "\n",
    "for count, d in enumerate(test_points):\n",
    "    print(d)\n",
    "    for k in trained_energies:\n",
    "        if ENCODER == 1:\n",
    "            encoded_params = linear_encoding(TRAINING_ENERGIES[k][\"trained_meta_vars\"][-1], d)\n",
    "        else:\n",
    "            encoded_params = gaussian_encoding(TRAINING_ENERGIES[k][\"trained_meta_vars\"][-1], d)\n",
    "        energy= catalyst_simplified_two_design(encoded_params,test_hamiltonians[count])\n",
    "        trained_energies[k].append(energy)"
   ]
  },
  {
   "cell_type": "code",
   "execution_count": 24,
   "id": "0e005ce1-6243-4419-a5ad-ab7fb8b6dfce",
   "metadata": {},
   "outputs": [
    {
     "data": {
      "text/plain": [
       "<function matplotlib.pyplot.show(close=None, block=None)>"
      ]
     },
     "execution_count": 24,
     "metadata": {},
     "output_type": "execute_result"
    },
    {
     "data": {
      "image/png": "[encoded data removed]",
      "text/plain": [
       "<Figure size 640x480 with 1 Axes>"
      ]
     },
     "metadata": {},
     "output_type": "display_data"
    }
   ],
   "source": [
    "plt.plot(test_points, trained_energies[\"gradient_descent\"], label=\"gradient_descent\", marker='o')\n",
    "plt.plot(test_points, trained_energies[\"spsa\"], label=\"spsa\", marker='o')\n",
    "plt.plot(test_points, trained_energies[\"adam\"], label=\"adam\", marker='o')\n",
    "plt.plot(test_points, fci_energies, label=\"FCI\", marker='-', color=\"r\")\n",
    "\n",
    "\n",
    "plt.legend()\n",
    "plt.title('Trained-Gaussian Encoding')\n",
    "plt.xlabel('Distance(a0)')\n",
    "plt.ylabel('Energy(Eh)')\n",
    "plt.show"
   ]
  },
  {
   "cell_type": "code",
   "execution_count": null,
   "id": "f6c88f22-f853-4964-bc34-cd33fe2bdc7a",
   "metadata": {},
   "outputs": [],
   "source": []
  }
 ],
 "metadata": {
  "environment": {
   "kernel": "python39",
   "name": "tf2-gpu.2-8.m107",
   "type": "gcloud",
   "uri": "gcr.io/deeplearning-platform-release/tf2-gpu.2-8:m107"
  },
  "kernelspec": {
   "display_name": "python39",
   "language": "python",
   "name": "python39"
  },
  "language_info": {
   "codemirror_mode": {
    "name": "ipython",
    "version": 3
   },
   "file_extension": ".py",
   "mimetype": "text/x-python",
   "name": "python",
   "nbconvert_exporter": "python",
   "pygments_lexer": "ipython3",
   "version": "3.9.16"
  }
 },
 "nbformat": 4,
 "nbformat_minor": 5
}
