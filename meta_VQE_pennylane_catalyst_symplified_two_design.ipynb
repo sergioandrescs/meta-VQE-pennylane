{
 "cells": [
  {
   "cell_type": "markdown",
   "id": "22e51aa6",
   "metadata": {},
   "source": [
    "# meta-VQE\n",
    "\n",
    "Hot to obtain a Potential Energy Surface (PES) plot without training for *all* the points of interest.\n",
    "\n",
    "## Keypoints\n",
    "\n",
    "* For a molecule, the Hamiltonian depends on the geometry (separation) of the atoms or nuclei\n",
    "* For simple, vanilla VQE, all the possible configurations (separations) in the molecule need to be trained separately\n",
    "* meta-VQE trains a few points (training points), encoding the original parameters $\\vec{\\theta}$ using metaparamers and a linear or Gaussian encoding.\n",
    "\n",
    "The code below uses Catalyst (from Xanadu) and JAX to optimize calculations"
   ]
  },
  {
   "cell_type": "code",
   "execution_count": 1,
   "id": "f9196990-aaaa-4a07-a3ad-56ddaf5cd7fb",
   "metadata": {},
   "outputs": [],
   "source": [
    "import catalyst\n",
    "from catalyst import qjit\n",
    "\n",
    "import pennylane as qml\n",
    "from pennylane import numpy as np\n",
    "import matplotlib.pyplot as plt\n",
    "\n",
    "from scipy.optimize import minimize, OptimizeResult\n",
    "\n",
    "import jax.numpy as jnp"
   ]
  },
  {
   "cell_type": "code",
   "execution_count": 2,
   "id": "04a30258-8faa-402d-9c44-43fc3f1788c1",
   "metadata": {},
   "outputs": [],
   "source": [
    "## Layers and wires for circuits\n",
    "\n",
    "symbols = [\"Li\", \"H\"]\n",
    "coordinates = np.array([0.0, 0.0, 0.0, 0.0, 0.0, 1.0])\n",
    "\n",
    "# Building the molecular hamiltonian for LiH\n",
    "hamiltonian, qubits = qml.qchem.molecular_hamiltonian(\n",
    "    symbols,\n",
    "    coordinates,\n",
    "    method=\"pyscf\",\n",
    ")\n",
    "\n",
    "LAYERS = 1\n",
    "WIRES = qubits\n",
    "\n",
    "## https://docs.pennylane.ai/projects/catalyst/en/latest/code/api/catalyst.grad.html - [\"fd\", \"ps\", \"adj\"]\n",
    "GRADIENT_METHOD= \"fd\"\n",
    "\n",
    "TRAINING_ENERGIES= {\"gradient_descent\":{\"energies\":[], \"trained_meta_vars\":[]},\n",
    "                    \"spsa\":{\"energies\":[], \"trained_meta_vars\":[]},\n",
    "                    \"adam\":{\"energies\":[], \"trained_meta_vars\":[]},\n",
    "                   }\n",
    "\n",
    "# Encoder: \n",
    "# Linear -> 1\n",
    "# Gaussian -> 2\n",
    "\n",
    "ENCODER_MULTIPLIER_DICT = {1:2,\n",
    "                      2:4}\n",
    "\n",
    "ENCODER = 2\n",
    "\n",
    "shared_dev = qml.device(\"lightning.qubit\", wires=WIRES)\n",
    "\n",
    "symbols = [\"Li\", \"H\"]\n",
    "\n",
    "train_points = [1.0,2.0,3.0,4.0,5.0]\n",
    "\n",
    "test_points = np.arange(0.6,6,0.2)\n",
    "\n",
    "test_hamiltonians = []\n",
    "\n",
    "for d in test_points:\n",
    "    symbols = [\"Li\", \"H\"]\n",
    "    coordinates = np.array([0.0, 0.0, 0.0, 0.0, 0.0, d]) \n",
    "    \n",
    "    hamiltonian, _ = qml.qchem.molecular_hamiltonian(\n",
    "        symbols,\n",
    "        coordinates,\n",
    "        method=\"pyscf\",\n",
    "    )    \n",
    "    \n",
    "    test_hamiltonians.append(hamiltonian)\n",
    "    \n"
   ]
  },
  {
   "cell_type": "code",
   "execution_count": 3,
   "id": "3ad9aec7",
   "metadata": {},
   "outputs": [
    {
     "name": "stdout",
     "output_type": "stream",
     "text": [
      "converged SCF energy = -6.02157244857363\n",
      "converged SCF energy = -6.72747356247358\n",
      "converged SCF energy = -7.11880142366756\n",
      "converged SCF energy = -7.37263783011286\n",
      "converged SCF energy = -7.54470387022913\n",
      "converged SCF energy = -7.66194676645088\n",
      "converged SCF energy = -7.74106569060784\n",
      "converged SCF energy = -7.79355423278769\n",
      "converged SCF energy = -7.82737984641796\n",
      "converged SCF energy = -7.84797848019529\n",
      "converged SCF energy = -7.8590591475496\n",
      "converged SCF energy = -7.86320119668109\n",
      "converged SCF energy = -7.86224631041033\n",
      "converged SCF energy = -7.8575404067269\n",
      "converged SCF energy = -7.85008329528038\n",
      "converged SCF energy = -7.84062543284161\n",
      "converged SCF energy = -7.82973402578066\n",
      "converged SCF energy = -7.81784041501293\n",
      "converged SCF energy = -7.80527531447719\n",
      "converged SCF energy = -7.79229562714197\n",
      "converged SCF energy = -7.77910492237929\n",
      "converged SCF energy = -7.76586872057956\n",
      "converged SCF energy = -7.75272529534887\n",
      "converged SCF energy = -7.73979262352748\n",
      "converged SCF energy = -7.72717222495411\n",
      "converged SCF energy = -7.71495077353408\n",
      "converged SCF energy = -7.70320040671124\n"
     ]
    }
   ],
   "source": [
    "## Get Full COnfiguration Integration (FCI) data to compare\n",
    "## Notice there are several ways to run FCI in pyscf: https://pyscf.org/user/ci.html\n",
    "import pyscf\n",
    "fci_energies = []\n",
    "\n",
    "for d in test_points:\n",
    "    mol = pyscf.M(\n",
    "    atom = 'Li 0 0 0; H 0 0 {0}'.format(d),\n",
    "    basis = 'sto3g',\n",
    "    unit=\"Bohr\",       charge= 0,\n",
    "    spin= 0   \n",
    "    )\n",
    "\n",
    "    myhf = mol.RHF().run()\n",
    "\n",
    "    cisolver = pyscf.fci.FCI(myhf)\n",
    "    fci_energies.append(cisolver.kernel()[0])"
   ]
  },
  {
   "cell_type": "markdown",
   "id": "17886ebb",
   "metadata": {},
   "source": [
    "### Linear Encoding\n",
    "\n",
    "$\\theta_{i} = w_{i} \\, R + \\phi_{i}$"
   ]
  },
  {
   "cell_type": "code",
   "execution_count": 4,
   "id": "5b32eb5c-a2dd-40eb-88ef-3f0eded2ec10",
   "metadata": {},
   "outputs": [],
   "source": [
    "def linear_encoding(param_array, r):\n",
    "    \"\"\"1-D array with alphas and betas. len(param_array) = 2 * len(weights) \n",
    "\n",
    "    Args:\n",
    "        param_array (float): alphas and betas for lineasr encoding\n",
    "        r(float): Hamiltonian parameter (in this case, distance)\n",
    "    \"\"\"\n",
    "    return param_array[::2]*r + param_array[1::2]"
   ]
  },
  {
   "cell_type": "markdown",
   "id": "394f9cfd",
   "metadata": {},
   "source": [
    "### Gaussian Encoding\n",
    "\n",
    "$\\theta_{i} = \\alpha_{i} e^{\\beta_{i} (\\gamma_{i} - R)} + \\delta_{i}$"
   ]
  },
  {
   "cell_type": "code",
   "execution_count": 5,
   "id": "4e087c96",
   "metadata": {},
   "outputs": [],
   "source": [
    "def gaussian_encoding(param_array, r):\n",
    "    \"\"\"1-D array with alphas, betas, gammas and deltas. len(param_array) = 4 * len(weights) \n",
    "\n",
    "    Args:\n",
    "        param_array (float): , betas, gammas and deltas for gaussian encoding\n",
    "        r(float): Hamiltonian parameter (in this case, distance)\n",
    "    \"\"\"\n",
    "\n",
    "    exp_arg = param_array[1::4]*(param_array[2::4] - r)\n",
    "\n",
    "    return param_array[::4]*jnp.exp(exp_arg) + param_array[3::4]"
   ]
  },
  {
   "cell_type": "code",
   "execution_count": 6,
   "id": "a3d35b38-49f2-4c92-9b55-a4b630ad5baf",
   "metadata": {},
   "outputs": [
    {
     "name": "stdout",
     "output_type": "stream",
     "text": [
      "===== NUM OF PARAMETERS =====\n",
      "136\n"
     ]
    }
   ],
   "source": [
    "## Get shapes\n",
    "\n",
    "## For linear is 2\n",
    "## For Gaussian is 4\n",
    "ENCODING_MULTIPLIER= ENCODER_MULTIPLIER_DICT[ENCODER]\n",
    "\n",
    "if(ENCODER == 1):\n",
    "    ENCODER_FUNC =linear_encoding\n",
    "else:\n",
    "    ENCODER_FUNC =gaussian_encoding\n",
    "\n",
    "num_params = (WIRES + LAYERS*(WIRES-1)*2)*ENCODING_MULTIPLIER\n",
    "\n",
    "shapes = qml.SimplifiedTwoDesign.shape(n_layers=LAYERS, n_wires=WIRES)\n",
    "weights = np.random.random(num_params)\n",
    "\n",
    "print(\"===== NUM OF PARAMETERS =====\")\n",
    "print(num_params)"
   ]
  },
  {
   "cell_type": "code",
   "execution_count": 7,
   "id": "cd73135a-5a02-4fa5-906c-f852cfbb652f",
   "metadata": {},
   "outputs": [],
   "source": [
    "##Run for all points without training\n",
    "\n",
    "@qml.qnode(shared_dev)\n",
    "def catalyst_simplified_two_design(params, hamiltonian):\n",
    "\n",
    "    shapes = qml.SimplifiedTwoDesign.shape(n_layers=LAYERS, n_wires=WIRES)\n",
    "\n",
    "    init_weights, weights = np.reshape(params[:qubits],shapes[0]), np.reshape(params[qubits:],shapes[1])\n",
    "\n",
    "    qml.SimplifiedTwoDesign(initial_layer_weights=init_weights, weights=weights, wires=range(WIRES))\n",
    "\n",
    "    return qml.expval(\n",
    "        qml.Hamiltonian(np.array(hamiltonian.coeffs), hamiltonian.ops)\n",
    "    )  "
   ]
  },
  {
   "cell_type": "markdown",
   "id": "26497f40",
   "metadata": {},
   "source": [
    "### Cost Function\n",
    "\n",
    "Sum of energies for each configuration (separation)\n",
    "\n",
    "$C(\\vec{\\theta}) = \\sum_{i=1}^{M} \\bra{\\psi_{i}} \\hat{H}(\\vec{\\lambda}_{i}) \\ket{\\psi_{i}}$\n"
   ]
  },
  {
   "cell_type": "code",
   "execution_count": 8,
   "id": "c211e648-3189-4ec5-9585-66183b142bca",
   "metadata": {},
   "outputs": [
    {
     "name": "stdout",
     "output_type": "stream",
     "text": [
      "[0. 0. 0. 0. 0. 1.]\n",
      "[0. 0. 0. 0. 0. 2.]\n",
      "[0. 0. 0. 0. 0. 3.]\n",
      "[0. 0. 0. 0. 0. 4.]\n",
      "[0. 0. 0. 0. 0. 5.]\n"
     ]
    }
   ],
   "source": [
    "from jax.core import ShapedArray\n",
    "\n",
    "@qjit\n",
    "def energy_simplified_two_design(params: ShapedArray(shape=(num_params,), dtype=jnp.float64)):\n",
    "\n",
    "    energies = []   \n",
    "\n",
    "    for r in train_points:\n",
    "   \n",
    "        def catalyst_simplified_two_design(params):\n",
    "        \n",
    "            symbols = [\"Li\", \"H\"]\n",
    "            coordinates = np.array([0.0, 0.0, 0.0, 0.0, 0.0, r])     \n",
    "            \n",
    "            # Building the molecular hamiltonian for LiH\n",
    "            hamiltonian, qubits = qml.qchem.molecular_hamiltonian(\n",
    "                symbols,\n",
    "                coordinates,\n",
    "                method=\"pyscf\",\n",
    "            )\n",
    "            \n",
    "            print(coordinates)           \n",
    "            \n",
    "            shapes = qml.SimplifiedTwoDesign.shape(n_layers=LAYERS, n_wires=qubits)   \n",
    "\n",
    "            weights_encoded =  ENCODER_FUNC(params, r)       \n",
    "\n",
    "            init_weights, weights = np.reshape(weights_encoded[:qubits],shapes[0]), np.reshape(weights_encoded[qubits:],shapes[1])\n",
    "\n",
    "            qml.SimplifiedTwoDesign(initial_layer_weights=init_weights, weights=weights, wires=range(qubits))\n",
    "\n",
    "            return qml.expval(\n",
    "                qml.Hamiltonian(np.array(hamiltonian.coeffs), hamiltonian.ops)\n",
    "            )  \n",
    "                \n",
    "        circuit = qml.QNode(catalyst_simplified_two_design, shared_dev)\n",
    "        \n",
    "        energies.append(circuit(params))\n",
    "        \n",
    "    join_energy = jnp.sum(jnp.array(energies))\n",
    "\n",
    "\n",
    "    \n",
    "    return join_energy/len(train_points) "
   ]
  },
  {
   "cell_type": "markdown",
   "id": "0a7648a1",
   "metadata": {},
   "source": [
    "### Circuit gradients"
   ]
  },
  {
   "cell_type": "code",
   "execution_count": 9,
   "id": "11410775",
   "metadata": {},
   "outputs": [
    {
     "name": "stdout",
     "output_type": "stream",
     "text": [
      "[0. 0. 0. 0. 0. 1.]\n",
      "[0. 0. 0. 0. 0. 2.]\n",
      "[0. 0. 0. 0. 0. 3.]\n",
      "[0. 0. 0. 0. 0. 4.]\n",
      "[0. 0. 0. 0. 0. 5.]\n"
     ]
    }
   ],
   "source": [
    "from jax.core import ShapedArray\n",
    "\n",
    "@qjit\n",
    "def gradient_simplified_two_design(params: ShapedArray(shape=(num_params,), dtype=jnp.float64)):\n",
    "\n",
    "    gradients = []\n",
    "\n",
    "    for r in train_points:\n",
    "   \n",
    "        def catalyst_simplified_two_design(params):\n",
    "        \n",
    "            symbols = [\"Li\", \"H\"]\n",
    "            coordinates = np.array([0.0, 0.0, 0.0, 0.0, 0.0, r])     \n",
    "            \n",
    "            # Building the molecular hamiltonian for LiH\n",
    "            hamiltonian, qubits = qml.qchem.molecular_hamiltonian(\n",
    "                symbols,\n",
    "                coordinates,\n",
    "                method=\"pyscf\",\n",
    "            )\n",
    "            \n",
    "            print(coordinates)           \n",
    "            \n",
    "            shapes = qml.SimplifiedTwoDesign.shape(n_layers=LAYERS, n_wires=qubits)   \n",
    "\n",
    "            weights_encoded =  ENCODER_FUNC(params, r)       \n",
    "\n",
    "            init_weights, weights = np.reshape(weights_encoded[:qubits],shapes[0]), np.reshape(weights_encoded[qubits:],shapes[1])\n",
    "\n",
    "            qml.SimplifiedTwoDesign(initial_layer_weights=init_weights, weights=weights, wires=range(qubits))\n",
    "\n",
    "            return qml.expval(\n",
    "                qml.Hamiltonian(np.array(hamiltonian.coeffs), hamiltonian.ops)\n",
    "            )  \n",
    "                \n",
    "        circuit = qml.QNode(catalyst_simplified_two_design, shared_dev)\n",
    "        \n",
    "        gradients.append(catalyst.grad(circuit, method = GRADIENT_METHOD )(params))\n",
    "        \n",
    "    all_gradients = jnp.array(gradients)\n",
    "    joined_gradients = jnp.sum(jnp.array([all_gradients[i][0] for i in range(len(all_gradients))]), axis=0)\n",
    "\n",
    "    \n",
    "    return joined_gradients/len(train_points)"
   ]
  },
  {
   "cell_type": "code",
   "execution_count": 10,
   "id": "a628bc64-816f-4a9f-8e1d-7839e46eb1ba",
   "metadata": {},
   "outputs": [
    {
     "data": {
      "text/plain": [
       "Array(-4.32309926, dtype=float64)"
      ]
     },
     "execution_count": 10,
     "metadata": {},
     "output_type": "execute_result"
    }
   ],
   "source": [
    "energy_simplified_two_design(weights)\n"
   ]
  },
  {
   "cell_type": "code",
   "execution_count": 11,
   "id": "beb851ba",
   "metadata": {},
   "outputs": [
    {
     "data": {
      "text/plain": [
       "Array([-5.65470233e-01,  1.05715843e+00, -7.65499690e-02, -9.45070725e-01,\n",
       "       -6.12400415e-02,  1.10947287e-02, -4.56640059e-03, -3.49598801e-01,\n",
       "        2.80112509e-01, -5.28683667e-01,  8.71379413e-03,  3.11255006e-01,\n",
       "       -9.39336529e-02,  6.73137812e-02, -5.70862753e-02, -2.11143801e-01,\n",
       "       -1.59259450e-03,  3.13942383e-03, -1.55711977e-03, -1.74954060e-02,\n",
       "        3.71440461e-02, -2.14377840e-02,  1.70221526e-03,  4.11922221e-02,\n",
       "        3.78310894e-03, -5.20667065e-04,  4.81347406e-04,  2.25521024e-02,\n",
       "        4.06929122e-02, -4.46497301e-02,  1.35996965e-02,  7.72453657e-02,\n",
       "        1.24933533e-01, -1.19970647e-01,  2.23518013e-02,  1.53182155e-01,\n",
       "       -2.71375935e-02,  3.20099085e-02, -4.24161861e-03, -6.38321644e-02,\n",
       "       -9.63474278e-03, -2.23870700e-03, -5.57075008e-03,  2.15167972e-03,\n",
       "        6.21338270e-02, -2.11042011e-02,  8.96757424e-03,  2.27979826e-01,\n",
       "       -3.87135038e-01,  1.51429345e-01, -3.78870846e-02, -1.08585972e+00,\n",
       "       -5.55250709e-01,  7.33404290e-01, -2.29149757e-02, -6.98882790e-01,\n",
       "        2.62357308e-01, -1.06770645e-01,  5.28664135e-03,  3.62495677e-01,\n",
       "        2.64408113e-02, -3.08047925e-02,  2.92391000e-04,  2.88011135e-02,\n",
       "       -1.67625522e-02,  9.58457314e-04, -1.01856479e-03, -4.77971138e-02,\n",
       "       -6.05703399e-03,  3.38858541e-03, -1.77096915e-03, -2.32048238e-02,\n",
       "        1.53781947e-02, -1.19290453e-02,  1.12619247e-02,  4.88516747e-02,\n",
       "        3.89229067e-02, -1.93443901e-02,  8.90570373e-03,  9.21459264e-02,\n",
       "        1.28440911e-02, -1.41756402e-02,  5.83445736e-03,  4.88609100e-02,\n",
       "       -4.12413685e-02,  3.89880395e-02, -6.88372381e-03, -5.78945674e-02,\n",
       "        2.77799970e-02, -1.19862724e-02,  7.38828287e-03,  1.47432559e-01,\n",
       "        1.91091770e-01, -2.04944085e-01,  3.45067610e-02,  3.26093676e-01,\n",
       "       -1.08776852e-01,  5.60046054e-03, -4.15602575e-03, -4.43917844e-01,\n",
       "        4.19534008e-02, -1.95074241e-02,  5.64344571e-03,  8.57574705e-02,\n",
       "       -6.46336318e-05, -3.38247297e-03, -1.99227301e-05,  5.09490272e-02,\n",
       "        1.90219449e-02, -3.13638999e-02,  1.33377593e-02,  1.10356992e-01,\n",
       "        2.71409233e-02, -2.06886259e-02,  8.46995718e-03,  6.22351468e-02,\n",
       "        2.85102990e-02, -8.22638668e-03,  1.15768195e-03,  6.47739498e-02,\n",
       "        2.41876954e-02, -6.17615203e-02,  1.67125336e-03,  4.29341585e-02,\n",
       "        4.10568886e-02, -2.35323405e-02,  3.21559668e-04,  5.11984117e-02,\n",
       "       -1.10404059e-02,  1.31235263e-02, -5.54845059e-04, -1.17544285e-02,\n",
       "       -2.49368446e-02,  8.58155325e-03, -1.46323185e-02, -5.12284757e-02],      dtype=float64)"
      ]
     },
     "execution_count": 11,
     "metadata": {},
     "output_type": "execute_result"
    }
   ],
   "source": [
    "gradient_simplified_two_design(weights)"
   ]
  },
  {
   "cell_type": "code",
   "execution_count": 12,
   "id": "6c70936e",
   "metadata": {},
   "outputs": [],
   "source": [
    "def gradient_descent(fun,x0, stepsize=0.1, tol=1e-4,maxiter=100, verbose = False, **options):\n",
    "\n",
    "    new_params = jnp.array(x0)\n",
    "    ref_energy = energy_simplified_two_design(new_params)\n",
    "    \n",
    "    energy_evolution = [ref_energy]    \n",
    "\n",
    "    niter = 0\n",
    "\n",
    "    for i in range(maxiter):\n",
    "        niter +=1\n",
    "        grad = gradient_simplified_two_design(new_params)\n",
    "\n",
    "        new_params -= grad*stepsize\n",
    "\n",
    "        new_energy = energy_simplified_two_design(new_params)\n",
    "        \n",
    "        energy_evolution.append(new_energy)\n",
    "        \n",
    "        if(verbose and i%10 == 0):\n",
    "            print(\"Gradient Descent - Step: \", i, \" Cost: \", new_energy)\n",
    "\n",
    "        if(np.abs(new_energy-ref_energy) < tol):\n",
    "            break\n",
    "        else:\n",
    "            ref_energy = new_energy\n",
    "            \n",
    "    TRAINING_ENERGIES[\"gradient_descent\"][\"energies\"].append(energy_evolution)\n",
    "    TRAINING_ENERGIES[\"gradient_descent\"][\"trained_meta_vars\"].append(new_params)\n",
    "    \n",
    "    print(\"Finished Gradient Descent training\")\n",
    "\n",
    "    return OptimizeResult(x=new_params, nit=niter)\n"
   ]
  },
  {
   "cell_type": "code",
   "execution_count": 13,
   "id": "76904612",
   "metadata": {},
   "outputs": [],
   "source": [
    "def spsa_optimizer(fun, x0, maxiter=100,alpha=0.602,gamma=0.101, c=0.2, A=None, a=None, tol=1e-4, verbose = False, **options):\n",
    "    new_params = jnp.array(x0)\n",
    "    ref_energy = energy_simplified_two_design(new_params)\n",
    "    \n",
    "    energy_evolution = [ref_energy]       \n",
    "\n",
    "    if not A:\n",
    "        A = maxiter * 0.1\n",
    "\n",
    "    if not a:\n",
    "        a = 0.05 * (A + 1) ** alpha        \n",
    "\n",
    "    niter = 0\n",
    "\n",
    "    for i in range(maxiter):\n",
    "        niter +=1\n",
    "\n",
    "        ak=a/np.power(i+1+A,alpha)\n",
    "        ck=c/np.power(i+1,gamma)\n",
    "\n",
    "        delta = np.random.choice([-1, 1], size=x0.shape)\n",
    "\n",
    "        thetaplus=new_params+ck*delta\n",
    "        thetaminus=new_params-ck*delta\n",
    "        yplus=energy_simplified_two_design(thetaplus)\n",
    "        yminus=energy_simplified_two_design(thetaminus)  \n",
    "\n",
    "        grad = jnp.array([(yplus - yminus) / (2 * ck * di) for di in delta]  )\n",
    "\n",
    "        new_params -= ak*grad\n",
    "\n",
    "        new_energy = energy_simplified_two_design(new_params)\n",
    "        \n",
    "        energy_evolution.append(new_energy)  \n",
    "        \n",
    "        if(verbose and i%10 == 0):\n",
    "            print(\"SPSA - Step: \", i, \" Cost: \", new_energy)        \n",
    "\n",
    "        if(np.abs(new_energy-ref_energy) < tol):\n",
    "            break\n",
    "        else:\n",
    "            ref_energy = new_energy\n",
    "            \n",
    "    TRAINING_ENERGIES[\"spsa\"][\"energies\"].append(energy_evolution)\n",
    "    TRAINING_ENERGIES[\"spsa\"][\"trained_meta_vars\"].append(new_params)  \n",
    "    \n",
    "    print(\"Finished SPSA training\")\n",
    "    \n",
    "\n",
    "    return OptimizeResult(x=new_params, nit=niter)    "
   ]
  },
  {
   "cell_type": "code",
   "execution_count": 14,
   "id": "1fb58d8b",
   "metadata": {},
   "outputs": [],
   "source": [
    "def adam(fun, x0, maxiter=100,stepsize=0.01, beta1=0.9, beta2=0.99, tol=1e-4,eps=1e-08, verbose = False, **options):\n",
    "    new_params = jnp.array(x0)\n",
    "    ref_energy = energy_simplified_two_design(new_params)\n",
    "    \n",
    "    energy_evolution = [ref_energy] \n",
    "      \n",
    "    m = jnp.zeros_like(x0)\n",
    "    v = jnp.zeros_like(x0)\n",
    "\n",
    "    niter = 0\n",
    "\n",
    "    for i in range(maxiter):\n",
    "        niter +=1\n",
    "\n",
    "        grad = gradient_simplified_two_design(new_params)\n",
    "\n",
    "        m = beta1*m + (1-beta1)*grad\n",
    "        v = beta2*v + (1-beta2)*jnp.square(grad)\n",
    "\n",
    "        mhat = m/(1-beta1**(i+1))\n",
    "\n",
    "        vhat = v/(1-beta2**(i+1))\n",
    "\n",
    "        step = mhat/(jnp.array([np.sqrt(vhat_i) + eps for vhat_i in vhat]) )\n",
    "\n",
    "\n",
    "        new_params -= stepsize*step\n",
    "\n",
    "        new_energy = energy_simplified_two_design(new_params)\n",
    "        \n",
    "        energy_evolution.append(new_energy)     \n",
    "        \n",
    "        if(verbose and i%10 == 0):\n",
    "            print(\"ADAM - Step: \", i, \" Cost: \", new_energy)        \n",
    "\n",
    "        if(np.abs(new_energy-ref_energy) < tol):\n",
    "            break\n",
    "        else:\n",
    "            ref_energy = new_energy\n",
    "            \n",
    "    TRAINING_ENERGIES[\"adam\"][\"energies\"].append(energy_evolution)\n",
    "    TRAINING_ENERGIES[\"adam\"][\"trained_meta_vars\"].append(new_params)  \n",
    "    \n",
    "    print(\"Finished ADAM training\")\n",
    "    \n",
    "\n",
    "    return OptimizeResult(x=new_params, nit=niter)    "
   ]
  },
  {
   "cell_type": "code",
   "execution_count": 15,
   "id": "fc328174",
   "metadata": {},
   "outputs": [
    {
     "name": "stdout",
     "output_type": "stream",
     "text": [
      "Gradient Descent - Step:  0  Cost:  -4.941818148657407\n",
      "Gradient Descent - Step:  10  Cost:  -6.856145173238784\n",
      "Gradient Descent - Step:  20  Cost:  -7.256238550583646\n",
      "Gradient Descent - Step:  30  Cost:  -7.380489925550054\n",
      "Gradient Descent - Step:  40  Cost:  -7.424207610887012\n",
      "Gradient Descent - Step:  50  Cost:  -7.448919269373889\n",
      "Gradient Descent - Step:  60  Cost:  -7.46658254672047\n",
      "Gradient Descent - Step:  70  Cost:  -7.480530215259492\n",
      "Gradient Descent - Step:  80  Cost:  -7.492164451202671\n",
      "Gradient Descent - Step:  90  Cost:  -7.502237969858195\n",
      "Gradient Descent - Step:  100  Cost:  -7.511192723564089\n",
      "Gradient Descent - Step:  110  Cost:  -7.519285074305257\n",
      "Gradient Descent - Step:  120  Cost:  -7.526645094291848\n",
      "Gradient Descent - Step:  130  Cost:  -7.5333082232981825\n",
      "Gradient Descent - Step:  140  Cost:  -7.539236356893843\n",
      "Gradient Descent - Step:  150  Cost:  -7.544350229130572\n",
      "Gradient Descent - Step:  160  Cost:  -7.54859552614337\n",
      "Gradient Descent - Step:  170  Cost:  -7.552018904020739\n",
      "Gradient Descent - Step:  180  Cost:  -7.5547744944734845\n",
      "Gradient Descent - Step:  190  Cost:  -7.55704671725169\n",
      "Finished Gradient Descent training\n",
      "SPSA - Step:  0  Cost:  -4.991872934177861\n",
      "SPSA - Step:  10  Cost:  -5.722806464876745\n",
      "SPSA - Step:  20  Cost:  -6.12098297180907\n",
      "SPSA - Step:  30  Cost:  -6.209849862951218\n",
      "SPSA - Step:  40  Cost:  -6.3242190665196425\n",
      "SPSA - Step:  50  Cost:  -5.973815157333398\n",
      "SPSA - Step:  60  Cost:  -5.960325359757511\n",
      "SPSA - Step:  70  Cost:  -6.162305751903615\n",
      "SPSA - Step:  80  Cost:  -6.312228535801283\n",
      "SPSA - Step:  90  Cost:  -6.582214436728546\n",
      "SPSA - Step:  100  Cost:  -6.54035657920893\n",
      "SPSA - Step:  110  Cost:  -6.662637653349067\n",
      "SPSA - Step:  120  Cost:  -6.813165179592073\n",
      "SPSA - Step:  130  Cost:  -6.919855126891958\n",
      "SPSA - Step:  140  Cost:  -6.9161500246279335\n",
      "SPSA - Step:  150  Cost:  -6.91498081856283\n",
      "SPSA - Step:  160  Cost:  -6.965708374088446\n",
      "SPSA - Step:  170  Cost:  -6.948925979757533\n",
      "SPSA - Step:  180  Cost:  -6.945722566042052\n",
      "SPSA - Step:  190  Cost:  -7.038920826254069\n",
      "Finished SPSA training\n",
      "ADAM - Step:  0  Cost:  -4.457549415367742\n",
      "ADAM - Step:  10  Cost:  -5.719701549798974\n",
      "ADAM - Step:  20  Cost:  -6.7547723257005075\n",
      "ADAM - Step:  30  Cost:  -7.209254275388834\n",
      "ADAM - Step:  40  Cost:  -7.408407645177978\n",
      "ADAM - Step:  50  Cost:  -7.499425038389894\n",
      "ADAM - Step:  60  Cost:  -7.533891526645194\n",
      "ADAM - Step:  70  Cost:  -7.545660543845995\n",
      "ADAM - Step:  80  Cost:  -7.555623276906504\n",
      "ADAM - Step:  90  Cost:  -7.560418990008867\n",
      "ADAM - Step:  100  Cost:  -7.564180400814595\n",
      "ADAM - Step:  110  Cost:  -7.567369958911269\n",
      "ADAM - Step:  120  Cost:  -7.5700898877860325\n",
      "ADAM - Step:  130  Cost:  -7.572534514458411\n",
      "ADAM - Step:  140  Cost:  -7.574888999862236\n",
      "ADAM - Step:  150  Cost:  -7.577262598529171\n",
      "ADAM - Step:  160  Cost:  -7.579801960624211\n",
      "ADAM - Step:  170  Cost:  -7.582728876045924\n",
      "ADAM - Step:  180  Cost:  -7.58641918074878\n",
      "ADAM - Step:  190  Cost:  -7.591356488282948\n",
      "Finished ADAM training\n"
     ]
    }
   ],
   "source": [
    "res_gradient = minimize(energy_simplified_two_design, weights, method = gradient_descent, options = {'maxiter': 200, 'tol':1e-5, 'verbose':True})\n",
    "res_spsa = minimize(energy_simplified_two_design, weights, method = spsa_optimizer, options = {'maxiter': 200, 'tol':1e-5, 'verbose':True})\n",
    "res_adam = minimize(energy_simplified_two_design, weights, method = adam, options = {'maxiter': 200, 'tol':1e-5, 'verbose':True})"
   ]
  },
  {
   "cell_type": "code",
   "execution_count": 16,
   "id": "1b0c3853-60a7-4753-86e1-a13e35564c0b",
   "metadata": {},
   "outputs": [
    {
     "data": {
      "text/plain": [
       "<function matplotlib.pyplot.show(close=None, block=None)>"
      ]
     },
     "execution_count": 16,
     "metadata": {},
     "output_type": "execute_result"
    },
    {
     "data": {
      "image/png": "[encoded data removed]",
      "text/plain": [
       "<Figure size 640x480 with 1 Axes>"
      ]
     },
     "metadata": {},
     "output_type": "display_data"
    }
   ],
   "source": [
    "plt.scatter([i for i in range(len(TRAINING_ENERGIES['gradient_descent']['energies'][-1]))],TRAINING_ENERGIES['gradient_descent']['energies'][-1], label=\"gradient descent\", marker='x')\n",
    "plt.scatter([i for i in range(len(TRAINING_ENERGIES['spsa']['energies'][-1]))],TRAINING_ENERGIES['spsa']['energies'][-1], label=\"spsa\", marker='x')\n",
    "plt.scatter([i for i in range(len(TRAINING_ENERGIES['adam']['energies'][-1]))],TRAINING_ENERGIES['adam']['energies'][-1], label=\"adam\", marker='x')\n",
    "\n",
    "plt.legend()\n",
    "plt.title('Meta Energies for training steep (finite diff)')\n",
    "plt.ylabel('Cost function')\n",
    "plt.xlabel('Training step')\n",
    "plt.show"
   ]
  },
  {
   "cell_type": "code",
   "execution_count": 17,
   "id": "6114acc1-caac-494b-944c-4fe878a70797",
   "metadata": {},
   "outputs": [
    {
     "name": "stdout",
     "output_type": "stream",
     "text": [
      "0.6\n"
     ]
    },
    {
     "name": "stderr",
     "output_type": "stream",
     "text": [
      "/opt/conda/envs/python39/lib/python3.9/site-packages/pennylane/math/utils.py:223: UserWarning: Contains tensors of types {'autograd', 'jax'}; dispatch will prioritize TensorFlow, PyTorch, and  Jax over Autograd. Consider replacing Autograd with vanilla NumPy.\n",
      "  warnings.warn(\n"
     ]
    },
    {
     "name": "stdout",
     "output_type": "stream",
     "text": [
      "0.8\n",
      "1.0\n",
      "1.2000000000000002\n",
      "1.4000000000000004\n",
      "1.6000000000000005\n",
      "1.8000000000000003\n",
      "2.0000000000000004\n",
      "2.2000000000000006\n",
      "2.400000000000001\n",
      "2.600000000000001\n",
      "2.8000000000000007\n",
      "3.000000000000001\n",
      "3.200000000000001\n",
      "3.400000000000001\n",
      "3.600000000000001\n",
      "3.800000000000001\n",
      "4.000000000000001\n",
      "4.200000000000001\n",
      "4.400000000000001\n",
      "4.600000000000001\n",
      "4.800000000000001\n",
      "5.000000000000001\n",
      "5.200000000000001\n",
      "5.400000000000001\n",
      "5.600000000000001\n",
      "5.800000000000002\n"
     ]
    }
   ],
   "source": [
    "trained_energies = {\"gradient_descent\":[], \"spsa\":[], \"adam\":[]}\n",
    "\n",
    "for count, d in enumerate(test_points):\n",
    "    print(d)\n",
    "    for k in trained_energies:\n",
    "        if ENCODER == 1:\n",
    "            encoded_params = linear_encoding(TRAINING_ENERGIES[k][\"trained_meta_vars\"][-1], d)\n",
    "        else:\n",
    "            encoded_params = gaussian_encoding(TRAINING_ENERGIES[k][\"trained_meta_vars\"][-1], d)\n",
    "        energy= catalyst_simplified_two_design(encoded_params,test_hamiltonians[count])\n",
    "        trained_energies[k].append(energy)"
   ]
  },
  {
   "cell_type": "code",
   "execution_count": 19,
   "id": "0e005ce1-6243-4419-a5ad-ab7fb8b6dfce",
   "metadata": {},
   "outputs": [
    {
     "data": {
      "text/plain": [
       "<function matplotlib.pyplot.show(close=None, block=None)>"
      ]
     },
     "execution_count": 19,
     "metadata": {},
     "output_type": "execute_result"
    },
    {
     "data": {
      "image/png": "[encoded data removed]",
      "text/plain": [
       "<Figure size 640x480 with 1 Axes>"
      ]
     },
     "metadata": {},
     "output_type": "display_data"
    }
   ],
   "source": [
    "plt.plot(test_points, trained_energies[\"gradient_descent\"], label=\"gradient_descent\", marker='o')\n",
    "plt.plot(test_points, trained_energies[\"spsa\"], label=\"spsa\", marker='o')\n",
    "plt.plot(test_points, trained_energies[\"adam\"], label=\"adam\", marker='o')\n",
    "plt.plot(test_points, fci_energies, label=\"FCI\", marker='.', color=\"r\")\n",
    "\n",
    "\n",
    "plt.legend()\n",
    "plt.title('Trained-Gaussian Encoding')\n",
    "plt.xlabel('Distance(a0)')\n",
    "plt.ylabel('Energy(Eh)')\n",
    "plt.show"
   ]
  },
  {
   "cell_type": "code",
   "execution_count": null,
   "id": "f6c88f22-f853-4964-bc34-cd33fe2bdc7a",
   "metadata": {},
   "outputs": [],
   "source": []
  }
 ],
 "metadata": {
  "environment": {
   "kernel": "python39",
   "name": "tf2-gpu.2-8.m107",
   "type": "gcloud",
   "uri": "gcr.io/deeplearning-platform-release/tf2-gpu.2-8:m107"
  },
  "kernelspec": {
   "display_name": "python39",
   "language": "python",
   "name": "python39"
  },
  "language_info": {
   "codemirror_mode": {
    "name": "ipython",
    "version": 3
   },
   "file_extension": ".py",
   "mimetype": "text/x-python",
   "name": "python",
   "nbconvert_exporter": "python",
   "pygments_lexer": "ipython3",
   "version": "3.9.16"
  }
 },
 "nbformat": 4,
 "nbformat_minor": 5
}
