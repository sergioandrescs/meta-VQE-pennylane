{
 "cells": [
  {
   "cell_type": "code",
   "execution_count": 1,
   "metadata": {},
   "outputs": [],
   "source": [
    "import matplotlib.pyplot as plt\n",
    "import json\n",
    "from pennylane import numpy as np"
   ]
  },
  {
   "cell_type": "code",
   "execution_count": 2,
   "metadata": {},
   "outputs": [],
   "source": [
    "with open('exp_runs/simplified2design_3layers.json', 'r') as reader:\n",
    "    # Read & print the entire file\n",
    "    data = reader.read()\n",
    "    s2design = json.loads(data)\n",
    "\n",
    "with open('exp_runs/kUpCCGSD_1k.json', 'r') as reader:\n",
    "    # Read & print the entire file\n",
    "    data = reader.read()\n",
    "    kUpCCGSD_1k = json.loads(data)\n",
    "\n",
    "with open('exp_runs/h2_fci.json', 'r') as reader:\n",
    "    # Read & print the entire file\n",
    "    data = reader.read()\n",
    "    fci_h2 = json.loads(data)    \n",
    "\n",
    "with open('exp_runs/double_ex.json', 'r') as reader:\n",
    "    # Read & print the entire file\n",
    "    data = reader.read()\n",
    "    double_ex = json.loads(data)      \n",
    "\n",
    "\n",
    "s2design_adam = [energy[-1] for energy in s2design[\"results\"][\"demon_adam\"][\"energies\"]] \n",
    "kUpCCGSD_1k_adam = [energy[-1] for energy in kUpCCGSD_1k[\"results\"][\"demon_adam\"][\"energies\"]][:len(s2design_adam)]\n",
    "double_ex_adam = [energy[-1] for energy in double_ex[\"results\"][\"demon_adam\"][\"energies\"]][:len(s2design_adam)]\n",
    "\n",
    "test_points=fci_h2[\"points\"]\n",
    "fci_energies = fci_h2[\"energies\"]\n"
   ]
  }
 ],
 "metadata": {
  "environment": {
   "kernel": "python3",
   "name": "common-cpu.m108",
   "type": "gcloud",
   "uri": "gcr.io/deeplearning-platform-release/base-cpu:m108"
  },
  "kernelspec": {
   "display_name": "Python 3",
   "language": "python",
   "name": "python3"
  },
  "language_info": {
   "codemirror_mode": {
    "name": "ipython",
    "version": 3
   },
   "file_extension": ".py",
   "mimetype": "text/x-python",
   "name": "python",
   "nbconvert_exporter": "python",
   "pygments_lexer": "ipython3",
   "version": "3.8.5"
  }
 },
 "nbformat": 4,
 "nbformat_minor": 4
}
