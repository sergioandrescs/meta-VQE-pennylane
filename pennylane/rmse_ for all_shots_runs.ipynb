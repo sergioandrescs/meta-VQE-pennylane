{
 "cells": [
  {
   "cell_type": "markdown",
   "metadata": {},
   "source": [
    "# Get error for all runs\n",
    "\n",
    "* List files\n",
    "* Read each file\n",
    "* Get RMSE for each variant in the file\n",
    "* Rewrite file with this change\n"
   ]
  },
  {
   "cell_type": "code",
   "execution_count": 1,
   "metadata": {},
   "outputs": [
    {
     "name": "stdout",
     "output_type": "stream",
     "text": [
      "50\n"
     ]
    }
   ],
   "source": [
    "from os import walk\n",
    "import json\n",
    "from sklearn.metrics import mean_squared_error\n",
    "\n",
    "\n",
    "with open('./h2_fci.json', 'r') as reader:\n",
    "    # Read & print the entire file\n",
    "    data = reader.read()\n",
    "    fci_h2 = json.loads(data)  \n",
    "\n",
    "fci_energies = fci_h2[\"energies\"]\n",
    "\n",
    "f = []\n",
    "for (dirpath, dirnames, filenames) in walk('./exp_runs'):\n",
    "    f.extend(filenames)\n",
    "    break\n",
    "\n",
    "print(len(f))"
   ]
  },
  {
   "cell_type": "code",
   "execution_count": 2,
   "metadata": {},
   "outputs": [],
   "source": [
    "all_data = []\n",
    "\n",
    "for file_name in f:\n",
    "    with open(f'exp_runs/{file_name}', 'r') as reader:\n",
    "        # Read & print the entire file\n",
    "        data = reader.read()\n",
    "        all_data.append(json.loads(data))"
   ]
  },
  {
   "cell_type": "code",
   "execution_count": 3,
   "metadata": {},
   "outputs": [],
   "source": [
    "optimizers = [\"gradient_descent\", \"spsa\", \"adam\", \"demon_adam\"]\n",
    "train_types= ['meta', 'opt_meta', 'vqe']"
   ]
  },
  {
   "cell_type": "code",
   "execution_count": 4,
   "metadata": {},
   "outputs": [
    {
     "data": {
      "text/plain": [
       "dict_keys(['meta', 'opt_meta', 'vqe'])"
      ]
     },
     "execution_count": 4,
     "metadata": {},
     "output_type": "execute_result"
    }
   ],
   "source": [
    "all_data[0]['results'][\"adam\"].keys()"
   ]
  },
  {
   "cell_type": "code",
   "execution_count": 5,
   "metadata": {},
   "outputs": [],
   "source": [
    "for data_entry in all_data:\n",
    "    for opt in optimizers:\n",
    "        for result_type in train_types:\n",
    "            if result_type == 'meta':\n",
    "                data_entry['results'][opt][result_type]['rmse_error'] = mean_squared_error(fci_energies, data_entry['results'][opt][result_type][\"energies_after_meta\"], squared=False)\n",
    "            else:\n",
    "                data_entry['results'][opt][result_type]['rmse_error'] = mean_squared_error(fci_energies, [energy[-1] for energy in data_entry['results'][opt][result_type][\"energies\"]], squared=False)     "
   ]
  },
  {
   "cell_type": "code",
   "execution_count": 6,
   "metadata": {},
   "outputs": [],
   "source": [
    "for file_name,data_entry in zip(f,all_data):\n",
    "    with open(f'exp_runs/{file_name}', 'w') as writer:\n",
    "        writer.write(json.dumps(data_entry))"
   ]
  }
 ],
 "metadata": {
  "kernelspec": {
   "display_name": "Python 3",
   "language": "python",
   "name": "python3"
  },
  "language_info": {
   "codemirror_mode": {
    "name": "ipython",
    "version": 3
   },
   "file_extension": ".py",
   "mimetype": "text/x-python",
   "name": "python",
   "nbconvert_exporter": "python",
   "pygments_lexer": "ipython3",
   "version": "3.8.5"
  },
  "orig_nbformat": 4
 },
 "nbformat": 4,
 "nbformat_minor": 2
}
