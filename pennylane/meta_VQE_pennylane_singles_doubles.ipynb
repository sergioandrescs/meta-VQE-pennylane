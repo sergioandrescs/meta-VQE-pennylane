{
 "cells": [
  {
   "cell_type": "markdown",
   "id": "22e51aa6",
   "metadata": {
    "tags": []
   },
   "source": [
    "# meta-VQE\n",
    "\n",
    "Hot to obtain a Potential Energy Surface (PES) plot without training for *all* the points of interest.\n",
    "\n",
    "## Keypoints\n",
    "\n",
    "* For a molecule, the Hamiltonian depends on the geometry (separation) of the atoms or nuclei\n",
    "* For simple, vanilla VQE, all the possible configurations (separations) in the molecule need to be trained separately\n",
    "* meta-VQE trains a few points (training points), encoding the original parameters $\\vec{\\theta}$ using metaparamers and a linear or Gaussian encoding.\n",
    "\n",
    "The code below uses Catalyst (from Xanadu) and JAX to optimize calculations"
   ]
  },
  {
   "cell_type": "code",
   "execution_count": 1,
   "id": "f9196990-aaaa-4a07-a3ad-56ddaf5cd7fb",
   "metadata": {},
   "outputs": [
    {
     "name": "stdout",
     "output_type": "stream",
     "text": [
      "Pennylane 0.31.0\n"
     ]
    }
   ],
   "source": [
    "\n",
    "import pennylane as qml\n",
    "from pennylane import numpy as np\n",
    "import matplotlib.pyplot as plt\n",
    "from matplotlib.ticker import MultipleLocator\n",
    "\n",
    "from scipy.optimize import minimize\n",
    "\n",
    "import json\n",
    "\n",
    "print(f\"Pennylane {qml.__version__}\")\n",
    "\n",
    "np.random.seed(32)\n",
    "\n",
    "# Import custom optimizers\n",
    "\n",
    "from custom_optimizers import gradient_descent,spsa_optimizer,adam"
   ]
  },
  {
   "cell_type": "code",
   "execution_count": 2,
   "id": "04a30258-8faa-402d-9c44-43fc3f1788c1",
   "metadata": {},
   "outputs": [
    {
     "name": "stdout",
     "output_type": "stream",
     "text": [
      "===== TRAIN POINTS =====\n",
      "[1.  1.8 2.6 3.4 4.2]\n"
     ]
    }
   ],
   "source": [
    "## Layers and wires for circuits\n",
    "\n",
    "symbols = [\"H\", \"H\"]\n",
    "coordinates = np.array([0.0, 0.0, 0.0, 0.0, 0.0, 1.0])\n",
    "\n",
    "# Building the molecular hamiltonian for H2\n",
    "hamiltonian, qubits = qml.qchem.molecular_hamiltonian(\n",
    "    symbols,\n",
    "    coordinates,\n",
    "    method=\"pyscf\",\n",
    ")\n",
    "SHOTS = 4000 ## 1000, None. If none is used, the result is analytic\n",
    "\n",
    "WIRES = qubits\n",
    "\n",
    "USE_SINGLES = False\n",
    "USE_DOUBLES = True\n",
    "\n",
    "init_state = qml.qchem.hf_state(2, qubits)\n",
    "\n",
    "## https://docs.pennylane.ai/projects/catalyst/en/latest/code/api/catalyst.grad.html - \n",
    "\n",
    "TRAINERS = {\"gradient_descent\": \n",
    "            {\"fun\":gradient_descent, \"options\":{ 'maxiter': 150, 'tol':1e-4, \"verbose\":True}},\n",
    "            \"spsa\":{ \"fun\":spsa_optimizer, \"options\":{ 'maxiter': 150, 'tol':1e-4, \"verbose\":True}},\n",
    "            \"adam\":{\"fun\":adam, \"options\":{ 'maxiter': 150, 'tol':1e-4, 'demon':False, \"verbose\":True}},\n",
    "            \"demon_adam\":{\"fun\":adam, \"options\":{ 'maxiter': 150, 'tol':1e-4, 'demon':True, \"verbose\":True}}}\n",
    "\n",
    "GRADIENT_METHOD= \"ps\" ## fd, ps\n",
    "\n",
    "TRAINING_ENERGIES= {\"gradient_descent\":{\n",
    "                        \"meta\":{\"energies\":[], \"runs\":0, \"trained_vars\":[], \"energies_after_meta\":[]},\n",
    "                        \"opt_meta\":{\"energies\":[], \"runs_per_step\":[], \"trained_vars\":[]},\n",
    "                        \"vqe\":{\"energies\":[], \"runs_per_step\":[], \"trained_vars\":[]}\n",
    "                        },\n",
    "                    \"spsa\":{\n",
    "                        \"meta\":{\"energies\":[], \"runs\":0, \"trained_vars\":[], \"energies_after_meta\":[]},\n",
    "                        \"opt_meta\":{\"energies\":[], \"runs_per_step\":[], \"trained_vars\":[]},\n",
    "                        \"vqe\":{\"energies\":[], \"runs_per_step\":[], \"trained_vars\":[]}\n",
    "                        },\n",
    "                    \"adam\":{\n",
    "                        \"meta\":{\"energies\":[], \"runs\":0, \"trained_vars\":[], \"energies_after_meta\":[]},\n",
    "                        \"opt_meta\":{\"energies\":[], \"runs_per_step\":[], \"trained_vars\":[]},\n",
    "                        \"vqe\":{\"energies\":[], \"runs_per_step\":[], \"trained_vars\":[]}\n",
    "                        },\n",
    "                    \"demon_adam\":{\n",
    "                        \"meta\":{\"energies\":[], \"runs\":0, \"trained_vars\":[], \"energies_after_meta\":[]},\n",
    "                        \"opt_meta\":{\"energies\":[], \"runs_per_step\":[], \"trained_vars\":[]},\n",
    "                        \"vqe\":{\"energies\":[], \"runs_per_step\":[], \"trained_vars\":[]}\n",
    "                        },\n",
    "\n",
    "                   }\n",
    "\n",
    "gradient_methods = {\"fd\":\"finite-diff\", \"ps\":\"parameter-shift\", \"adj\":\"adjoint\"}\n",
    "\n",
    "\n",
    "# Encoder: \n",
    "# Linear -> 1\n",
    "# Gaussian -> 2\n",
    "\n",
    "ENCODER_MULTIPLIER_DICT = {1:2,\n",
    "                      2:4}\n",
    "\n",
    "ENCODER = 2\n",
    "\n",
    "shared_dev = qml.device(\"lightning.qubit\", wires=WIRES, shots=SHOTS)\n",
    "\n",
    "train_points_indexes = [2,6,10,14,18]\n",
    "\n",
    "test_points = np.arange(0.6,5,0.2)\n",
    "\n",
    "train_points = np.array([test_points[i] for i in train_points_indexes])\n",
    "\n",
    "test_hamiltonians = []\n",
    "\n",
    "\n",
    "for d in test_points:\n",
    "    coordinates = np.array([0.0, 0.0, 0.0, 0.0, 0.0, d]) \n",
    "    \n",
    "    hamiltonian, _ = qml.qchem.molecular_hamiltonian(\n",
    "        symbols,\n",
    "        coordinates,\n",
    "        method=\"pyscf\",\n",
    "    )    \n",
    "    \n",
    "    test_hamiltonians.append(hamiltonian)\n",
    "\n",
    "train_hamiltonians = [test_hamiltonians[i] for i in train_points_indexes]\n",
    "    \n",
    "print(\"===== TRAIN POINTS =====\")\n",
    "print(train_points)"
   ]
  },
  {
   "cell_type": "code",
   "execution_count": 3,
   "id": "fd62592f",
   "metadata": {},
   "outputs": [
    {
     "name": "stdout",
     "output_type": "stream",
     "text": [
      "[[0, 2], [1, 3]]\n",
      "[[0, 1, 2, 3]]\n"
     ]
    }
   ],
   "source": [
    "singles, doubles = qml.qchem.excitations(2, WIRES, 0)\n",
    "\n",
    "print(singles)\n",
    "print(doubles)"
   ]
  },
  {
   "cell_type": "code",
   "execution_count": 4,
   "id": "3ad9aec7",
   "metadata": {},
   "outputs": [],
   "source": [
    "with open('./h2_fci.json', 'r') as reader:\n",
    "    # Read & print the entire file\n",
    "    data = reader.read()\n",
    "    fci_h2 = json.loads(data)   \n",
    "\n",
    "fci_energies = fci_h2[\"energies\"]"
   ]
  },
  {
   "cell_type": "markdown",
   "id": "17886ebb",
   "metadata": {},
   "source": [
    "### Linear Encoding\n",
    "\n",
    "$\\theta_{i} = w_{i} \\, R + \\phi_{i}$"
   ]
  },
  {
   "cell_type": "code",
   "execution_count": 5,
   "id": "5b32eb5c-a2dd-40eb-88ef-3f0eded2ec10",
   "metadata": {},
   "outputs": [],
   "source": [
    "def linear_encoding(param_array, r):\n",
    "    \"\"\"1-D array with alphas and betas. len(param_array) = 2 * len(weights) \n",
    "\n",
    "    Args:\n",
    "        param_array (float): alphas and betas for lineasr encoding\n",
    "        r(float): Hamiltonian parameter (in this case, distance)\n",
    "    \"\"\"\n",
    "    return param_array[::2]*r + param_array[1::2]"
   ]
  },
  {
   "cell_type": "markdown",
   "id": "394f9cfd",
   "metadata": {},
   "source": [
    "### Gaussian Encoding\n",
    "\n",
    "$\\theta_{i} = \\alpha_{i} e^{\\beta_{i} (\\gamma_{i} - R)} + \\delta_{i}$"
   ]
  },
  {
   "cell_type": "code",
   "execution_count": 6,
   "id": "4e087c96",
   "metadata": {},
   "outputs": [],
   "source": [
    "def gaussian_encoding(param_array, r):\n",
    "    \"\"\"1-D array with alphas, betas, gammas and deltas. len(param_array) = 4 * len(weights) \n",
    "\n",
    "    Args:\n",
    "        param_array (float): , betas, gammas and deltas for gaussian encoding\n",
    "        r(float): Hamiltonian parameter (in this case, distance)\n",
    "    \"\"\"\n",
    "\n",
    "    exp_arg = param_array[1::4]*(param_array[2::4] - r)\n",
    "\n",
    "    return param_array[::4]*np.exp(exp_arg) + param_array[3::4]"
   ]
  },
  {
   "cell_type": "code",
   "execution_count": 7,
   "id": "a3d35b38-49f2-4c92-9b55-a4b630ad5baf",
   "metadata": {},
   "outputs": [
    {
     "name": "stdout",
     "output_type": "stream",
     "text": [
      "===== NUM OF PARAMETERS =====\n",
      "4\n"
     ]
    }
   ],
   "source": [
    "## Get shapes\n",
    "\n",
    "## For linear is 2\n",
    "## For Gaussian is 4\n",
    "ENCODING_MULTIPLIER= ENCODER_MULTIPLIER_DICT[ENCODER]\n",
    "\n",
    "if(ENCODER == 1):\n",
    "    ENCODER_FUNC =linear_encoding\n",
    "else:\n",
    "    ENCODER_FUNC =gaussian_encoding\n",
    "\n",
    "## Get shapes\n",
    "\n",
    "num_params = 0\n",
    "\n",
    "if(USE_SINGLES):\n",
    "    for _ in singles:\n",
    "        num_params+=1\n",
    "\n",
    "if(USE_DOUBLES):\n",
    "    for _ in doubles:\n",
    "        num_params+=1     \n",
    "\n",
    "\n",
    "num_params_encoding = num_params*ENCODING_MULTIPLIER\n",
    "\n",
    "weights = np.random.random(num_params_encoding)\n",
    "\n",
    "print(\"===== NUM OF PARAMETERS =====\")\n",
    "print(num_params_encoding)"
   ]
  },
  {
   "cell_type": "code",
   "execution_count": 8,
   "id": "8af29f74",
   "metadata": {},
   "outputs": [],
   "source": [
    "## Core circ\n",
    "\n",
    "def core_circuit(params):\n",
    "\n",
    "    qml.BasisState(init_state, wires=range(WIRES))    \n",
    "\n",
    "    param_count = 0\n",
    "    \n",
    "    if(USE_SINGLES):\n",
    "        for single_ex in singles: \n",
    "            qml.SingleExcitation(params[param_count], single_ex)\n",
    "            param_count+=1\n",
    "\n",
    "    if(USE_DOUBLES):\n",
    "        for double_ex in doubles:\n",
    "            qml.DoubleExcitation(params[param_count], double_ex)\n",
    "            param_count+=1   \n",
    "            "
   ]
  },
  {
   "cell_type": "code",
   "execution_count": 9,
   "id": "cd73135a-5a02-4fa5-906c-f852cfbb652f",
   "metadata": {},
   "outputs": [],
   "source": [
    "# Remember set h when using finite-diff - 1e-3\n",
    "@qml.qnode(shared_dev, diff_method= gradient_methods[GRADIENT_METHOD], shots = SHOTS)\n",
    "def normal_circuit(params, hamiltonian):\n",
    "\n",
    "    core_circuit(params)\n",
    "\n",
    "    return qml.expval(\n",
    "        qml.Hamiltonian(np.array(hamiltonian.coeffs), hamiltonian.ops)\n",
    "    )  \n",
    "\n",
    "@qml.qnode(shared_dev, diff_method= gradient_methods[GRADIENT_METHOD], shots = SHOTS)\n",
    "def meta_circuit(params, hamiltonian, r):\n",
    "\n",
    "    weights = ENCODER_FUNC(params,r)\n",
    "    core_circuit(weights)\n",
    "\n",
    "    return qml.expval(\n",
    "        qml.Hamiltonian(np.array(hamiltonian.coeffs), hamiltonian.ops)\n",
    "    )  \n",
    "if (GRADIENT_METHOD == 'fd'):\n",
    "    normal_grad_fun = normal_circuit.gradient_fn(normal_circuit, h=1e-3, shots = SHOTS)\n",
    "    meta_grad_fun = meta_circuit.gradient_fn(meta_circuit, shots = SHOTS)\n",
    "else:\n",
    "    normal_grad_fun = normal_circuit.gradient_fn(normal_circuit, h=1e-3, shots = SHOTS)\n",
    "    meta_grad_fun = meta_circuit.gradient_fn(meta_circuit, shots = SHOTS)"
   ]
  },
  {
   "cell_type": "code",
   "execution_count": 10,
   "id": "d3a48b92",
   "metadata": {},
   "outputs": [
    {
     "name": "stderr",
     "output_type": "stream",
     "text": [
      "/opt/conda/lib/python3.10/site-packages/pennylane/tape/qscript.py:1425: UserWarning: The gate_sizes key is deprecated and will be removed in the next release. Going forward, please use: specs[\"resources\"].gate_sizes\n",
      "  warnings.warn(\n",
      "/opt/conda/lib/python3.10/site-packages/pennylane/tape/qscript.py:1425: UserWarning: The gate_types key is deprecated and will be removed in the next release. Going forward, please use: specs[\"resources\"].gate_types\n",
      "  warnings.warn(\n",
      "/opt/conda/lib/python3.10/site-packages/pennylane/tape/qscript.py:1425: UserWarning: The num_operations key is deprecated and will be removed in the next release. Going forward, please use: specs[\"resources\"].num_gates\n",
      "  warnings.warn(\n",
      "/opt/conda/lib/python3.10/site-packages/pennylane/tape/qscript.py:1425: UserWarning: The num_used_wires key is deprecated and will be removed in the next release. Going forward, please use: specs[\"resources\"].num_wires\n",
      "  warnings.warn(\n",
      "/opt/conda/lib/python3.10/site-packages/pennylane/tape/qscript.py:1425: UserWarning: The depth key is deprecated and will be removed in the next release. Going forward, please use: specs[\"resources\"].depth\n",
      "  warnings.warn(\n"
     ]
    },
    {
     "data": {
      "text/plain": [
       "{'resources': Resources(num_wires=4, num_gates=3, gate_types=defaultdict(<class 'int'>, {'PauliX': 2, 'DoubleExcitation': 1}), gate_sizes=defaultdict(<class 'int'>, {1: 2, 4: 1}), depth=2, shots=Shots(total_shots=None, shot_vector=())),\n",
       " 'gate_sizes': defaultdict(int, {1: 2, 4: 1}),\n",
       " 'gate_types': defaultdict(int, {'PauliX': 2, 'DoubleExcitation': 1}),\n",
       " 'num_operations': 3,\n",
       " 'num_observables': 1,\n",
       " 'num_diagonalizing_gates': 0,\n",
       " 'num_used_wires': 4,\n",
       " 'num_trainable_params': 1,\n",
       " 'depth': 2,\n",
       " 'num_device_wires': 4,\n",
       " 'device_name': 'lightning.qubit',\n",
       " 'expansion_strategy': 'gradient',\n",
       " 'gradient_options': {'shots': 4000},\n",
       " 'interface': 'auto',\n",
       " 'diff_method': 'parameter-shift',\n",
       " 'gradient_fn': 'pennylane.gradients.parameter_shift.param_shift',\n",
       " 'num_gradient_executions': 4}"
      ]
     },
     "execution_count": 10,
     "metadata": {},
     "output_type": "execute_result"
    }
   ],
   "source": [
    "specs_func = qml.specs(normal_circuit, expansion_strategy='gradient', max_expansion=50)\n",
    "specs_func(gaussian_encoding(weights,1.4), test_hamiltonians[0])"
   ]
  },
  {
   "cell_type": "code",
   "execution_count": 11,
   "id": "5e37e90d",
   "metadata": {},
   "outputs": [
    {
     "data": {
      "text/plain": [
       "{'resources': Resources(num_wires=4, num_gates=3, gate_types=defaultdict(<class 'int'>, {'PauliX': 2, 'DoubleExcitation': 1}), gate_sizes=defaultdict(<class 'int'>, {1: 2, 4: 1}), depth=2, shots=Shots(total_shots=None, shot_vector=())),\n",
       " 'gate_sizes': defaultdict(int, {1: 2, 4: 1}),\n",
       " 'gate_types': defaultdict(int, {'PauliX': 2, 'DoubleExcitation': 1}),\n",
       " 'num_operations': 3,\n",
       " 'num_observables': 1,\n",
       " 'num_diagonalizing_gates': 0,\n",
       " 'num_used_wires': 4,\n",
       " 'num_trainable_params': 1,\n",
       " 'depth': 2,\n",
       " 'num_device_wires': 4,\n",
       " 'device_name': 'lightning.qubit',\n",
       " 'expansion_strategy': 'gradient',\n",
       " 'gradient_options': {'shots': 4000},\n",
       " 'interface': 'auto',\n",
       " 'diff_method': 'parameter-shift',\n",
       " 'gradient_fn': 'pennylane.gradients.parameter_shift.param_shift',\n",
       " 'num_gradient_executions': 4}"
      ]
     },
     "execution_count": 11,
     "metadata": {},
     "output_type": "execute_result"
    }
   ],
   "source": [
    "specs_func = qml.specs(meta_circuit, expansion_strategy='gradient', max_expansion=50)\n",
    "specs_func(weights, test_hamiltonians[0], 0.5)"
   ]
  },
  {
   "cell_type": "code",
   "execution_count": 12,
   "id": "2cb71da8",
   "metadata": {},
   "outputs": [
    {
     "name": "stdout",
     "output_type": "stream",
     "text": [
      "1.5759484253213958\n"
     ]
    },
    {
     "data": {
      "text/plain": [
       "array([-217834.17688596,   83233.37550088,  -69732.55625721,\n",
       "       -257119.91819342])"
      ]
     },
     "execution_count": 12,
     "metadata": {},
     "output_type": "execute_result"
    }
   ],
   "source": [
    "print(normal_grad_fun(gaussian_encoding(weights,1.4), test_hamiltonians[0]))\n",
    "distance = train_points[0]\n",
    "distance.requires_grad = False\n",
    "qml.gradients.finite_diff(meta_circuit)(weights, test_hamiltonians[0],distance)"
   ]
  },
  {
   "cell_type": "markdown",
   "id": "26497f40",
   "metadata": {},
   "source": [
    "### Cost Function\n",
    "\n",
    "Sum of energies for each configuration (separation)\n",
    "\n",
    "$C(\\vec{\\theta}) = \\sum_{i=1}^{M} \\bra{\\psi_{i}} \\hat{H}(\\vec{\\lambda}_{i}) \\ket{\\psi_{i}}$\n"
   ]
  },
  {
   "cell_type": "code",
   "execution_count": 13,
   "id": "c211e648-3189-4ec5-9585-66183b142bca",
   "metadata": {},
   "outputs": [],
   "source": [
    "def meta_cost(params,train_hamiltonians, return_grad = True):\n",
    "\n",
    "    energies = []  \n",
    "    gradients = []\n",
    "    \n",
    "\n",
    "\n",
    "    for count, train_ham in enumerate(train_hamiltonians):\n",
    "        \n",
    "   \n",
    "        energies.append(meta_circuit(params, train_ham, train_points[count]))\n",
    "        if(return_grad):\n",
    "            distance = train_points[count]\n",
    "            distance.requires_grad = False\n",
    "            gradients.append(meta_grad_fun(params, train_ham, distance))\n",
    "        \n",
    "    join_energy = np.sum(np.array(energies))\n",
    "    \n",
    "    if(return_grad):\n",
    "        all_gradients = np.array(gradients)\n",
    "        joined_gradients = np.sum(np.array([all_gradients[i][0] for i in range(len(all_gradients))]), axis=0)    \n",
    "        \n",
    "        return join_energy/len(train_points) , joined_gradients/len(train_points)\n",
    "    else:\n",
    "        return join_energy/len(train_points)"
   ]
  },
  {
   "cell_type": "code",
   "execution_count": 14,
   "id": "5cbdbd75",
   "metadata": {},
   "outputs": [],
   "source": [
    "def normal_cost(params, hamiltonian, return_grad = True):\n",
    "    \n",
    "    if(return_grad):        \n",
    "        return normal_circuit(params, hamiltonian), np.array(normal_grad_fun(params, hamiltonian))\n",
    "    else:\n",
    "        return normal_circuit(params, hamiltonian)"
   ]
  },
  {
   "cell_type": "code",
   "execution_count": 15,
   "id": "f229bb7c",
   "metadata": {},
   "outputs": [
    {
     "name": "stdout",
     "output_type": "stream",
     "text": [
      "Gradient Descent - Step:  0  Cost:  -0.8532813702847472\n",
      "Gradient Descent - Step:  10  Cost:  -0.8932449245673872\n",
      "Gradient Descent - Step:  20  Cost:  -0.9297143667822514\n",
      "Gradient Descent - Step:  30  Cost:  -0.9521076452370865\n",
      "Gradient Descent - Step:  40  Cost:  -0.9678190251568861\n",
      "Gradient Descent - Step:  50  Cost:  -0.9740919579599019\n",
      "Finished Gradient Descent training\n",
      "SPSA - Step:  0  Cost:  -0.9583040038588659\n",
      "SPSA - Step:  10  Cost:  -0.9611396777812538\n",
      "SPSA - Step:  20  Cost:  -0.9637493140665949\n",
      "SPSA - Step:  30  Cost:  -0.9612891127143296\n",
      "SPSA - Step:  40  Cost:  -0.9628561856092986\n",
      "Finished SPSA training\n",
      "ADAM - Step:  0  Cost:  -0.9694146343501711\n",
      "ADAM - Step:  10  Cost:  -0.985316884196952\n",
      "Finished ADAM training\n",
      "ADAM - Step:  0  Cost:  -0.9555622256640692\n",
      "Finished ADAM training\n"
     ]
    }
   ],
   "source": [
    "for train_method in TRAINERS:\n",
    "\n",
    "    params_run = np.random.random(num_params_encoding)\n",
    "\n",
    "    options = TRAINERS[train_method][\"options\"]\n",
    "    options.update({\"hamiltonian\":train_hamiltonians})\n",
    "\n",
    "    res_train = minimize(meta_cost, params_run, method = TRAINERS[train_method][\"fun\"], options = options)\n",
    "\n",
    "    TRAINING_ENERGIES[train_method][\"meta\"][\"trained_vars\"] = res_train.x\n",
    "    TRAINING_ENERGIES[train_method][\"meta\"][\"energies\"].append(res_train.fun)\n",
    "    TRAINING_ENERGIES[train_method][\"meta\"][\"runs\"] = res_train.nit"
   ]
  },
  {
   "cell_type": "code",
   "execution_count": 16,
   "id": "1b0c3853-60a7-4753-86e1-a13e35564c0b",
   "metadata": {},
   "outputs": [
    {
     "data": {
      "text/plain": [
       "<function matplotlib.pyplot.show(close=None, block=None)>"
      ]
     },
     "execution_count": 16,
     "metadata": {},
     "output_type": "execute_result"
    },
    {
     "data": {
      "image/png": "[encoded data removed]",
      "text/plain": [
       "<Figure size 640x480 with 1 Axes>"
      ]
     },
     "metadata": {},
     "output_type": "display_data"
    }
   ],
   "source": [
    "plt.scatter([i for i in range(len(TRAINING_ENERGIES['gradient_descent'][\"meta\"]['energies'][-1]))],TRAINING_ENERGIES['gradient_descent'][\"meta\"]['energies'][-1], label=\"gradient descent\", marker='x')\n",
    "plt.scatter([i for i in range(len(TRAINING_ENERGIES['spsa'][\"meta\"]['energies'][-1]))],TRAINING_ENERGIES['spsa'][\"meta\"]['energies'][-1], label=\"spsa\", marker='x')\n",
    "plt.scatter([i for i in range(len(TRAINING_ENERGIES['adam'][\"meta\"]['energies'][-1]))],TRAINING_ENERGIES['adam'][\"meta\"]['energies'][-1], label=\"adam\", marker='x')\n",
    "plt.scatter([i for i in range(len(TRAINING_ENERGIES['demon_adam'][\"meta\"]['energies'][-1]))],TRAINING_ENERGIES['demon_adam'][\"meta\"]['energies'][-1], label=\"demon adam\", marker='x')\n",
    "\n",
    "plt.legend()\n",
    "plt.title('Meta Energies for training steep (finite diff)')\n",
    "plt.ylabel('Cost function')\n",
    "plt.xlabel('Training step')\n",
    "plt.show"
   ]
  },
  {
   "cell_type": "code",
   "execution_count": 17,
   "id": "6114acc1-caac-494b-944c-4fe878a70797",
   "metadata": {},
   "outputs": [],
   "source": [
    "for count, d in enumerate(test_points):\n",
    "    for train_method in TRAINERS:\n",
    "        encoded_params = ENCODER_FUNC(TRAINING_ENERGIES[train_method][\"meta\"][\"trained_vars\"], d)\n",
    "        TRAINING_ENERGIES[train_method][\"meta\"][\"energies_after_meta\"].append(normal_cost(encoded_params,test_hamiltonians[count], return_grad = False))"
   ]
  },
  {
   "cell_type": "code",
   "execution_count": 18,
   "id": "f6c88f22-f853-4964-bc34-cd33fe2bdc7a",
   "metadata": {},
   "outputs": [
    {
     "data": {
      "image/png": "[encoded data removed]",
      "text/plain": [
       "<Figure size 640x480 with 2 Axes>"
      ]
     },
     "metadata": {},
     "output_type": "display_data"
    }
   ],
   "source": [
    "fig, (ax1, ax2) = plt.subplots(2, 1, sharex=True)\n",
    "\n",
    "plt.subplots_adjust(hspace=0)\n",
    "\n",
    "# ax1.plot(test_points, grad_descent_energies, label=\"gradient_descent\", marker='s' , color=colors[0])\n",
    "# ax1.plot(test_points, spsa_energies, label=\"spsa\", marker='o', color=colors[1])\n",
    "ax1.plot(test_points, TRAINING_ENERGIES[\"spsa\"][\"meta\"][\"energies_after_meta\"], label=\"spsa\", marker='v',)\n",
    "ax1.plot(test_points, TRAINING_ENERGIES[\"adam\"][\"meta\"][\"energies_after_meta\"], label=\"adam\", marker='s', )\n",
    "ax1.plot(test_points, fci_energies, label=\"FCI\", marker='.', color=\"r\")\n",
    "ax1.scatter(train_points, [fci_energies[i] for i in train_points_indexes], zorder=99, label=\"Train Points\", marker='*', color=\"black\")\n",
    "\n",
    "\n",
    "ax1.legend()\n",
    "ax1.set_title('$H_{2}$ - Singles Doubles')\n",
    "ax1.set_ylabel('Energy($E_{h}$)')\n",
    "\n",
    "# ax2.scatter(test_points, [np.abs(i-j) for i,j in zip(grad_descent_energies ,fci_energies)], label=\"gradient_descent\", marker='s', color=colors[0])\n",
    "# ax2.scatter(test_points, [np.abs(i-j) for i,j in zip(adam_energies ,fci_energies)], label=\"adam\", marker='v', color=colors[2])\n",
    "ax2.scatter(test_points, [np.abs(i-j)*1000 for i,j in zip(TRAINING_ENERGIES[\"spsa\"][\"meta\"][\"energies_after_meta\"] ,fci_energies)], label=\"spsa\", marker='v')\n",
    "# ax2.scatter(test_points, [np.abs(i-j)*1000 for i,j in zip(TRAINING_ENERGIES[\"adam\"][\"meta\"][\"energies_after_meta\"] ,fci_energies)], label=\"adam\", marker='s')\n",
    "\n",
    "\n",
    "ax1.sharex(ax2)\n",
    "ax1.set_xticklabels([])\n",
    "ax2.autoscale() ## call autoscale if needed\n",
    "ax2.fill_between([test_points[0]-0.2,test_points[-1]+0.2],1.6, color=\"#1f77b450\")\n",
    "\n",
    "# ax2.set_title('Error for each point')\n",
    "ax2.set_xlabel('Distance($a_{0}$)')\n",
    "ax2.set_ylabel('Error($mE_{h}$)')\n",
    "\n",
    "\n",
    "plt.show()"
   ]
  },
  {
   "cell_type": "code",
   "execution_count": 19,
   "id": "ded78a76",
   "metadata": {},
   "outputs": [
    {
     "name": "stdout",
     "output_type": "stream",
     "text": [
      "Gradient Descent - Step:  0  Cost:  -0.6093797041616279\n",
      "Gradient Descent - Step:  10  Cost:  -0.674567679917559\n",
      "Gradient Descent - Step:  20  Cost:  -0.6754126735126756\n",
      "Gradient Descent - Step:  30  Cost:  -0.6786743158321288\n",
      "Gradient Descent - Step:  40  Cost:  -0.6786181482902257\n",
      "Gradient Descent - Step:  50  Cost:  -0.6772436723191749\n",
      "Gradient Descent - Step:  60  Cost:  -0.676256244330491\n",
      "Gradient Descent - Step:  70  Cost:  -0.6782648653457856\n",
      "Gradient Descent - Step:  80  Cost:  -0.6768752940675115\n",
      "Finished Gradient Descent training\n",
      "Gradient Descent - Step:  0  Cost:  -0.6258241809873674\n",
      "Gradient Descent - Step:  10  Cost:  -0.6757472121176488\n",
      "Gradient Descent - Step:  20  Cost:  -0.6739053803407827\n",
      "Gradient Descent - Step:  30  Cost:  -0.6753401613633536\n",
      "Gradient Descent - Step:  40  Cost:  -0.6791459415384572\n",
      "Gradient Descent - Step:  50  Cost:  -0.6796946642948883\n",
      "Gradient Descent - Step:  60  Cost:  -0.6769036220771499\n",
      "Gradient Descent - Step:  70  Cost:  -0.6771742309886467\n",
      "Gradient Descent - Step:  80  Cost:  -0.6770552749221451\n",
      "Gradient Descent - Step:  90  Cost:  -0.6791446009335761\n",
      "Gradient Descent - Step:  100  Cost:  -0.6745410394670136\n",
      "Gradient Descent - Step:  110  Cost:  -0.6758825614414353\n",
      "Gradient Descent - Step:  120  Cost:  -0.6752054739940466\n",
      "Gradient Descent - Step:  130  Cost:  -0.6726019770458306\n",
      "Gradient Descent - Step:  140  Cost:  -0.6752308560121308\n",
      "Finished Gradient Descent training\n",
      "SPSA - Step:  0  Cost:  -0.5979602605092961\n",
      "SPSA - Step:  10  Cost:  -0.6619196793751473\n",
      "SPSA - Step:  20  Cost:  -0.6736901948442896\n",
      "SPSA - Step:  30  Cost:  -0.671657144506079\n",
      "SPSA - Step:  40  Cost:  -0.6763255046202566\n",
      "Finished SPSA training\n",
      "SPSA - Step:  0  Cost:  -0.6640850676998012\n",
      "SPSA - Step:  10  Cost:  -0.6768346934835738\n",
      "SPSA - Step:  20  Cost:  -0.6743171483867542\n",
      "Finished SPSA training\n",
      "ADAM - Step:  0  Cost:  -0.6040450133930556\n",
      "ADAM - Step:  10  Cost:  -0.6358807835480468\n",
      "Finished ADAM training\n",
      "ADAM - Step:  0  Cost:  -0.6256136047819428\n",
      "ADAM - Step:  10  Cost:  -0.6507942424882761\n",
      "ADAM - Step:  20  Cost:  -0.669719918730807\n",
      "ADAM - Step:  30  Cost:  -0.677590815194637\n",
      "ADAM - Step:  40  Cost:  -0.6767259085636688\n",
      "ADAM - Step:  50  Cost:  -0.676915059219864\n",
      "ADAM - Step:  60  Cost:  -0.6776166430352756\n",
      "ADAM - Step:  70  Cost:  -0.6757217647537757\n",
      "ADAM - Step:  80  Cost:  -0.6705813726283161\n",
      "Finished ADAM training\n",
      "ADAM - Step:  0  Cost:  -0.5901962864912723\n",
      "ADAM - Step:  10  Cost:  -0.6400309567751338\n",
      "ADAM - Step:  20  Cost:  -0.6673726869467109\n",
      "ADAM - Step:  30  Cost:  -0.6757938202489592\n",
      "ADAM - Step:  40  Cost:  -0.6758894639018442\n",
      "ADAM - Step:  50  Cost:  -0.6752948603143708\n",
      "ADAM - Step:  60  Cost:  -0.678748383149648\n",
      "Finished ADAM training\n",
      "ADAM - Step:  0  Cost:  -0.5150367150252554\n",
      "ADAM - Step:  10  Cost:  -0.5570229692259546\n",
      "ADAM - Step:  20  Cost:  -0.6221710959577949\n",
      "ADAM - Step:  30  Cost:  -0.6470194790962299\n",
      "ADAM - Step:  40  Cost:  -0.6610500403251893\n",
      "ADAM - Step:  50  Cost:  -0.6765124943672982\n",
      "ADAM - Step:  60  Cost:  -0.6731906216050884\n",
      "Finished ADAM training\n",
      "Gradient Descent - Step:  0  Cost:  -0.9302563716753341\n",
      "Gradient Descent - Step:  10  Cost:  -0.9557778507261337\n",
      "Finished Gradient Descent training\n",
      "Gradient Descent - Step:  0  Cost:  -0.9552689646054836\n",
      "Gradient Descent - Step:  10  Cost:  -0.9593035650296168\n",
      "Gradient Descent - Step:  20  Cost:  -0.9603600246119327\n",
      "Gradient Descent - Step:  30  Cost:  -0.9594864525533576\n",
      "Gradient Descent - Step:  40  Cost:  -0.9564362216868961\n",
      "Gradient Descent - Step:  50  Cost:  -0.9553365917213964\n",
      "Gradient Descent - Step:  60  Cost:  -0.9553816136875087\n",
      "Gradient Descent - Step:  70  Cost:  -0.961523942871212\n",
      "Gradient Descent - Step:  80  Cost:  -0.9564218041794287\n",
      "Gradient Descent - Step:  90  Cost:  -0.9569937805595344\n",
      "Gradient Descent - Step:  100  Cost:  -0.957349356373196\n",
      "Finished Gradient Descent training\n",
      "SPSA - Step:  0  Cost:  -0.9252776918175841\n",
      "SPSA - Step:  10  Cost:  -0.9432006004721342\n"
     ]
    },
    {
     "ename": "KeyboardInterrupt",
     "evalue": "",
     "output_type": "error",
     "traceback": [
      "\u001b[0;31m---------------------------------------------------------------------------\u001b[0m",
      "\u001b[0;31mKeyboardInterrupt\u001b[0m                         Traceback (most recent call last)",
      "Cell \u001b[0;32mIn[19], line 10\u001b[0m\n\u001b[1;32m      7\u001b[0m options \u001b[38;5;241m=\u001b[39m TRAINERS[train_method][\u001b[38;5;124m\"\u001b[39m\u001b[38;5;124moptions\u001b[39m\u001b[38;5;124m\"\u001b[39m]\n\u001b[1;32m      8\u001b[0m options\u001b[38;5;241m.\u001b[39mupdate({\u001b[38;5;124m\"\u001b[39m\u001b[38;5;124mhamiltonian\u001b[39m\u001b[38;5;124m\"\u001b[39m:work_hamiltonian})\n\u001b[0;32m---> 10\u001b[0m res_train \u001b[38;5;241m=\u001b[39m \u001b[43mminimize\u001b[49m\u001b[43m(\u001b[49m\u001b[43mnormal_cost\u001b[49m\u001b[43m,\u001b[49m\u001b[43m \u001b[49m\u001b[43minit_params_run\u001b[49m\u001b[43m,\u001b[49m\u001b[43m \u001b[49m\u001b[43mmethod\u001b[49m\u001b[43m \u001b[49m\u001b[38;5;241;43m=\u001b[39;49m\u001b[43m \u001b[49m\u001b[43mTRAINERS\u001b[49m\u001b[43m[\u001b[49m\u001b[43mtrain_method\u001b[49m\u001b[43m]\u001b[49m\u001b[43m[\u001b[49m\u001b[38;5;124;43m\"\u001b[39;49m\u001b[38;5;124;43mfun\u001b[39;49m\u001b[38;5;124;43m\"\u001b[39;49m\u001b[43m]\u001b[49m\u001b[43m,\u001b[49m\u001b[43m \u001b[49m\u001b[43moptions\u001b[49m\u001b[43m \u001b[49m\u001b[38;5;241;43m=\u001b[39;49m\u001b[43m \u001b[49m\u001b[43moptions\u001b[49m\u001b[43m)\u001b[49m\n\u001b[1;32m     12\u001b[0m TRAINING_ENERGIES[train_method][\u001b[38;5;124m\"\u001b[39m\u001b[38;5;124mopt_meta\u001b[39m\u001b[38;5;124m\"\u001b[39m][\u001b[38;5;124m\"\u001b[39m\u001b[38;5;124mtrained_vars\u001b[39m\u001b[38;5;124m\"\u001b[39m]\u001b[38;5;241m.\u001b[39mappend(res_train\u001b[38;5;241m.\u001b[39mx)  \n\u001b[1;32m     13\u001b[0m TRAINING_ENERGIES[train_method][\u001b[38;5;124m\"\u001b[39m\u001b[38;5;124mopt_meta\u001b[39m\u001b[38;5;124m\"\u001b[39m][\u001b[38;5;124m\"\u001b[39m\u001b[38;5;124menergies\u001b[39m\u001b[38;5;124m\"\u001b[39m]\u001b[38;5;241m.\u001b[39mappend(res_train\u001b[38;5;241m.\u001b[39mfun)\n",
      "File \u001b[0;32m/opt/conda/lib/python3.10/site-packages/scipy/optimize/_minimize.py:622\u001b[0m, in \u001b[0;36mminimize\u001b[0;34m(fun, x0, args, method, jac, hess, hessp, bounds, constraints, tol, callback, options)\u001b[0m\n\u001b[1;32m    616\u001b[0m         options\u001b[38;5;241m.\u001b[39msetdefault(\u001b[38;5;124m'\u001b[39m\u001b[38;5;124mbarrier_tol\u001b[39m\u001b[38;5;124m'\u001b[39m, tol)\n\u001b[1;32m    618\u001b[0m \u001b[38;5;28;01mif\u001b[39;00m meth \u001b[38;5;241m==\u001b[39m \u001b[38;5;124m'\u001b[39m\u001b[38;5;124m_custom\u001b[39m\u001b[38;5;124m'\u001b[39m:\n\u001b[1;32m    619\u001b[0m     \u001b[38;5;66;03m# custom method called before bounds and constraints are 'standardised'\u001b[39;00m\n\u001b[1;32m    620\u001b[0m     \u001b[38;5;66;03m# custom method should be able to accept whatever bounds/constraints\u001b[39;00m\n\u001b[1;32m    621\u001b[0m     \u001b[38;5;66;03m# are provided to it.\u001b[39;00m\n\u001b[0;32m--> 622\u001b[0m     \u001b[38;5;28;01mreturn\u001b[39;00m \u001b[43mmethod\u001b[49m\u001b[43m(\u001b[49m\u001b[43mfun\u001b[49m\u001b[43m,\u001b[49m\u001b[43m \u001b[49m\u001b[43mx0\u001b[49m\u001b[43m,\u001b[49m\u001b[43m \u001b[49m\u001b[43margs\u001b[49m\u001b[38;5;241;43m=\u001b[39;49m\u001b[43margs\u001b[49m\u001b[43m,\u001b[49m\u001b[43m \u001b[49m\u001b[43mjac\u001b[49m\u001b[38;5;241;43m=\u001b[39;49m\u001b[43mjac\u001b[49m\u001b[43m,\u001b[49m\u001b[43m \u001b[49m\u001b[43mhess\u001b[49m\u001b[38;5;241;43m=\u001b[39;49m\u001b[43mhess\u001b[49m\u001b[43m,\u001b[49m\u001b[43m \u001b[49m\u001b[43mhessp\u001b[49m\u001b[38;5;241;43m=\u001b[39;49m\u001b[43mhessp\u001b[49m\u001b[43m,\u001b[49m\n\u001b[1;32m    623\u001b[0m \u001b[43m                  \u001b[49m\u001b[43mbounds\u001b[49m\u001b[38;5;241;43m=\u001b[39;49m\u001b[43mbounds\u001b[49m\u001b[43m,\u001b[49m\u001b[43m \u001b[49m\u001b[43mconstraints\u001b[49m\u001b[38;5;241;43m=\u001b[39;49m\u001b[43mconstraints\u001b[49m\u001b[43m,\u001b[49m\n\u001b[1;32m    624\u001b[0m \u001b[43m                  \u001b[49m\u001b[43mcallback\u001b[49m\u001b[38;5;241;43m=\u001b[39;49m\u001b[43mcallback\u001b[49m\u001b[43m,\u001b[49m\u001b[43m \u001b[49m\u001b[38;5;241;43m*\u001b[39;49m\u001b[38;5;241;43m*\u001b[39;49m\u001b[43moptions\u001b[49m\u001b[43m)\u001b[49m\n\u001b[1;32m    626\u001b[0m constraints \u001b[38;5;241m=\u001b[39m standardize_constraints(constraints, x0, meth)\n\u001b[1;32m    628\u001b[0m remove_vars \u001b[38;5;241m=\u001b[39m \u001b[38;5;28;01mFalse\u001b[39;00m\n",
      "File \u001b[0;32m~/meta-VQE-pennylane/pennylane/custom_optimizers.py:62\u001b[0m, in \u001b[0;36mspsa_optimizer\u001b[0;34m(fun, x0, maxiter, alpha, gamma, c, A, a, tol, verbose, hamiltonian, **options)\u001b[0m\n\u001b[1;32m     60\u001b[0m thetaplus \u001b[38;5;241m=\u001b[39m new_params\u001b[38;5;241m+\u001b[39mck\u001b[38;5;241m*\u001b[39mdelta\n\u001b[1;32m     61\u001b[0m thetaminus \u001b[38;5;241m=\u001b[39m new_params\u001b[38;5;241m-\u001b[39mck\u001b[38;5;241m*\u001b[39mdelta\n\u001b[0;32m---> 62\u001b[0m yplus \u001b[38;5;241m=\u001b[39m \u001b[43mfun\u001b[49m\u001b[43m(\u001b[49m\u001b[43mthetaplus\u001b[49m\u001b[43m,\u001b[49m\u001b[43m \u001b[49m\u001b[43mhamiltonian\u001b[49m\u001b[43m,\u001b[49m\u001b[43m \u001b[49m\u001b[43mreturn_grad\u001b[49m\u001b[38;5;241;43m=\u001b[39;49m\u001b[38;5;28;43;01mFalse\u001b[39;49;00m\u001b[43m)\u001b[49m\n\u001b[1;32m     63\u001b[0m yminus \u001b[38;5;241m=\u001b[39m fun(thetaminus, hamiltonian, return_grad\u001b[38;5;241m=\u001b[39m\u001b[38;5;28;01mFalse\u001b[39;00m)\n\u001b[1;32m     65\u001b[0m grad \u001b[38;5;241m=\u001b[39m np\u001b[38;5;241m.\u001b[39marray([(yplus \u001b[38;5;241m-\u001b[39m yminus) \u001b[38;5;241m/\u001b[39m (\u001b[38;5;241m2\u001b[39m \u001b[38;5;241m*\u001b[39m ck \u001b[38;5;241m*\u001b[39m di) \u001b[38;5;28;01mfor\u001b[39;00m di \u001b[38;5;129;01min\u001b[39;00m delta])\n",
      "Cell \u001b[0;32mIn[14], line 6\u001b[0m, in \u001b[0;36mnormal_cost\u001b[0;34m(params, hamiltonian, return_grad)\u001b[0m\n\u001b[1;32m      4\u001b[0m     \u001b[38;5;28;01mreturn\u001b[39;00m normal_circuit(params, hamiltonian), np\u001b[38;5;241m.\u001b[39marray(normal_grad_fun(params, hamiltonian))\n\u001b[1;32m      5\u001b[0m \u001b[38;5;28;01melse\u001b[39;00m:\n\u001b[0;32m----> 6\u001b[0m     \u001b[38;5;28;01mreturn\u001b[39;00m \u001b[43mnormal_circuit\u001b[49m\u001b[43m(\u001b[49m\u001b[43mparams\u001b[49m\u001b[43m,\u001b[49m\u001b[43m \u001b[49m\u001b[43mhamiltonian\u001b[49m\u001b[43m)\u001b[49m\n",
      "File \u001b[0;32m/opt/conda/lib/python3.10/site-packages/pennylane/qnode.py:950\u001b[0m, in \u001b[0;36mQNode.__call__\u001b[0;34m(self, *args, **kwargs)\u001b[0m\n\u001b[1;32m    948\u001b[0m     \u001b[38;5;28mself\u001b[39m\u001b[38;5;241m.\u001b[39mexecute_kwargs\u001b[38;5;241m.\u001b[39mpop(\u001b[38;5;124m\"\u001b[39m\u001b[38;5;124mmode\u001b[39m\u001b[38;5;124m\"\u001b[39m)\n\u001b[1;32m    949\u001b[0m \u001b[38;5;66;03m# pylint: disable=unexpected-keyword-arg\u001b[39;00m\n\u001b[0;32m--> 950\u001b[0m res \u001b[38;5;241m=\u001b[39m \u001b[43mqml\u001b[49m\u001b[38;5;241;43m.\u001b[39;49m\u001b[43mexecute\u001b[49m\u001b[43m(\u001b[49m\n\u001b[1;32m    951\u001b[0m \u001b[43m    \u001b[49m\u001b[43m[\u001b[49m\u001b[38;5;28;43mself\u001b[39;49m\u001b[38;5;241;43m.\u001b[39;49m\u001b[43mtape\u001b[49m\u001b[43m]\u001b[49m\u001b[43m,\u001b[49m\n\u001b[1;32m    952\u001b[0m \u001b[43m    \u001b[49m\u001b[43mdevice\u001b[49m\u001b[38;5;241;43m=\u001b[39;49m\u001b[38;5;28;43mself\u001b[39;49m\u001b[38;5;241;43m.\u001b[39;49m\u001b[43mdevice\u001b[49m\u001b[43m,\u001b[49m\n\u001b[1;32m    953\u001b[0m \u001b[43m    \u001b[49m\u001b[43mgradient_fn\u001b[49m\u001b[38;5;241;43m=\u001b[39;49m\u001b[38;5;28;43mself\u001b[39;49m\u001b[38;5;241;43m.\u001b[39;49m\u001b[43mgradient_fn\u001b[49m\u001b[43m,\u001b[49m\n\u001b[1;32m    954\u001b[0m \u001b[43m    \u001b[49m\u001b[43minterface\u001b[49m\u001b[38;5;241;43m=\u001b[39;49m\u001b[38;5;28;43mself\u001b[39;49m\u001b[38;5;241;43m.\u001b[39;49m\u001b[43minterface\u001b[49m\u001b[43m,\u001b[49m\n\u001b[1;32m    955\u001b[0m \u001b[43m    \u001b[49m\u001b[43mgradient_kwargs\u001b[49m\u001b[38;5;241;43m=\u001b[39;49m\u001b[38;5;28;43mself\u001b[39;49m\u001b[38;5;241;43m.\u001b[39;49m\u001b[43mgradient_kwargs\u001b[49m\u001b[43m,\u001b[49m\n\u001b[1;32m    956\u001b[0m \u001b[43m    \u001b[49m\u001b[43moverride_shots\u001b[49m\u001b[38;5;241;43m=\u001b[39;49m\u001b[43moverride_shots\u001b[49m\u001b[43m,\u001b[49m\n\u001b[1;32m    957\u001b[0m \u001b[43m    \u001b[49m\u001b[38;5;241;43m*\u001b[39;49m\u001b[38;5;241;43m*\u001b[39;49m\u001b[38;5;28;43mself\u001b[39;49m\u001b[38;5;241;43m.\u001b[39;49m\u001b[43mexecute_kwargs\u001b[49m\u001b[43m,\u001b[49m\n\u001b[1;32m    958\u001b[0m \u001b[43m\u001b[49m\u001b[43m)\u001b[49m\n\u001b[1;32m    960\u001b[0m res \u001b[38;5;241m=\u001b[39m res[\u001b[38;5;241m0\u001b[39m]\n\u001b[1;32m    962\u001b[0m \u001b[38;5;66;03m# convert result to the interface in case the qfunc has no parameters\u001b[39;00m\n",
      "File \u001b[0;32m/opt/conda/lib/python3.10/site-packages/pennylane/interfaces/execution.py:642\u001b[0m, in \u001b[0;36mexecute\u001b[0;34m(tapes, device, gradient_fn, interface, grad_on_execution, gradient_kwargs, cache, cachesize, max_diff, override_shots, expand_fn, max_expansion, device_batch_transform)\u001b[0m\n\u001b[1;32m    639\u001b[0m     \u001b[38;5;28;01melif\u001b[39;00m mapped_interface \u001b[38;5;241m==\u001b[39m \u001b[38;5;124m\"\u001b[39m\u001b[38;5;124mjax\u001b[39m\u001b[38;5;124m\"\u001b[39m:\n\u001b[1;32m    640\u001b[0m         _execute \u001b[38;5;241m=\u001b[39m _get_jax_execute_fn(interface, tapes)\n\u001b[0;32m--> 642\u001b[0m     res \u001b[38;5;241m=\u001b[39m \u001b[43m_execute\u001b[49m\u001b[43m(\u001b[49m\n\u001b[1;32m    643\u001b[0m \u001b[43m        \u001b[49m\u001b[43mtapes\u001b[49m\u001b[43m,\u001b[49m\u001b[43m \u001b[49m\u001b[43mdevice\u001b[49m\u001b[43m,\u001b[49m\u001b[43m \u001b[49m\u001b[43mexecute_fn\u001b[49m\u001b[43m,\u001b[49m\u001b[43m \u001b[49m\u001b[43mgradient_fn\u001b[49m\u001b[43m,\u001b[49m\u001b[43m \u001b[49m\u001b[43mgradient_kwargs\u001b[49m\u001b[43m,\u001b[49m\u001b[43m \u001b[49m\u001b[43m_n\u001b[49m\u001b[38;5;241;43m=\u001b[39;49m\u001b[38;5;241;43m1\u001b[39;49m\u001b[43m,\u001b[49m\u001b[43m \u001b[49m\u001b[43mmax_diff\u001b[49m\u001b[38;5;241;43m=\u001b[39;49m\u001b[43mmax_diff\u001b[49m\n\u001b[1;32m    644\u001b[0m \u001b[43m    \u001b[49m\u001b[43m)\u001b[49m\n\u001b[1;32m    646\u001b[0m \u001b[38;5;28;01mexcept\u001b[39;00m \u001b[38;5;167;01mImportError\u001b[39;00m \u001b[38;5;28;01mas\u001b[39;00m e:\n\u001b[1;32m    647\u001b[0m     \u001b[38;5;28;01mraise\u001b[39;00m qml\u001b[38;5;241m.\u001b[39mQuantumFunctionError(\n\u001b[1;32m    648\u001b[0m         \u001b[38;5;124mf\u001b[39m\u001b[38;5;124m\"\u001b[39m\u001b[38;5;132;01m{\u001b[39;00mmapped_interface\u001b[38;5;132;01m}\u001b[39;00m\u001b[38;5;124m not found. Please install the latest \u001b[39m\u001b[38;5;124m\"\u001b[39m\n\u001b[1;32m    649\u001b[0m         \u001b[38;5;124mf\u001b[39m\u001b[38;5;124m\"\u001b[39m\u001b[38;5;124mversion of \u001b[39m\u001b[38;5;132;01m{\u001b[39;00mmapped_interface\u001b[38;5;132;01m}\u001b[39;00m\u001b[38;5;124m to enable the \u001b[39m\u001b[38;5;124m'\u001b[39m\u001b[38;5;132;01m{\u001b[39;00mmapped_interface\u001b[38;5;132;01m}\u001b[39;00m\u001b[38;5;124m'\u001b[39m\u001b[38;5;124m interface.\u001b[39m\u001b[38;5;124m\"\u001b[39m\n\u001b[1;32m    650\u001b[0m     ) \u001b[38;5;28;01mfrom\u001b[39;00m \u001b[38;5;21;01me\u001b[39;00m\n",
      "File \u001b[0;32m/opt/conda/lib/python3.10/site-packages/pennylane/interfaces/autograd.py:319\u001b[0m, in \u001b[0;36mexecute\u001b[0;34m(tapes, device, execute_fn, gradient_fn, gradient_kwargs, _n, max_diff)\u001b[0m\n\u001b[1;32m    314\u001b[0m \u001b[38;5;66;03m# pylint misidentifies autograd.builtins as a dict\u001b[39;00m\n\u001b[1;32m    315\u001b[0m \u001b[38;5;66;03m# pylint: disable=no-member\u001b[39;00m\n\u001b[1;32m    316\u001b[0m parameters \u001b[38;5;241m=\u001b[39m autograd\u001b[38;5;241m.\u001b[39mbuiltins\u001b[38;5;241m.\u001b[39mtuple(\n\u001b[1;32m    317\u001b[0m     [autograd\u001b[38;5;241m.\u001b[39mbuiltins\u001b[38;5;241m.\u001b[39mlist(t\u001b[38;5;241m.\u001b[39mget_parameters()) \u001b[38;5;28;01mfor\u001b[39;00m t \u001b[38;5;129;01min\u001b[39;00m tapes]\n\u001b[1;32m    318\u001b[0m )\n\u001b[0;32m--> 319\u001b[0m \u001b[38;5;28;01mreturn\u001b[39;00m \u001b[43m_execute\u001b[49m\u001b[43m(\u001b[49m\n\u001b[1;32m    320\u001b[0m \u001b[43m    \u001b[49m\u001b[43mparameters\u001b[49m\u001b[43m,\u001b[49m\n\u001b[1;32m    321\u001b[0m \u001b[43m    \u001b[49m\u001b[43mtapes\u001b[49m\u001b[38;5;241;43m=\u001b[39;49m\u001b[43mtapes\u001b[49m\u001b[43m,\u001b[49m\n\u001b[1;32m    322\u001b[0m \u001b[43m    \u001b[49m\u001b[43mdevice\u001b[49m\u001b[38;5;241;43m=\u001b[39;49m\u001b[43mdevice\u001b[49m\u001b[43m,\u001b[49m\n\u001b[1;32m    323\u001b[0m \u001b[43m    \u001b[49m\u001b[43mexecute_fn\u001b[49m\u001b[38;5;241;43m=\u001b[39;49m\u001b[43mexecute_fn\u001b[49m\u001b[43m,\u001b[49m\n\u001b[1;32m    324\u001b[0m \u001b[43m    \u001b[49m\u001b[43mgradient_fn\u001b[49m\u001b[38;5;241;43m=\u001b[39;49m\u001b[43mgradient_fn\u001b[49m\u001b[43m,\u001b[49m\n\u001b[1;32m    325\u001b[0m \u001b[43m    \u001b[49m\u001b[43mgradient_kwargs\u001b[49m\u001b[38;5;241;43m=\u001b[39;49m\u001b[43mgradient_kwargs\u001b[49m\u001b[43m,\u001b[49m\n\u001b[1;32m    326\u001b[0m \u001b[43m    \u001b[49m\u001b[43m_n\u001b[49m\u001b[38;5;241;43m=\u001b[39;49m\u001b[43m_n\u001b[49m\u001b[43m,\u001b[49m\n\u001b[1;32m    327\u001b[0m \u001b[43m    \u001b[49m\u001b[43mmax_diff\u001b[49m\u001b[38;5;241;43m=\u001b[39;49m\u001b[43mmax_diff\u001b[49m\u001b[43m,\u001b[49m\n\u001b[1;32m    328\u001b[0m \u001b[43m\u001b[49m\u001b[43m)\u001b[49m[\u001b[38;5;241m0\u001b[39m]\n",
      "File \u001b[0;32m/opt/conda/lib/python3.10/site-packages/autograd/tracer.py:48\u001b[0m, in \u001b[0;36mprimitive.<locals>.f_wrapped\u001b[0;34m(*args, **kwargs)\u001b[0m\n\u001b[1;32m     46\u001b[0m     \u001b[38;5;28;01mreturn\u001b[39;00m new_box(ans, trace, node)\n\u001b[1;32m     47\u001b[0m \u001b[38;5;28;01melse\u001b[39;00m:\n\u001b[0;32m---> 48\u001b[0m     \u001b[38;5;28;01mreturn\u001b[39;00m \u001b[43mf_raw\u001b[49m\u001b[43m(\u001b[49m\u001b[38;5;241;43m*\u001b[39;49m\u001b[43margs\u001b[49m\u001b[43m,\u001b[49m\u001b[43m \u001b[49m\u001b[38;5;241;43m*\u001b[39;49m\u001b[38;5;241;43m*\u001b[39;49m\u001b[43mkwargs\u001b[49m\u001b[43m)\u001b[49m\n",
      "File \u001b[0;32m/opt/conda/lib/python3.10/site-packages/pennylane/interfaces/autograd.py:363\u001b[0m, in \u001b[0;36m_execute\u001b[0;34m(parameters, tapes, device, execute_fn, gradient_fn, gradient_kwargs, _n, max_diff)\u001b[0m\n\u001b[1;32m    342\u001b[0m \u001b[38;5;250m\u001b[39m\u001b[38;5;124;03m\"\"\"Autodifferentiable wrapper around ``Device.batch_execute``.\u001b[39;00m\n\u001b[1;32m    343\u001b[0m \n\u001b[1;32m    344\u001b[0m \u001b[38;5;124;03mThe signature of this function is designed to work around Autograd restrictions.\u001b[39;00m\n\u001b[0;32m   (...)\u001b[0m\n\u001b[1;32m    360\u001b[0m \u001b[38;5;124;03munderstand the consequences!\u001b[39;00m\n\u001b[1;32m    361\u001b[0m \u001b[38;5;124;03m\"\"\"\u001b[39;00m\n\u001b[1;32m    362\u001b[0m unwrapped_tapes \u001b[38;5;241m=\u001b[39m \u001b[38;5;28mtuple\u001b[39m(convert_to_numpy_parameters(t) \u001b[38;5;28;01mfor\u001b[39;00m t \u001b[38;5;129;01min\u001b[39;00m tapes)\n\u001b[0;32m--> 363\u001b[0m res, jacs \u001b[38;5;241m=\u001b[39m \u001b[43mexecute_fn\u001b[49m\u001b[43m(\u001b[49m\u001b[43munwrapped_tapes\u001b[49m\u001b[43m,\u001b[49m\u001b[43m \u001b[49m\u001b[38;5;241;43m*\u001b[39;49m\u001b[38;5;241;43m*\u001b[39;49m\u001b[43mgradient_kwargs\u001b[49m\u001b[43m)\u001b[49m\n\u001b[1;32m    365\u001b[0m \u001b[38;5;28;01mreturn\u001b[39;00m res, jacs\n",
      "File \u001b[0;32m/opt/conda/lib/python3.10/site-packages/pennylane/interfaces/execution.py:287\u001b[0m, in \u001b[0;36mcache_execute.<locals>.wrapper\u001b[0;34m(tapes, **kwargs)\u001b[0m\n\u001b[1;32m    282\u001b[0m         \u001b[38;5;28;01mreturn\u001b[39;00m (res, []) \u001b[38;5;28;01mif\u001b[39;00m return_tuple \u001b[38;5;28;01melse\u001b[39;00m res\n\u001b[1;32m    284\u001b[0m \u001b[38;5;28;01melse\u001b[39;00m:\n\u001b[1;32m    285\u001b[0m     \u001b[38;5;66;03m# execute all unique tapes that do not exist in the cache\u001b[39;00m\n\u001b[1;32m    286\u001b[0m     \u001b[38;5;66;03m# convert to list as new device interface returns a tuple\u001b[39;00m\n\u001b[0;32m--> 287\u001b[0m     res \u001b[38;5;241m=\u001b[39m \u001b[38;5;28mlist\u001b[39m(\u001b[43mfn\u001b[49m\u001b[43m(\u001b[49m\u001b[43mexecution_tapes\u001b[49m\u001b[38;5;241;43m.\u001b[39;49m\u001b[43mvalues\u001b[49m\u001b[43m(\u001b[49m\u001b[43m)\u001b[49m\u001b[43m,\u001b[49m\u001b[43m \u001b[49m\u001b[38;5;241;43m*\u001b[39;49m\u001b[38;5;241;43m*\u001b[39;49m\u001b[43mkwargs\u001b[49m\u001b[43m)\u001b[49m)\n\u001b[1;32m    289\u001b[0m final_res \u001b[38;5;241m=\u001b[39m []\n\u001b[1;32m    291\u001b[0m \u001b[38;5;28;01mfor\u001b[39;00m i, tape \u001b[38;5;129;01min\u001b[39;00m \u001b[38;5;28menumerate\u001b[39m(tapes):\n",
      "File \u001b[0;32m/opt/conda/lib/python3.10/site-packages/pennylane/interfaces/execution.py:210\u001b[0m, in \u001b[0;36mcache_execute.<locals>.fn\u001b[0;34m(tapes, **kwargs)\u001b[0m\n\u001b[1;32m    208\u001b[0m \u001b[38;5;28;01mdef\u001b[39;00m \u001b[38;5;21mfn\u001b[39m(tapes: Sequence[QuantumTape], \u001b[38;5;241m*\u001b[39m\u001b[38;5;241m*\u001b[39mkwargs):  \u001b[38;5;66;03m# pylint: disable=function-redefined\u001b[39;00m\n\u001b[1;32m    209\u001b[0m     tapes \u001b[38;5;241m=\u001b[39m [expand_fn(tape) \u001b[38;5;28;01mfor\u001b[39;00m tape \u001b[38;5;129;01min\u001b[39;00m tapes]\n\u001b[0;32m--> 210\u001b[0m     \u001b[38;5;28;01mreturn\u001b[39;00m \u001b[43moriginal_fn\u001b[49m\u001b[43m(\u001b[49m\u001b[43mtapes\u001b[49m\u001b[43m,\u001b[49m\u001b[43m \u001b[49m\u001b[38;5;241;43m*\u001b[39;49m\u001b[38;5;241;43m*\u001b[39;49m\u001b[43mkwargs\u001b[49m\u001b[43m)\u001b[49m\n",
      "File \u001b[0;32m/opt/conda/lib/python3.10/contextlib.py:79\u001b[0m, in \u001b[0;36mContextDecorator.__call__.<locals>.inner\u001b[0;34m(*args, **kwds)\u001b[0m\n\u001b[1;32m     76\u001b[0m \u001b[38;5;129m@wraps\u001b[39m(func)\n\u001b[1;32m     77\u001b[0m \u001b[38;5;28;01mdef\u001b[39;00m \u001b[38;5;21minner\u001b[39m(\u001b[38;5;241m*\u001b[39margs, \u001b[38;5;241m*\u001b[39m\u001b[38;5;241m*\u001b[39mkwds):\n\u001b[1;32m     78\u001b[0m     \u001b[38;5;28;01mwith\u001b[39;00m \u001b[38;5;28mself\u001b[39m\u001b[38;5;241m.\u001b[39m_recreate_cm():\n\u001b[0;32m---> 79\u001b[0m         \u001b[38;5;28;01mreturn\u001b[39;00m \u001b[43mfunc\u001b[49m\u001b[43m(\u001b[49m\u001b[38;5;241;43m*\u001b[39;49m\u001b[43margs\u001b[49m\u001b[43m,\u001b[49m\u001b[43m \u001b[49m\u001b[38;5;241;43m*\u001b[39;49m\u001b[38;5;241;43m*\u001b[39;49m\u001b[43mkwds\u001b[49m\u001b[43m)\u001b[49m\n",
      "File \u001b[0;32m/opt/conda/lib/python3.10/site-packages/pennylane/_qubit_device.py:603\u001b[0m, in \u001b[0;36mQubitDevice.batch_execute\u001b[0;34m(self, circuits)\u001b[0m\n\u001b[1;32m    598\u001b[0m \u001b[38;5;28;01mfor\u001b[39;00m circuit \u001b[38;5;129;01min\u001b[39;00m circuits:\n\u001b[1;32m    599\u001b[0m     \u001b[38;5;66;03m# we need to reset the device here, else it will\u001b[39;00m\n\u001b[1;32m    600\u001b[0m     \u001b[38;5;66;03m# not start the next computation in the zero state\u001b[39;00m\n\u001b[1;32m    601\u001b[0m     \u001b[38;5;28mself\u001b[39m\u001b[38;5;241m.\u001b[39mreset()\n\u001b[0;32m--> 603\u001b[0m     res \u001b[38;5;241m=\u001b[39m \u001b[38;5;28;43mself\u001b[39;49m\u001b[38;5;241;43m.\u001b[39;49m\u001b[43mexecute\u001b[49m\u001b[43m(\u001b[49m\u001b[43mcircuit\u001b[49m\u001b[43m)\u001b[49m\n\u001b[1;32m    604\u001b[0m     results\u001b[38;5;241m.\u001b[39mappend(res)\n\u001b[1;32m    606\u001b[0m \u001b[38;5;28;01mif\u001b[39;00m \u001b[38;5;28mself\u001b[39m\u001b[38;5;241m.\u001b[39mtracker\u001b[38;5;241m.\u001b[39mactive:\n",
      "File \u001b[0;32m/opt/conda/lib/python3.10/site-packages/pennylane/_qubit_device.py:324\u001b[0m, in \u001b[0;36mQubitDevice.execute\u001b[0;34m(self, circuit, **kwargs)\u001b[0m\n\u001b[1;32m    322\u001b[0m \u001b[38;5;66;03m# generate computational basis samples\u001b[39;00m\n\u001b[1;32m    323\u001b[0m \u001b[38;5;28;01mif\u001b[39;00m \u001b[38;5;28mself\u001b[39m\u001b[38;5;241m.\u001b[39mshots \u001b[38;5;129;01mis\u001b[39;00m \u001b[38;5;129;01mnot\u001b[39;00m \u001b[38;5;28;01mNone\u001b[39;00m \u001b[38;5;129;01mor\u001b[39;00m circuit\u001b[38;5;241m.\u001b[39mis_sampled:\n\u001b[0;32m--> 324\u001b[0m     \u001b[38;5;28mself\u001b[39m\u001b[38;5;241m.\u001b[39m_samples \u001b[38;5;241m=\u001b[39m \u001b[38;5;28;43mself\u001b[39;49m\u001b[38;5;241;43m.\u001b[39;49m\u001b[43mgenerate_samples\u001b[49m\u001b[43m(\u001b[49m\u001b[43m)\u001b[49m\n\u001b[1;32m    326\u001b[0m \u001b[38;5;66;03m# compute the required statistics\u001b[39;00m\n\u001b[1;32m    327\u001b[0m \u001b[38;5;28;01mif\u001b[39;00m \u001b[38;5;28mself\u001b[39m\u001b[38;5;241m.\u001b[39m_shot_vector \u001b[38;5;129;01mis\u001b[39;00m \u001b[38;5;129;01mnot\u001b[39;00m \u001b[38;5;28;01mNone\u001b[39;00m:\n",
      "File \u001b[0;32m/opt/conda/lib/python3.10/site-packages/pennylane_lightning/lightning_qubit.py:844\u001b[0m, in \u001b[0;36mLightningQubit.generate_samples\u001b[0;34m(self)\u001b[0m\n\u001b[1;32m    840\u001b[0m     \u001b[38;5;28;01mreturn\u001b[39;00m M\u001b[38;5;241m.\u001b[39mgenerate_mcmc_samples(\n\u001b[1;32m    841\u001b[0m         \u001b[38;5;28mlen\u001b[39m(\u001b[38;5;28mself\u001b[39m\u001b[38;5;241m.\u001b[39mwires), \u001b[38;5;28mself\u001b[39m\u001b[38;5;241m.\u001b[39m_kernel_name, \u001b[38;5;28mself\u001b[39m\u001b[38;5;241m.\u001b[39m_num_burnin, \u001b[38;5;28mself\u001b[39m\u001b[38;5;241m.\u001b[39mshots\n\u001b[1;32m    842\u001b[0m     )\u001b[38;5;241m.\u001b[39mastype(\u001b[38;5;28mint\u001b[39m, copy\u001b[38;5;241m=\u001b[39m\u001b[38;5;28;01mFalse\u001b[39;00m)\n\u001b[1;32m    843\u001b[0m \u001b[38;5;28;01melse\u001b[39;00m:\n\u001b[0;32m--> 844\u001b[0m     \u001b[38;5;28;01mreturn\u001b[39;00m \u001b[43mM\u001b[49m\u001b[38;5;241;43m.\u001b[39;49m\u001b[43mgenerate_samples\u001b[49m\u001b[43m(\u001b[49m\u001b[38;5;28;43mlen\u001b[39;49m\u001b[43m(\u001b[49m\u001b[38;5;28;43mself\u001b[39;49m\u001b[38;5;241;43m.\u001b[39;49m\u001b[43mwires\u001b[49m\u001b[43m)\u001b[49m\u001b[43m,\u001b[49m\u001b[43m \u001b[49m\u001b[38;5;28;43mself\u001b[39;49m\u001b[38;5;241;43m.\u001b[39;49m\u001b[43mshots\u001b[49m\u001b[43m)\u001b[49m\u001b[38;5;241m.\u001b[39mastype(\u001b[38;5;28mint\u001b[39m, copy\u001b[38;5;241m=\u001b[39m\u001b[38;5;28;01mFalse\u001b[39;00m)\n",
      "File \u001b[0;32m/opt/conda/lib/python3.10/site-packages/numpy/core/_internal.py:650\u001b[0m, in \u001b[0;36m_dtype_from_pep3118\u001b[0;34m(spec)\u001b[0m\n\u001b[1;32m    646\u001b[0m     \u001b[38;5;28;01mdef\u001b[39;00m \u001b[38;5;21m__bool__\u001b[39m(\u001b[38;5;28mself\u001b[39m):\n\u001b[1;32m    647\u001b[0m         \u001b[38;5;28;01mreturn\u001b[39;00m \u001b[38;5;28mbool\u001b[39m(\u001b[38;5;28mself\u001b[39m\u001b[38;5;241m.\u001b[39ms)\n\u001b[0;32m--> 650\u001b[0m \u001b[38;5;28;01mdef\u001b[39;00m \u001b[38;5;21m_dtype_from_pep3118\u001b[39m(spec):\n\u001b[1;32m    651\u001b[0m     stream \u001b[38;5;241m=\u001b[39m _Stream(spec)\n\u001b[1;32m    652\u001b[0m     dtype, align \u001b[38;5;241m=\u001b[39m __dtype_from_pep3118(stream, is_subdtype\u001b[38;5;241m=\u001b[39m\u001b[38;5;28;01mFalse\u001b[39;00m)\n",
      "\u001b[0;31mKeyboardInterrupt\u001b[0m: "
     ]
    }
   ],
   "source": [
    "for count, work_hamiltonian in enumerate(test_hamiltonians):\n",
    "\n",
    "    init_params_run = ENCODER_FUNC(np.array(TRAINING_ENERGIES[train_method][\"meta\"][\"trained_vars\"]), test_points[count])\n",
    "\n",
    "    for train_method in TRAINERS:\n",
    "\n",
    "        options = TRAINERS[train_method][\"options\"]\n",
    "        options.update({\"hamiltonian\":work_hamiltonian})\n",
    "\n",
    "        res_train = minimize(normal_cost, init_params_run, method = TRAINERS[train_method][\"fun\"], options = options)\n",
    "\n",
    "        TRAINING_ENERGIES[train_method][\"opt_meta\"][\"trained_vars\"].append(res_train.x)  \n",
    "        TRAINING_ENERGIES[train_method][\"opt_meta\"][\"energies\"].append(res_train.fun)\n",
    "        TRAINING_ENERGIES[train_method][\"opt_meta\"][\"runs_per_step\"].append(res_train.nit) \n",
    "\n",
    "        if(count == 0):\n",
    "            params_run = np.random.random(num_params)\n",
    "        else:\n",
    "            params_run = TRAINING_ENERGIES[train_method][\"vqe\"][\"trained_vars\"][-1]\n",
    "\n",
    "        res_train_vqe = minimize(normal_cost, params_run, method = TRAINERS[train_method][\"fun\"], options = options)\n",
    "\n",
    "        TRAINING_ENERGIES[train_method][\"vqe\"][\"trained_vars\"].append(res_train_vqe.x)  \n",
    "        TRAINING_ENERGIES[train_method][\"vqe\"][\"energies\"].append(res_train_vqe.fun)\n",
    "        TRAINING_ENERGIES[train_method][\"vqe\"][\"runs_per_step\"].append(res_train_vqe.nit)           "
   ]
  },
  {
   "cell_type": "code",
   "execution_count": null,
   "id": "0c5bd648",
   "metadata": {},
   "outputs": [],
   "source": [
    "fig, ax = plt.subplots()\n",
    "\n",
    "# Plot for errors\n",
    "ax.scatter(test_points,[np.abs(i-j)*1000 for i,j in zip([energy[-1] for energy in TRAINING_ENERGIES[\"spsa\"][\"opt_meta\"][\"energies\"]],fci_energies)], label=\"opt meta\", marker='o')\n",
    "ax.scatter(test_points,[np.abs(i-j)*1000 for i,j in zip([energy[-1] for energy in TRAINING_ENERGIES[\"spsa\"][\"vqe\"][\"energies\"]],fci_energies)], label=\"vqe\", marker='o')\n",
    "ax.scatter(test_points,[np.abs(i-j)*1000 for i,j in zip(TRAINING_ENERGIES[\"spsa\"][\"meta\"][\"energies_after_meta\"],fci_energies)], label=\"meta\", marker='o')\n",
    "\n",
    "\n",
    "ax.legend()\n",
    "ax.set_title('Error')\n",
    "ax.set_yscale('log',base=10) \n",
    "ax.set_ylabel('Energy error (m Hartrees)')\n",
    "ax.set_xlabel('Atomic Distance($a_{0}$)')\n",
    "\n",
    "\n",
    "ax.xaxis.set_minor_locator(MultipleLocator(0.2))\n",
    "ax.set_xticks(np.arange(min(test_points), max(test_points)+0.2, 1))"
   ]
  },
  {
   "cell_type": "code",
   "execution_count": null,
   "id": "2b250a2a-aa73-404c-b11d-390b3bfe0e2a",
   "metadata": {},
   "outputs": [],
   "source": [
    "import json\n",
    "import numpy as np\n",
    "\n",
    "class NumpyEncoder(json.JSONEncoder):\n",
    "    \"\"\" Special json encoder for numpy types \"\"\"\n",
    "    def default(self, obj):\n",
    "        if isinstance(obj, np.integer):\n",
    "            return int(obj)\n",
    "        elif isinstance(obj, np.floating):\n",
    "            return float(obj)\n",
    "        elif isinstance(obj, np.ndarray) or isinstance(obj, np.ndarray):\n",
    "            return obj.tolist()\n",
    "        return json.JSONEncoder.default(self, obj)\n",
    "    \n",
    "with open(f'exp_runs/meta_single_doubles_{GRADIENT_METHOD}.json', 'w') as f:\n",
    "    f.write(json.dumps({\n",
    "        \"results\": TRAINING_ENERGIES,\n",
    "\n",
    "    }\n",
    "    , indent=4, cls=NumpyEncoder))   "
   ]
  }
 ],
 "metadata": {
  "environment": {
   "kernel": "python3",
   "name": "common-cpu.m109",
   "type": "gcloud",
   "uri": "gcr.io/deeplearning-platform-release/base-cpu:m109"
  },
  "kernelspec": {
   "display_name": "Python 3",
   "language": "python",
   "name": "python3"
  },
  "language_info": {
   "codemirror_mode": {
    "name": "ipython",
    "version": 3
   },
   "file_extension": ".py",
   "mimetype": "text/x-python",
   "name": "python",
   "nbconvert_exporter": "python",
   "pygments_lexer": "ipython3",
   "version": "3.10.11"
  }
 },
 "nbformat": 4,
 "nbformat_minor": 5
}
