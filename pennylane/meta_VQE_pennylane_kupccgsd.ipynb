{
 "cells": [
  {
   "cell_type": "markdown",
   "id": "22e51aa6",
   "metadata": {
    "tags": []
   },
   "source": [
    "# meta-VQE\n",
    "\n",
    "Hot to obtain a Potential Energy Surface (PES) plot without training for *all* the points of interest.\n",
    "\n",
    "## Keypoints\n",
    "\n",
    "* For a molecule, the Hamiltonian depends on the geometry (separation) of the atoms or nuclei\n",
    "* For simple, vanilla VQE, all the possible configurations (separations) in the molecule need to be trained separately\n",
    "* meta-VQE trains a few points (training points), encoding the original parameters $\\vec{\\theta}$ using metaparamers and a linear or Gaussian encoding.\n",
    "\n",
    "The code below uses Catalyst (from Xanadu) and JAX to optimize calculations"
   ]
  },
  {
   "cell_type": "code",
   "execution_count": 1,
   "id": "f9196990-aaaa-4a07-a3ad-56ddaf5cd7fb",
   "metadata": {},
   "outputs": [
    {
     "name": "stdout",
     "output_type": "stream",
     "text": [
      "Pennylane 0.31.0\n"
     ]
    }
   ],
   "source": [
    "\n",
    "import pennylane as qml\n",
    "from pennylane import numpy as np\n",
    "import matplotlib.pyplot as plt\n",
    "from matplotlib.ticker import MultipleLocator\n",
    "\n",
    "from scipy.optimize import minimize\n",
    "\n",
    "import json\n",
    "\n",
    "print(f\"Pennylane {qml.__version__}\")\n",
    "\n",
    "np.random.seed(32)\n",
    "\n",
    "# Import custom optimizers\n",
    "\n",
    "from custom_optimizers import gradient_descent,spsa_optimizer,adam"
   ]
  },
  {
   "cell_type": "code",
   "execution_count": 12,
   "id": "04a30258-8faa-402d-9c44-43fc3f1788c1",
   "metadata": {},
   "outputs": [
    {
     "name": "stdout",
     "output_type": "stream",
     "text": [
      "===== TRAIN POINTS =====\n",
      "[1.  1.8 2.6 3.4 4.2]\n"
     ]
    }
   ],
   "source": [
    "## Layers and wires for circuits\n",
    "\n",
    "symbols = [\"H\", \"H\"]\n",
    "coordinates = np.array([0.0, 0.0, 0.0, 0.0, 0.0, 1.0])\n",
    "\n",
    "# Building the molecular hamiltonian for H2\n",
    "hamiltonian, qubits = qml.qchem.molecular_hamiltonian(\n",
    "    symbols,\n",
    "    coordinates,\n",
    "    method=\"pyscf\",\n",
    ")\n",
    "SHOTS = 4000 ## 1000, None. If none is used, the result is analytic\n",
    "\n",
    "WIRES = qubits\n",
    "\n",
    "USE_SINGLES = False\n",
    "USE_DOUBLES = True\n",
    "\n",
    "init_state = qml.qchem.hf_state(2, qubits)\n",
    "\n",
    "## https://docs.pennylane.ai/projects/catalyst/en/latest/code/api/catalyst.grad.html - \n",
    "\n",
    "TRAINERS = {\"gradient_descent\": \n",
    "            {\"fun\":gradient_descent, \"options\":{ 'maxiter': 150, 'tol':1e-4, \"verbose\":True}},\n",
    "            \"spsa\":{ \"fun\":spsa_optimizer, \"options\":{ 'maxiter': 150, 'tol':1e-4, \"verbose\":True}},\n",
    "            \"adam\":{\"fun\":adam, \"options\":{ 'maxiter': 150, 'tol':1e-4, 'demon':False, \"verbose\":True}},\n",
    "            \"demon_adam\":{\"fun\":adam, \"options\":{ 'maxiter': 150, 'tol':1e-4, 'demon':True, \"verbose\":True}}}\n",
    "\n",
    "LAYERS = 1            \n",
    "\n",
    "GRADIENT_METHOD= \"fd\" ## fd, ps\n",
    "\n",
    "TRAINING_ENERGIES= {\"gradient_descent\":{\n",
    "                        \"meta\":{\"energies\":[], \"runs\":0, \"trained_vars\":[], \"energies_after_meta\":[]},\n",
    "                        \"opt_meta\":{\"energies\":[], \"runs_per_step\":[], \"trained_vars\":[]},\n",
    "                        \"vqe\":{\"energies\":[], \"runs_per_step\":[], \"trained_vars\":[]}\n",
    "                        },\n",
    "                    \"spsa\":{\n",
    "                        \"meta\":{\"energies\":[], \"runs\":0, \"trained_vars\":[], \"energies_after_meta\":[]},\n",
    "                        \"opt_meta\":{\"energies\":[], \"runs_per_step\":[], \"trained_vars\":[]},\n",
    "                        \"vqe\":{\"energies\":[], \"runs_per_step\":[], \"trained_vars\":[]}\n",
    "                        },\n",
    "                    \"adam\":{\n",
    "                        \"meta\":{\"energies\":[], \"runs\":0, \"trained_vars\":[], \"energies_after_meta\":[]},\n",
    "                        \"opt_meta\":{\"energies\":[], \"runs_per_step\":[], \"trained_vars\":[]},\n",
    "                        \"vqe\":{\"energies\":[], \"runs_per_step\":[], \"trained_vars\":[]}\n",
    "                        },\n",
    "                    \"demon_adam\":{\n",
    "                        \"meta\":{\"energies\":[], \"runs\":0, \"trained_vars\":[], \"energies_after_meta\":[]},\n",
    "                        \"opt_meta\":{\"energies\":[], \"runs_per_step\":[], \"trained_vars\":[]},\n",
    "                        \"vqe\":{\"energies\":[], \"runs_per_step\":[], \"trained_vars\":[]}\n",
    "                        },\n",
    "\n",
    "                   }\n",
    "\n",
    "gradient_methods = {\"fd\":\"finite-diff\", \"ps\":\"parameter-shift\", \"adj\":\"adjoint\"}\n",
    "\n",
    "\n",
    "# Encoder: \n",
    "# Linear -> 1\n",
    "# Gaussian -> 2\n",
    "\n",
    "ENCODER_MULTIPLIER_DICT = {1:2,\n",
    "                      2:4}\n",
    "\n",
    "ENCODER = 2\n",
    "\n",
    "shared_dev = qml.device(\"lightning.qubit\", wires=WIRES, shots=SHOTS)\n",
    "\n",
    "train_points_indexes = [2,6,10,14,18]\n",
    "\n",
    "test_points = np.arange(0.6,5,0.2)\n",
    "\n",
    "train_points = np.array([test_points[i] for i in train_points_indexes])\n",
    "\n",
    "test_hamiltonians = []\n",
    "\n",
    "\n",
    "for d in test_points:\n",
    "    coordinates = np.array([0.0, 0.0, 0.0, 0.0, 0.0, d]) \n",
    "    \n",
    "    hamiltonian, _ = qml.qchem.molecular_hamiltonian(\n",
    "        symbols,\n",
    "        coordinates,\n",
    "        method=\"pyscf\",\n",
    "    )    \n",
    "    \n",
    "    test_hamiltonians.append(hamiltonian)\n",
    "\n",
    "train_hamiltonians = [test_hamiltonians[i] for i in train_points_indexes]\n",
    "    \n",
    "print(\"===== TRAIN POINTS =====\")\n",
    "print(train_points)"
   ]
  },
  {
   "cell_type": "code",
   "execution_count": 13,
   "id": "fd62592f",
   "metadata": {},
   "outputs": [
    {
     "name": "stdout",
     "output_type": "stream",
     "text": [
      "[[0, 2], [1, 3]]\n",
      "[[0, 1, 2, 3]]\n"
     ]
    }
   ],
   "source": [
    "singles, doubles = qml.qchem.excitations(2, WIRES, 0)\n",
    "\n",
    "print(singles)\n",
    "print(doubles)"
   ]
  },
  {
   "cell_type": "code",
   "execution_count": 14,
   "id": "3ad9aec7",
   "metadata": {},
   "outputs": [],
   "source": [
    "with open('./h2_fci.json', 'r') as reader:\n",
    "    # Read & print the entire file\n",
    "    data = reader.read()\n",
    "    fci_h2 = json.loads(data)   \n",
    "\n",
    "fci_energies = fci_h2[\"energies\"]"
   ]
  },
  {
   "cell_type": "markdown",
   "id": "17886ebb",
   "metadata": {},
   "source": [
    "### Linear Encoding\n",
    "\n",
    "$\\theta_{i} = w_{i} \\, R + \\phi_{i}$"
   ]
  },
  {
   "cell_type": "code",
   "execution_count": 15,
   "id": "5b32eb5c-a2dd-40eb-88ef-3f0eded2ec10",
   "metadata": {},
   "outputs": [],
   "source": [
    "def linear_encoding(param_array, r):\n",
    "    \"\"\"1-D array with alphas and betas. len(param_array) = 2 * len(weights) \n",
    "\n",
    "    Args:\n",
    "        param_array (float): alphas and betas for lineasr encoding\n",
    "        r(float): Hamiltonian parameter (in this case, distance)\n",
    "    \"\"\"\n",
    "    return param_array[::2]*r + param_array[1::2]"
   ]
  },
  {
   "cell_type": "markdown",
   "id": "394f9cfd",
   "metadata": {},
   "source": [
    "### Gaussian Encoding\n",
    "\n",
    "$\\theta_{i} = \\alpha_{i} e^{\\beta_{i} (\\gamma_{i} - R)} + \\delta_{i}$"
   ]
  },
  {
   "cell_type": "code",
   "execution_count": 16,
   "id": "4e087c96",
   "metadata": {},
   "outputs": [],
   "source": [
    "def gaussian_encoding(param_array, r):\n",
    "    \"\"\"1-D array with alphas, betas, gammas and deltas. len(param_array) = 4 * len(weights) \n",
    "\n",
    "    Args:\n",
    "        param_array (float): , betas, gammas and deltas for gaussian encoding\n",
    "        r(float): Hamiltonian parameter (in this case, distance)\n",
    "    \"\"\"\n",
    "\n",
    "    exp_arg = param_array[1::4]*(param_array[2::4] - r)\n",
    "\n",
    "    return param_array[::4]*np.exp(exp_arg) + param_array[3::4]"
   ]
  },
  {
   "cell_type": "code",
   "execution_count": 17,
   "id": "a3d35b38-49f2-4c92-9b55-a4b630ad5baf",
   "metadata": {},
   "outputs": [
    {
     "name": "stdout",
     "output_type": "stream",
     "text": [
      "===== NUM OF PARAMETERS =====\n",
      "24\n"
     ]
    }
   ],
   "source": [
    "## Get shapes\n",
    "\n",
    "## For linear is 2\n",
    "## For Gaussian is 4\n",
    "ENCODING_MULTIPLIER= ENCODER_MULTIPLIER_DICT[ENCODER]\n",
    "\n",
    "if(ENCODER == 1):\n",
    "    ENCODER_FUNC =linear_encoding\n",
    "else:\n",
    "    ENCODER_FUNC =gaussian_encoding\n",
    "\n",
    "## Get shapes\n",
    "\n",
    "shape = qml.kUpCCGSD.shape(k=LAYERS, n_wires=WIRES, delta_sz=0)\n",
    "\n",
    "num_params = (LAYERS*shape[1])\n",
    "\n",
    "\n",
    "num_params_encoding = num_params*ENCODING_MULTIPLIER\n",
    "\n",
    "weights = np.random.random(num_params_encoding)\n",
    "\n",
    "print(\"===== NUM OF PARAMETERS =====\")\n",
    "print(num_params_encoding)"
   ]
  },
  {
   "cell_type": "code",
   "execution_count": 18,
   "id": "8af29f74",
   "metadata": {},
   "outputs": [],
   "source": [
    "## Core circ\n",
    "\n",
    "def core_circuit(params):\n",
    "\n",
    "    shape = qml.kUpCCGSD.shape(k=LAYERS, n_wires=WIRES, delta_sz=0)\n",
    "\n",
    "    weights = np.reshape(params,shape)\n",
    "\n",
    "    qml.kUpCCGSD(weights=weights, wires=range(WIRES), k = LAYERS,init_state=init_state)\n",
    "            "
   ]
  },
  {
   "cell_type": "code",
   "execution_count": 19,
   "id": "cd73135a-5a02-4fa5-906c-f852cfbb652f",
   "metadata": {},
   "outputs": [],
   "source": [
    "# Remember set h when using finite-diff - 1e-3\n",
    "@qml.qnode(shared_dev, diff_method= gradient_methods[GRADIENT_METHOD], shots = SHOTS)\n",
    "def normal_circuit(params, hamiltonian):\n",
    "\n",
    "    core_circuit(params)\n",
    "\n",
    "    return qml.expval(\n",
    "        qml.Hamiltonian(np.array(hamiltonian.coeffs), hamiltonian.ops)\n",
    "    )  \n",
    "\n",
    "@qml.qnode(shared_dev, diff_method= gradient_methods[GRADIENT_METHOD], shots = SHOTS)\n",
    "def meta_circuit(params, hamiltonian, r):\n",
    "\n",
    "    weights = ENCODER_FUNC(params,r)\n",
    "    core_circuit(weights)\n",
    "\n",
    "    return qml.expval(\n",
    "        qml.Hamiltonian(np.array(hamiltonian.coeffs), hamiltonian.ops)\n",
    "    )  \n",
    "if (GRADIENT_METHOD == 'fd'):\n",
    "    normal_grad_fun = normal_circuit.gradient_fn(normal_circuit, h=1e-3, shots = SHOTS)\n",
    "    meta_grad_fun = meta_circuit.gradient_fn(meta_circuit, h=1e-3, shots = SHOTS)\n",
    "else:\n",
    "    normal_grad_fun = normal_circuit.gradient_fn(normal_circuit, shots = SHOTS)\n",
    "    meta_grad_fun = meta_circuit.gradient_fn(meta_circuit, shots = SHOTS)"
   ]
  },
  {
   "cell_type": "code",
   "execution_count": 20,
   "id": "d3a48b92",
   "metadata": {},
   "outputs": [
    {
     "data": {
      "text/plain": [
       "{'resources': Resources(num_wires=4, num_gates=7, gate_types=defaultdict(<class 'int'>, {'BasisEmbedding': 1, 'FermionicDoubleExcitation': 2, 'FermionicSingleExcitation': 4}), gate_sizes=defaultdict(<class 'int'>, {4: 3, 3: 4}), depth=7, shots=Shots(total_shots=None, shot_vector=())),\n",
       " 'gate_sizes': defaultdict(int, {4: 3, 3: 4}),\n",
       " 'gate_types': defaultdict(int,\n",
       "             {'BasisEmbedding': 1,\n",
       "              'FermionicDoubleExcitation': 2,\n",
       "              'FermionicSingleExcitation': 4}),\n",
       " 'num_operations': 7,\n",
       " 'num_observables': 1,\n",
       " 'num_diagonalizing_gates': 0,\n",
       " 'num_used_wires': 4,\n",
       " 'num_trainable_params': 6,\n",
       " 'depth': 7,\n",
       " 'num_device_wires': 4,\n",
       " 'device_name': 'lightning.qubit',\n",
       " 'expansion_strategy': 'gradient',\n",
       " 'gradient_options': {'shots': 4000},\n",
       " 'interface': 'auto',\n",
       " 'diff_method': 'finite-diff',\n",
       " 'gradient_fn': 'pennylane.gradients.finite_difference.finite_diff',\n",
       " 'num_gradient_executions': 7}"
      ]
     },
     "execution_count": 20,
     "metadata": {},
     "output_type": "execute_result"
    }
   ],
   "source": [
    "specs_func = qml.specs(normal_circuit, expansion_strategy='gradient', max_expansion=50)\n",
    "specs_func(gaussian_encoding(weights,1.4), test_hamiltonians[0])"
   ]
  },
  {
   "cell_type": "code",
   "execution_count": 21,
   "id": "5e37e90d",
   "metadata": {},
   "outputs": [
    {
     "data": {
      "text/plain": [
       "{'resources': Resources(num_wires=4, num_gates=7, gate_types=defaultdict(<class 'int'>, {'BasisEmbedding': 1, 'FermionicDoubleExcitation': 2, 'FermionicSingleExcitation': 4}), gate_sizes=defaultdict(<class 'int'>, {4: 3, 3: 4}), depth=7, shots=Shots(total_shots=None, shot_vector=())),\n",
       " 'gate_sizes': defaultdict(int, {4: 3, 3: 4}),\n",
       " 'gate_types': defaultdict(int,\n",
       "             {'BasisEmbedding': 1,\n",
       "              'FermionicDoubleExcitation': 2,\n",
       "              'FermionicSingleExcitation': 4}),\n",
       " 'num_operations': 7,\n",
       " 'num_observables': 1,\n",
       " 'num_diagonalizing_gates': 0,\n",
       " 'num_used_wires': 4,\n",
       " 'num_trainable_params': 6,\n",
       " 'depth': 7,\n",
       " 'num_device_wires': 4,\n",
       " 'device_name': 'lightning.qubit',\n",
       " 'expansion_strategy': 'gradient',\n",
       " 'gradient_options': {'shots': 4000},\n",
       " 'interface': 'auto',\n",
       " 'diff_method': 'finite-diff',\n",
       " 'gradient_fn': 'pennylane.gradients.finite_difference.finite_diff',\n",
       " 'num_gradient_executions': 7}"
      ]
     },
     "execution_count": 21,
     "metadata": {},
     "output_type": "execute_result"
    }
   ],
   "source": [
    "specs_func = qml.specs(meta_circuit, expansion_strategy='gradient', max_expansion=50)\n",
    "specs_func(weights, test_hamiltonians[0], 0.5)"
   ]
  },
  {
   "cell_type": "code",
   "execution_count": 23,
   "id": "2cb71da8",
   "metadata": {},
   "outputs": [
    {
     "name": "stdout",
     "output_type": "stream",
     "text": [
      "[12.29686069  8.24107695 -0.49606158 -4.04274628 14.5341265  -4.80286738]\n"
     ]
    },
    {
     "data": {
      "text/plain": [
       "array([  -2507.1895407 ,     949.22180365,   -1132.64488596,\n",
       "         -5790.72488035,  -68506.75369357,   10617.08041539,\n",
       "         -8921.6530432 , -149786.7461072 ,  -88252.78929053,\n",
       "         14031.94866064,   -4531.81304887, -118476.89540634,\n",
       "         36560.75100565,   -7520.12462983,   19303.30491048,\n",
       "         46406.71976734,   27903.85613073,   -9669.88539354,\n",
       "          7225.2195525 ,   40302.53661455,   64293.47351202,\n",
       "        -38111.16511667,   31729.45917174,   86930.16040436])"
      ]
     },
     "execution_count": 23,
     "metadata": {},
     "output_type": "execute_result"
    }
   ],
   "source": [
    "print(normal_grad_fun(gaussian_encoding(weights,1.4), test_hamiltonians[0]))\n",
    "distance = train_points[0]\n",
    "distance.requires_grad = False\n",
    "qml.gradients.finite_diff(meta_circuit)(weights, test_hamiltonians[0],distance)"
   ]
  },
  {
   "cell_type": "markdown",
   "id": "26497f40",
   "metadata": {},
   "source": [
    "### Cost Function\n",
    "\n",
    "Sum of energies for each configuration (separation)\n",
    "\n",
    "$C(\\vec{\\theta}) = \\sum_{i=1}^{M} \\bra{\\psi_{i}} \\hat{H}(\\vec{\\lambda}_{i}) \\ket{\\psi_{i}}$\n"
   ]
  },
  {
   "cell_type": "code",
   "execution_count": 24,
   "id": "c211e648-3189-4ec5-9585-66183b142bca",
   "metadata": {},
   "outputs": [],
   "source": [
    "def meta_cost(params,train_hamiltonians, return_grad = True):\n",
    "\n",
    "    energies = []  \n",
    "    gradients = []\n",
    "    \n",
    "\n",
    "    for count, train_ham in enumerate(train_hamiltonians):\n",
    "        \n",
    "   \n",
    "        energies.append(meta_circuit(params, train_ham, train_points[count]))\n",
    "        if(return_grad):\n",
    "            distance = train_points[count]\n",
    "            distance.requires_grad = False\n",
    "            gradients.append(meta_grad_fun(params, train_ham, distance))\n",
    "        \n",
    "    join_energy = np.sum(np.array(energies))\n",
    "    \n",
    "    if(return_grad):\n",
    "        all_gradients = np.array(gradients)\n",
    "        joined_gradients = np.sum(np.array([all_gradients[i][0] for i in range(len(all_gradients))]), axis=0)    \n",
    "        \n",
    "        return join_energy/len(train_points) , joined_gradients/len(train_points)\n",
    "    else:\n",
    "        return join_energy/len(train_points)"
   ]
  },
  {
   "cell_type": "code",
   "execution_count": 25,
   "id": "5cbdbd75",
   "metadata": {},
   "outputs": [],
   "source": [
    "def normal_cost(params, hamiltonian, return_grad = True):\n",
    "    \n",
    "    if(return_grad):        \n",
    "        return normal_circuit(params, hamiltonian), np.array(normal_grad_fun(params, hamiltonian))\n",
    "    else:\n",
    "        return normal_circuit(params, hamiltonian)"
   ]
  },
  {
   "cell_type": "code",
   "execution_count": 26,
   "id": "f229bb7c",
   "metadata": {},
   "outputs": [
    {
     "name": "stderr",
     "output_type": "stream",
     "text": [
      "/home/linuxbrew/.linuxbrew/Cellar/python@3.8/3.8.5/lib/python3.8/site-packages/pennylane/numpy/tensor.py:155: RuntimeWarning: overflow encountered in exp\n",
      "  res = super().__array_ufunc__(ufunc, method, *args, **kwargs)\n",
      "/home/linuxbrew/.linuxbrew/Cellar/python@3.8/3.8.5/lib/python3.8/site-packages/pennylane/numpy/tensor.py:155: RuntimeWarning: invalid value encountered in multiply\n",
      "  res = super().__array_ufunc__(ufunc, method, *args, **kwargs)\n"
     ]
    },
    {
     "name": "stdout",
     "output_type": "stream",
     "text": [
      "Gradient Descent - Step:  0  Cost:  -0.30515872339413885\n",
      "Gradient Descent - Step:  10  Cost:  -0.3057184156427793\n",
      "Finished Gradient Descent training\n",
      "SPSA - Step:  0  Cost:  -0.9294965340354426\n",
      "SPSA - Step:  10  Cost:  -0.9600115292824795\n",
      "Finished SPSA training\n",
      "ADAM - Step:  0  Cost:  -0.5247944050853588\n",
      "ADAM - Step:  10  Cost:  -0.5204724970786956\n",
      "ADAM - Step:  20  Cost:  -0.5213063564949275\n",
      "Finished ADAM training\n",
      "ADAM - Step:  0  Cost:  -0.7738738106429943\n",
      "ADAM - Step:  10  Cost:  -0.7841481861271173\n",
      "ADAM - Step:  20  Cost:  -0.7826327785552294\n",
      "ADAM - Step:  30  Cost:  -0.7767049010156792\n",
      "ADAM - Step:  40  Cost:  -0.783162725081243\n",
      "ADAM - Step:  50  Cost:  -0.7818461006377537\n",
      "Finished ADAM training\n"
     ]
    }
   ],
   "source": [
    "for train_method in TRAINERS:\n",
    "\n",
    "    params_run = np.random.random(num_params_encoding)\n",
    "\n",
    "    options = TRAINERS[train_method][\"options\"]\n",
    "    options.update({\"hamiltonian\":train_hamiltonians})\n",
    "\n",
    "    res_train = minimize(meta_cost, params_run, method = TRAINERS[train_method][\"fun\"], options = options)\n",
    "\n",
    "    TRAINING_ENERGIES[train_method][\"meta\"][\"trained_vars\"] = res_train.x\n",
    "    TRAINING_ENERGIES[train_method][\"meta\"][\"energies\"].append(res_train.fun)\n",
    "    TRAINING_ENERGIES[train_method][\"meta\"][\"runs\"] = res_train.nit"
   ]
  },
  {
   "cell_type": "code",
   "execution_count": 27,
   "id": "1b0c3853-60a7-4753-86e1-a13e35564c0b",
   "metadata": {},
   "outputs": [
    {
     "data": {
      "text/plain": [
       "<function matplotlib.pyplot.show(close=None, block=None)>"
      ]
     },
     "execution_count": 27,
     "metadata": {},
     "output_type": "execute_result"
    },
    {
     "data": {
      "image/png": "[encoded data removed]",
      "text/plain": [
       "<Figure size 640x480 with 1 Axes>"
      ]
     },
     "metadata": {},
     "output_type": "display_data"
    }
   ],
   "source": [
    "plt.scatter([i for i in range(len(TRAINING_ENERGIES['gradient_descent'][\"meta\"]['energies'][-1]))],TRAINING_ENERGIES['gradient_descent'][\"meta\"]['energies'][-1], label=\"gradient descent\", marker='x')\n",
    "plt.scatter([i for i in range(len(TRAINING_ENERGIES['spsa'][\"meta\"]['energies'][-1]))],TRAINING_ENERGIES['spsa'][\"meta\"]['energies'][-1], label=\"spsa\", marker='x')\n",
    "plt.scatter([i for i in range(len(TRAINING_ENERGIES['adam'][\"meta\"]['energies'][-1]))],TRAINING_ENERGIES['adam'][\"meta\"]['energies'][-1], label=\"adam\", marker='x')\n",
    "plt.scatter([i for i in range(len(TRAINING_ENERGIES['demon_adam'][\"meta\"]['energies'][-1]))],TRAINING_ENERGIES['demon_adam'][\"meta\"]['energies'][-1], label=\"demon adam\", marker='x')\n",
    "\n",
    "plt.legend()\n",
    "plt.title('Meta Energies for training steep (finite diff)')\n",
    "plt.ylabel('Cost function')\n",
    "plt.xlabel('Training step')\n",
    "plt.show"
   ]
  },
  {
   "cell_type": "code",
   "execution_count": 28,
   "id": "6114acc1-caac-494b-944c-4fe878a70797",
   "metadata": {},
   "outputs": [],
   "source": [
    "for count, d in enumerate(test_points):\n",
    "    for train_method in TRAINERS:\n",
    "        encoded_params = ENCODER_FUNC(TRAINING_ENERGIES[train_method][\"meta\"][\"trained_vars\"], d)\n",
    "        TRAINING_ENERGIES[train_method][\"meta\"][\"energies_after_meta\"].append(normal_cost(encoded_params,test_hamiltonians[count], return_grad = False))"
   ]
  },
  {
   "cell_type": "code",
   "execution_count": 30,
   "id": "f6c88f22-f853-4964-bc34-cd33fe2bdc7a",
   "metadata": {},
   "outputs": [
    {
     "data": {
      "image/png": "[encoded data removed]",
      "text/plain": [
       "<Figure size 640x480 with 2 Axes>"
      ]
     },
     "metadata": {},
     "output_type": "display_data"
    }
   ],
   "source": [
    "fig, (ax1, ax2) = plt.subplots(2, 1, sharex=True)\n",
    "\n",
    "plt.subplots_adjust(hspace=0)\n",
    "\n",
    "# ax1.plot(test_points, grad_descent_energies, label=\"gradient_descent\", marker='s' , color=colors[0])\n",
    "# ax1.plot(test_points, spsa_energies, label=\"spsa\", marker='o', color=colors[1])\n",
    "ax1.plot(test_points, TRAINING_ENERGIES[\"spsa\"][\"meta\"][\"energies_after_meta\"], label=\"spsa\", marker='v',)\n",
    "ax1.plot(test_points, TRAINING_ENERGIES[\"adam\"][\"meta\"][\"energies_after_meta\"], label=\"adam\", marker='s', )\n",
    "ax1.plot(test_points, fci_energies, label=\"FCI\", marker='.', color=\"r\")\n",
    "ax1.scatter(train_points, [fci_energies[i] for i in train_points_indexes], zorder=99, label=\"Train Points\", marker='*', color=\"black\")\n",
    "\n",
    "\n",
    "ax1.legend()\n",
    "ax1.set_title('$H_{2}$ - Singles Doubles')\n",
    "ax1.set_ylabel('Energy($E_{h}$)')\n",
    "\n",
    "# ax2.scatter(test_points, [np.abs(i-j) for i,j in zip(grad_descent_energies ,fci_energies)], label=\"gradient_descent\", marker='s', color=colors[0])\n",
    "# ax2.scatter(test_points, [np.abs(i-j) for i,j in zip(adam_energies ,fci_energies)], label=\"adam\", marker='v', color=colors[2])\n",
    "ax2.scatter(test_points, [np.abs(i-j)*1000 for i,j in zip(TRAINING_ENERGIES[\"spsa\"][\"meta\"][\"energies_after_meta\"] ,fci_energies)], label=\"spsa\", marker='v')\n",
    "# ax2.scatter(test_points, [np.abs(i-j)*1000 for i,j in zip(TRAINING_ENERGIES[\"adam\"][\"meta\"][\"energies_after_meta\"] ,fci_energies)], label=\"adam\", marker='s')\n",
    "\n",
    "\n",
    "ax1.sharex(ax2)\n",
    "ax1.set_xticklabels([])\n",
    "ax2.autoscale() ## call autoscale if needed\n",
    "ax2.fill_between([test_points[0]-0.2,test_points[-1]+0.2],1.6, color=\"#1f77b450\")\n",
    "\n",
    "# ax2.set_title('Error for each point')\n",
    "ax2.set_xlabel('Distance($a_{0}$)')\n",
    "ax2.set_ylabel('Error($mE_{h}$)')\n",
    "\n",
    "\n",
    "plt.show()"
   ]
  },
  {
   "cell_type": "code",
   "execution_count": 31,
   "id": "ded78a76",
   "metadata": {},
   "outputs": [
    {
     "name": "stdout",
     "output_type": "stream",
     "text": [
      "Gradient Descent - Step:  0  Cost:  -0.47497938628767195\n",
      "Gradient Descent - Step:  10  Cost:  0.6970282359910371\n",
      "Gradient Descent - Step:  20  Cost:  1.0906830668429186\n"
     ]
    },
    {
     "ename": "KeyboardInterrupt",
     "evalue": "",
     "output_type": "error",
     "traceback": [
      "\u001b[0;31m---------------------------------------------------------------------------\u001b[0m",
      "\u001b[0;31mKeyboardInterrupt\u001b[0m                         Traceback (most recent call last)",
      "Cell \u001b[0;32mIn[31], line 10\u001b[0m\n\u001b[1;32m      7\u001b[0m options \u001b[39m=\u001b[39m TRAINERS[train_method][\u001b[39m\"\u001b[39m\u001b[39moptions\u001b[39m\u001b[39m\"\u001b[39m]\n\u001b[1;32m      8\u001b[0m options\u001b[39m.\u001b[39mupdate({\u001b[39m\"\u001b[39m\u001b[39mhamiltonian\u001b[39m\u001b[39m\"\u001b[39m:work_hamiltonian})\n\u001b[0;32m---> 10\u001b[0m res_train \u001b[39m=\u001b[39m minimize(normal_cost, init_params_run, method \u001b[39m=\u001b[39;49m TRAINERS[train_method][\u001b[39m\"\u001b[39;49m\u001b[39mfun\u001b[39;49m\u001b[39m\"\u001b[39;49m], options \u001b[39m=\u001b[39;49m options)\n\u001b[1;32m     12\u001b[0m TRAINING_ENERGIES[train_method][\u001b[39m\"\u001b[39m\u001b[39mopt_meta\u001b[39m\u001b[39m\"\u001b[39m][\u001b[39m\"\u001b[39m\u001b[39mtrained_vars\u001b[39m\u001b[39m\"\u001b[39m]\u001b[39m.\u001b[39mappend(res_train\u001b[39m.\u001b[39mx)  \n\u001b[1;32m     13\u001b[0m TRAINING_ENERGIES[train_method][\u001b[39m\"\u001b[39m\u001b[39mopt_meta\u001b[39m\u001b[39m\"\u001b[39m][\u001b[39m\"\u001b[39m\u001b[39menergies\u001b[39m\u001b[39m\"\u001b[39m]\u001b[39m.\u001b[39mappend(res_train\u001b[39m.\u001b[39mfun)\n",
      "File \u001b[0;32m/home/linuxbrew/.linuxbrew/Cellar/python@3.8/3.8.5/lib/python3.8/site-packages/scipy/optimize/_minimize.py:622\u001b[0m, in \u001b[0;36mminimize\u001b[0;34m(fun, x0, args, method, jac, hess, hessp, bounds, constraints, tol, callback, options)\u001b[0m\n\u001b[1;32m    616\u001b[0m         options\u001b[39m.\u001b[39msetdefault(\u001b[39m'\u001b[39m\u001b[39mbarrier_tol\u001b[39m\u001b[39m'\u001b[39m, tol)\n\u001b[1;32m    618\u001b[0m \u001b[39mif\u001b[39;00m meth \u001b[39m==\u001b[39m \u001b[39m'\u001b[39m\u001b[39m_custom\u001b[39m\u001b[39m'\u001b[39m:\n\u001b[1;32m    619\u001b[0m     \u001b[39m# custom method called before bounds and constraints are 'standardised'\u001b[39;00m\n\u001b[1;32m    620\u001b[0m     \u001b[39m# custom method should be able to accept whatever bounds/constraints\u001b[39;00m\n\u001b[1;32m    621\u001b[0m     \u001b[39m# are provided to it.\u001b[39;00m\n\u001b[0;32m--> 622\u001b[0m     \u001b[39mreturn\u001b[39;00m method(fun, x0, args\u001b[39m=\u001b[39;49margs, jac\u001b[39m=\u001b[39;49mjac, hess\u001b[39m=\u001b[39;49mhess, hessp\u001b[39m=\u001b[39;49mhessp,\n\u001b[1;32m    623\u001b[0m                   bounds\u001b[39m=\u001b[39;49mbounds, constraints\u001b[39m=\u001b[39;49mconstraints,\n\u001b[1;32m    624\u001b[0m                   callback\u001b[39m=\u001b[39;49mcallback, \u001b[39m*\u001b[39;49m\u001b[39m*\u001b[39;49moptions)\n\u001b[1;32m    626\u001b[0m constraints \u001b[39m=\u001b[39m standardize_constraints(constraints, x0, meth)\n\u001b[1;32m    628\u001b[0m remove_vars \u001b[39m=\u001b[39m \u001b[39mFalse\u001b[39;00m\n",
      "File \u001b[0;32m~/Desktop/meta-VQE-pennylane/pennylane/custom_optimizers.py:21\u001b[0m, in \u001b[0;36mgradient_descent\u001b[0;34m(fun, x0, stepsize, tol, maxiter, verbose, hamiltonian, **options)\u001b[0m\n\u001b[1;32m     17\u001b[0m niter \u001b[39m+\u001b[39m\u001b[39m=\u001b[39m \u001b[39m1\u001b[39m\n\u001b[1;32m     19\u001b[0m new_params \u001b[39m-\u001b[39m\u001b[39m=\u001b[39m grad\u001b[39m*\u001b[39mstepsize\n\u001b[0;32m---> 21\u001b[0m new_energy, grad \u001b[39m=\u001b[39m fun(new_params, hamiltonian)\n\u001b[1;32m     23\u001b[0m energy_evolution\u001b[39m.\u001b[39mappend(new_energy)\n\u001b[1;32m     25\u001b[0m \u001b[39mif\u001b[39;00m (verbose \u001b[39mand\u001b[39;00m i \u001b[39m%\u001b[39m \u001b[39m10\u001b[39m \u001b[39m==\u001b[39m \u001b[39m0\u001b[39m):\n",
      "Cell \u001b[0;32mIn[25], line 4\u001b[0m, in \u001b[0;36mnormal_cost\u001b[0;34m(params, hamiltonian, return_grad)\u001b[0m\n\u001b[1;32m      1\u001b[0m \u001b[39mdef\u001b[39;00m \u001b[39mnormal_cost\u001b[39m(params, hamiltonian, return_grad \u001b[39m=\u001b[39m \u001b[39mTrue\u001b[39;00m):\n\u001b[1;32m      3\u001b[0m     \u001b[39mif\u001b[39;00m(return_grad):        \n\u001b[0;32m----> 4\u001b[0m         \u001b[39mreturn\u001b[39;00m normal_circuit(params, hamiltonian), np\u001b[39m.\u001b[39marray(normal_grad_fun(params, hamiltonian))\n\u001b[1;32m      5\u001b[0m     \u001b[39melse\u001b[39;00m:\n\u001b[1;32m      6\u001b[0m         \u001b[39mreturn\u001b[39;00m normal_circuit(params, hamiltonian)\n",
      "File \u001b[0;32m/home/linuxbrew/.linuxbrew/Cellar/python@3.8/3.8.5/lib/python3.8/site-packages/pennylane/gradients/gradient_transform.py:616\u001b[0m, in \u001b[0;36mgradient_transform.default_qnode_wrapper.<locals>.jacobian_wrapper\u001b[0;34m(*args, **kwargs)\u001b[0m\n\u001b[1;32m    609\u001b[0m     warnings\u001b[39m.\u001b[39mwarn(\n\u001b[1;32m    610\u001b[0m         \u001b[39m\"\u001b[39m\u001b[39mAttempted to compute the gradient of a QNode with no trainable parameters. \u001b[39m\u001b[39m\"\u001b[39m\n\u001b[1;32m    611\u001b[0m         \u001b[39m\"\u001b[39m\u001b[39mIf this is unintended, please add trainable parameters in accordance with \u001b[39m\u001b[39m\"\u001b[39m\n\u001b[1;32m    612\u001b[0m         \u001b[39m\"\u001b[39m\u001b[39mthe chosen auto differentiation framework.\u001b[39m\u001b[39m\"\u001b[39m\n\u001b[1;32m    613\u001b[0m     )\n\u001b[1;32m    614\u001b[0m     \u001b[39mreturn\u001b[39;00m ()\n\u001b[0;32m--> 616\u001b[0m qjac \u001b[39m=\u001b[39m _wrapper(\u001b[39m*\u001b[39;49margs, \u001b[39m*\u001b[39;49m\u001b[39m*\u001b[39;49mkwargs)\n\u001b[1;32m    618\u001b[0m \u001b[39mif\u001b[39;00m \u001b[39mnot\u001b[39;00m hybrid:\n\u001b[1;32m    619\u001b[0m     \u001b[39mreturn\u001b[39;00m qjac\n",
      "File \u001b[0;32m/home/linuxbrew/.linuxbrew/Cellar/python@3.8/3.8.5/lib/python3.8/site-packages/pennylane/transforms/batch_transform.py:330\u001b[0m, in \u001b[0;36mbatch_transform.default_qnode_wrapper.<locals>._wrapper\u001b[0;34m(*args, **kwargs)\u001b[0m\n\u001b[1;32m    327\u001b[0m             grad_on_execution \u001b[39m=\u001b[39m \u001b[39m\"\u001b[39m\u001b[39mbest\u001b[39m\u001b[39m\"\u001b[39m\n\u001b[1;32m    328\u001b[0m         execute_kwargs[\u001b[39m\"\u001b[39m\u001b[39mgrad_on_execution\u001b[39m\u001b[39m\"\u001b[39m] \u001b[39m=\u001b[39m grad_on_execution\n\u001b[0;32m--> 330\u001b[0m res \u001b[39m=\u001b[39m qml\u001b[39m.\u001b[39;49mexecute(\n\u001b[1;32m    331\u001b[0m     tapes,\n\u001b[1;32m    332\u001b[0m     device\u001b[39m=\u001b[39;49mqnode\u001b[39m.\u001b[39;49mdevice,\n\u001b[1;32m    333\u001b[0m     gradient_fn\u001b[39m=\u001b[39;49mgradient_fn,\n\u001b[1;32m    334\u001b[0m     interface\u001b[39m=\u001b[39;49minterface,\n\u001b[1;32m    335\u001b[0m     max_diff\u001b[39m=\u001b[39;49mmax_diff,\n\u001b[1;32m    336\u001b[0m     override_shots\u001b[39m=\u001b[39;49mshots,\n\u001b[1;32m    337\u001b[0m     gradient_kwargs\u001b[39m=\u001b[39;49mgradient_kwargs,\n\u001b[1;32m    338\u001b[0m     \u001b[39m*\u001b[39;49m\u001b[39m*\u001b[39;49mexecute_kwargs,\n\u001b[1;32m    339\u001b[0m )\n\u001b[1;32m    341\u001b[0m \u001b[39mreturn\u001b[39;00m processing_fn(res)\n",
      "File \u001b[0;32m/home/linuxbrew/.linuxbrew/Cellar/python@3.8/3.8.5/lib/python3.8/site-packages/pennylane/interfaces/execution.py:642\u001b[0m, in \u001b[0;36mexecute\u001b[0;34m(tapes, device, gradient_fn, interface, grad_on_execution, gradient_kwargs, cache, cachesize, max_diff, override_shots, expand_fn, max_expansion, device_batch_transform)\u001b[0m\n\u001b[1;32m    639\u001b[0m     \u001b[39melif\u001b[39;00m mapped_interface \u001b[39m==\u001b[39m \u001b[39m\"\u001b[39m\u001b[39mjax\u001b[39m\u001b[39m\"\u001b[39m:\n\u001b[1;32m    640\u001b[0m         _execute \u001b[39m=\u001b[39m _get_jax_execute_fn(interface, tapes)\n\u001b[0;32m--> 642\u001b[0m     res \u001b[39m=\u001b[39m _execute(\n\u001b[1;32m    643\u001b[0m         tapes, device, execute_fn, gradient_fn, gradient_kwargs, _n\u001b[39m=\u001b[39;49m\u001b[39m1\u001b[39;49m, max_diff\u001b[39m=\u001b[39;49mmax_diff\n\u001b[1;32m    644\u001b[0m     )\n\u001b[1;32m    646\u001b[0m \u001b[39mexcept\u001b[39;00m \u001b[39mImportError\u001b[39;00m \u001b[39mas\u001b[39;00m e:\n\u001b[1;32m    647\u001b[0m     \u001b[39mraise\u001b[39;00m qml\u001b[39m.\u001b[39mQuantumFunctionError(\n\u001b[1;32m    648\u001b[0m         \u001b[39mf\u001b[39m\u001b[39m\"\u001b[39m\u001b[39m{\u001b[39;00mmapped_interface\u001b[39m}\u001b[39;00m\u001b[39m not found. Please install the latest \u001b[39m\u001b[39m\"\u001b[39m\n\u001b[1;32m    649\u001b[0m         \u001b[39mf\u001b[39m\u001b[39m\"\u001b[39m\u001b[39mversion of \u001b[39m\u001b[39m{\u001b[39;00mmapped_interface\u001b[39m}\u001b[39;00m\u001b[39m to enable the \u001b[39m\u001b[39m'\u001b[39m\u001b[39m{\u001b[39;00mmapped_interface\u001b[39m}\u001b[39;00m\u001b[39m'\u001b[39m\u001b[39m interface.\u001b[39m\u001b[39m\"\u001b[39m\n\u001b[1;32m    650\u001b[0m     ) \u001b[39mfrom\u001b[39;00m \u001b[39me\u001b[39;00m\n",
      "File \u001b[0;32m/home/linuxbrew/.linuxbrew/Cellar/python@3.8/3.8.5/lib/python3.8/site-packages/pennylane/interfaces/autograd.py:319\u001b[0m, in \u001b[0;36mexecute\u001b[0;34m(tapes, device, execute_fn, gradient_fn, gradient_kwargs, _n, max_diff)\u001b[0m\n\u001b[1;32m    314\u001b[0m \u001b[39m# pylint misidentifies autograd.builtins as a dict\u001b[39;00m\n\u001b[1;32m    315\u001b[0m \u001b[39m# pylint: disable=no-member\u001b[39;00m\n\u001b[1;32m    316\u001b[0m parameters \u001b[39m=\u001b[39m autograd\u001b[39m.\u001b[39mbuiltins\u001b[39m.\u001b[39mtuple(\n\u001b[1;32m    317\u001b[0m     [autograd\u001b[39m.\u001b[39mbuiltins\u001b[39m.\u001b[39mlist(t\u001b[39m.\u001b[39mget_parameters()) \u001b[39mfor\u001b[39;00m t \u001b[39min\u001b[39;00m tapes]\n\u001b[1;32m    318\u001b[0m )\n\u001b[0;32m--> 319\u001b[0m \u001b[39mreturn\u001b[39;00m _execute(\n\u001b[1;32m    320\u001b[0m     parameters,\n\u001b[1;32m    321\u001b[0m     tapes\u001b[39m=\u001b[39;49mtapes,\n\u001b[1;32m    322\u001b[0m     device\u001b[39m=\u001b[39;49mdevice,\n\u001b[1;32m    323\u001b[0m     execute_fn\u001b[39m=\u001b[39;49mexecute_fn,\n\u001b[1;32m    324\u001b[0m     gradient_fn\u001b[39m=\u001b[39;49mgradient_fn,\n\u001b[1;32m    325\u001b[0m     gradient_kwargs\u001b[39m=\u001b[39;49mgradient_kwargs,\n\u001b[1;32m    326\u001b[0m     _n\u001b[39m=\u001b[39;49m_n,\n\u001b[1;32m    327\u001b[0m     max_diff\u001b[39m=\u001b[39;49mmax_diff,\n\u001b[1;32m    328\u001b[0m )[\u001b[39m0\u001b[39m]\n",
      "File \u001b[0;32m/home/linuxbrew/.linuxbrew/Cellar/python@3.8/3.8.5/lib/python3.8/site-packages/autograd/tracer.py:48\u001b[0m, in \u001b[0;36mprimitive.<locals>.f_wrapped\u001b[0;34m(*args, **kwargs)\u001b[0m\n\u001b[1;32m     46\u001b[0m     \u001b[39mreturn\u001b[39;00m new_box(ans, trace, node)\n\u001b[1;32m     47\u001b[0m \u001b[39melse\u001b[39;00m:\n\u001b[0;32m---> 48\u001b[0m     \u001b[39mreturn\u001b[39;00m f_raw(\u001b[39m*\u001b[39;49margs, \u001b[39m*\u001b[39;49m\u001b[39m*\u001b[39;49mkwargs)\n",
      "File \u001b[0;32m/home/linuxbrew/.linuxbrew/Cellar/python@3.8/3.8.5/lib/python3.8/site-packages/pennylane/interfaces/autograd.py:363\u001b[0m, in \u001b[0;36m_execute\u001b[0;34m(parameters, tapes, device, execute_fn, gradient_fn, gradient_kwargs, _n, max_diff)\u001b[0m\n\u001b[1;32m    342\u001b[0m \u001b[39m\u001b[39m\u001b[39m\"\"\"Autodifferentiable wrapper around ``Device.batch_execute``.\u001b[39;00m\n\u001b[1;32m    343\u001b[0m \n\u001b[1;32m    344\u001b[0m \u001b[39mThe signature of this function is designed to work around Autograd restrictions.\u001b[39;00m\n\u001b[0;32m   (...)\u001b[0m\n\u001b[1;32m    360\u001b[0m \u001b[39munderstand the consequences!\u001b[39;00m\n\u001b[1;32m    361\u001b[0m \u001b[39m\"\"\"\u001b[39;00m\n\u001b[1;32m    362\u001b[0m unwrapped_tapes \u001b[39m=\u001b[39m \u001b[39mtuple\u001b[39m(convert_to_numpy_parameters(t) \u001b[39mfor\u001b[39;00m t \u001b[39min\u001b[39;00m tapes)\n\u001b[0;32m--> 363\u001b[0m res, jacs \u001b[39m=\u001b[39m execute_fn(unwrapped_tapes, \u001b[39m*\u001b[39;49m\u001b[39m*\u001b[39;49mgradient_kwargs)\n\u001b[1;32m    365\u001b[0m \u001b[39mreturn\u001b[39;00m res, jacs\n",
      "File \u001b[0;32m/home/linuxbrew/.linuxbrew/Cellar/python@3.8/3.8.5/lib/python3.8/site-packages/pennylane/interfaces/execution.py:287\u001b[0m, in \u001b[0;36mcache_execute.<locals>.wrapper\u001b[0;34m(tapes, **kwargs)\u001b[0m\n\u001b[1;32m    282\u001b[0m         \u001b[39mreturn\u001b[39;00m (res, []) \u001b[39mif\u001b[39;00m return_tuple \u001b[39melse\u001b[39;00m res\n\u001b[1;32m    284\u001b[0m \u001b[39melse\u001b[39;00m:\n\u001b[1;32m    285\u001b[0m     \u001b[39m# execute all unique tapes that do not exist in the cache\u001b[39;00m\n\u001b[1;32m    286\u001b[0m     \u001b[39m# convert to list as new device interface returns a tuple\u001b[39;00m\n\u001b[0;32m--> 287\u001b[0m     res \u001b[39m=\u001b[39m \u001b[39mlist\u001b[39m(fn(execution_tapes\u001b[39m.\u001b[39;49mvalues(), \u001b[39m*\u001b[39;49m\u001b[39m*\u001b[39;49mkwargs))\n\u001b[1;32m    289\u001b[0m final_res \u001b[39m=\u001b[39m []\n\u001b[1;32m    291\u001b[0m \u001b[39mfor\u001b[39;00m i, tape \u001b[39min\u001b[39;00m \u001b[39menumerate\u001b[39m(tapes):\n",
      "File \u001b[0;32m/home/linuxbrew/.linuxbrew/Cellar/python@3.8/3.8.5/lib/python3.8/site-packages/pennylane/interfaces/execution.py:210\u001b[0m, in \u001b[0;36mcache_execute.<locals>.fn\u001b[0;34m(tapes, **kwargs)\u001b[0m\n\u001b[1;32m    208\u001b[0m \u001b[39mdef\u001b[39;00m \u001b[39mfn\u001b[39m(tapes: Sequence[QuantumTape], \u001b[39m*\u001b[39m\u001b[39m*\u001b[39mkwargs):  \u001b[39m# pylint: disable=function-redefined\u001b[39;00m\n\u001b[1;32m    209\u001b[0m     tapes \u001b[39m=\u001b[39m [expand_fn(tape) \u001b[39mfor\u001b[39;00m tape \u001b[39min\u001b[39;00m tapes]\n\u001b[0;32m--> 210\u001b[0m     \u001b[39mreturn\u001b[39;00m original_fn(tapes, \u001b[39m*\u001b[39;49m\u001b[39m*\u001b[39;49mkwargs)\n",
      "File \u001b[0;32m/home/linuxbrew/.linuxbrew/Cellar/python@3.8/3.8.5/lib/python3.8/contextlib.py:75\u001b[0m, in \u001b[0;36mContextDecorator.__call__.<locals>.inner\u001b[0;34m(*args, **kwds)\u001b[0m\n\u001b[1;32m     72\u001b[0m \u001b[39m@wraps\u001b[39m(func)\n\u001b[1;32m     73\u001b[0m \u001b[39mdef\u001b[39;00m \u001b[39minner\u001b[39m(\u001b[39m*\u001b[39margs, \u001b[39m*\u001b[39m\u001b[39m*\u001b[39mkwds):\n\u001b[1;32m     74\u001b[0m     \u001b[39mwith\u001b[39;00m \u001b[39mself\u001b[39m\u001b[39m.\u001b[39m_recreate_cm():\n\u001b[0;32m---> 75\u001b[0m         \u001b[39mreturn\u001b[39;00m func(\u001b[39m*\u001b[39;49margs, \u001b[39m*\u001b[39;49m\u001b[39m*\u001b[39;49mkwds)\n",
      "File \u001b[0;32m/home/linuxbrew/.linuxbrew/Cellar/python@3.8/3.8.5/lib/python3.8/site-packages/pennylane/_qubit_device.py:603\u001b[0m, in \u001b[0;36mQubitDevice.batch_execute\u001b[0;34m(self, circuits)\u001b[0m\n\u001b[1;32m    598\u001b[0m \u001b[39mfor\u001b[39;00m circuit \u001b[39min\u001b[39;00m circuits:\n\u001b[1;32m    599\u001b[0m     \u001b[39m# we need to reset the device here, else it will\u001b[39;00m\n\u001b[1;32m    600\u001b[0m     \u001b[39m# not start the next computation in the zero state\u001b[39;00m\n\u001b[1;32m    601\u001b[0m     \u001b[39mself\u001b[39m\u001b[39m.\u001b[39mreset()\n\u001b[0;32m--> 603\u001b[0m     res \u001b[39m=\u001b[39m \u001b[39mself\u001b[39;49m\u001b[39m.\u001b[39;49mexecute(circuit)\n\u001b[1;32m    604\u001b[0m     results\u001b[39m.\u001b[39mappend(res)\n\u001b[1;32m    606\u001b[0m \u001b[39mif\u001b[39;00m \u001b[39mself\u001b[39m\u001b[39m.\u001b[39mtracker\u001b[39m.\u001b[39mactive:\n",
      "File \u001b[0;32m/home/linuxbrew/.linuxbrew/Cellar/python@3.8/3.8.5/lib/python3.8/site-packages/pennylane/_qubit_device.py:317\u001b[0m, in \u001b[0;36mQubitDevice.execute\u001b[0;34m(self, circuit, **kwargs)\u001b[0m\n\u001b[1;32m    314\u001b[0m \u001b[39mif\u001b[39;00m \u001b[39mnot\u001b[39;00m qml\u001b[39m.\u001b[39mactive_return():\n\u001b[1;32m    315\u001b[0m     \u001b[39mreturn\u001b[39;00m \u001b[39mself\u001b[39m\u001b[39m.\u001b[39m_execute_legacy(circuit, \u001b[39m*\u001b[39m\u001b[39m*\u001b[39mkwargs)\n\u001b[0;32m--> 317\u001b[0m \u001b[39mself\u001b[39;49m\u001b[39m.\u001b[39;49mcheck_validity(circuit\u001b[39m.\u001b[39;49moperations, circuit\u001b[39m.\u001b[39;49mobservables)\n\u001b[1;32m    319\u001b[0m \u001b[39m# apply all circuit operations\u001b[39;00m\n\u001b[1;32m    320\u001b[0m \u001b[39mself\u001b[39m\u001b[39m.\u001b[39mapply(circuit\u001b[39m.\u001b[39moperations, rotations\u001b[39m=\u001b[39m\u001b[39mself\u001b[39m\u001b[39m.\u001b[39m_get_diagonalizing_gates(circuit), \u001b[39m*\u001b[39m\u001b[39m*\u001b[39mkwargs)\n",
      "File \u001b[0;32m/home/linuxbrew/.linuxbrew/Cellar/python@3.8/3.8.5/lib/python3.8/site-packages/pennylane/_device.py:898\u001b[0m, in \u001b[0;36mDevice.check_validity\u001b[0;34m(self, queue, observables)\u001b[0m\n\u001b[1;32m    889\u001b[0m     \u001b[39mif\u001b[39;00m \u001b[39misinstance\u001b[39m(o, MidMeasureMP) \u001b[39mand\u001b[39;00m \u001b[39mnot\u001b[39;00m \u001b[39mself\u001b[39m\u001b[39m.\u001b[39mcapabilities()\u001b[39m.\u001b[39mget(\n\u001b[1;32m    890\u001b[0m         \u001b[39m\"\u001b[39m\u001b[39msupports_mid_measure\u001b[39m\u001b[39m\"\u001b[39m, \u001b[39mFalse\u001b[39;00m\n\u001b[1;32m    891\u001b[0m     ):\n\u001b[1;32m    892\u001b[0m         \u001b[39mraise\u001b[39;00m DeviceError(\n\u001b[1;32m    893\u001b[0m             \u001b[39mf\u001b[39m\u001b[39m\"\u001b[39m\u001b[39mMid-circuit measurements are not natively supported on device \u001b[39m\u001b[39m{\u001b[39;00m\u001b[39mself\u001b[39m\u001b[39m.\u001b[39mshort_name\u001b[39m}\u001b[39;00m\u001b[39m. \u001b[39m\u001b[39m\"\u001b[39m\n\u001b[1;32m    894\u001b[0m             \u001b[39m\"\u001b[39m\u001b[39mApply the @qml.defer_measurements decorator to your quantum function to \u001b[39m\u001b[39m\"\u001b[39m\n\u001b[1;32m    895\u001b[0m             \u001b[39m\"\u001b[39m\u001b[39msimulate the application of mid-circuit measurements on this device.\u001b[39m\u001b[39m\"\u001b[39m\n\u001b[1;32m    896\u001b[0m         )\n\u001b[0;32m--> 898\u001b[0m     \u001b[39mif\u001b[39;00m \u001b[39mnot\u001b[39;00m \u001b[39mself\u001b[39;49m\u001b[39m.\u001b[39;49mstopping_condition(o):\n\u001b[1;32m    899\u001b[0m         \u001b[39mraise\u001b[39;00m DeviceError(\n\u001b[1;32m    900\u001b[0m             \u001b[39mf\u001b[39m\u001b[39m\"\u001b[39m\u001b[39mGate \u001b[39m\u001b[39m{\u001b[39;00moperation_name\u001b[39m}\u001b[39;00m\u001b[39m not supported on device \u001b[39m\u001b[39m{\u001b[39;00m\u001b[39mself\u001b[39m\u001b[39m.\u001b[39mshort_name\u001b[39m}\u001b[39;00m\u001b[39m\"\u001b[39m\n\u001b[1;32m    901\u001b[0m         )\n\u001b[1;32m    903\u001b[0m \u001b[39mfor\u001b[39;00m o \u001b[39min\u001b[39;00m observables:\n",
      "\u001b[0;31mKeyboardInterrupt\u001b[0m: "
     ]
    }
   ],
   "source": [
    "for count, work_hamiltonian in enumerate(test_hamiltonians):\n",
    "\n",
    "    init_params_run = ENCODER_FUNC(np.array(TRAINING_ENERGIES[train_method][\"meta\"][\"trained_vars\"]), test_points[count])\n",
    "\n",
    "    for train_method in TRAINERS:\n",
    "\n",
    "        options = TRAINERS[train_method][\"options\"]\n",
    "        options.update({\"hamiltonian\":work_hamiltonian})\n",
    "\n",
    "        res_train = minimize(normal_cost, init_params_run, method = TRAINERS[train_method][\"fun\"], options = options)\n",
    "\n",
    "        TRAINING_ENERGIES[train_method][\"opt_meta\"][\"trained_vars\"].append(res_train.x)  \n",
    "        TRAINING_ENERGIES[train_method][\"opt_meta\"][\"energies\"].append(res_train.fun)\n",
    "        TRAINING_ENERGIES[train_method][\"opt_meta\"][\"runs_per_step\"].append(res_train.nit) \n",
    "\n",
    "        if(count == 0):\n",
    "            params_run = np.random.random(num_params)\n",
    "        else:\n",
    "            params_run = TRAINING_ENERGIES[train_method][\"vqe\"][\"trained_vars\"][-1]\n",
    "\n",
    "        res_train_vqe = minimize(normal_cost, params_run, method = TRAINERS[train_method][\"fun\"], options = options)\n",
    "\n",
    "        TRAINING_ENERGIES[train_method][\"vqe\"][\"trained_vars\"].append(res_train_vqe.x)  \n",
    "        TRAINING_ENERGIES[train_method][\"vqe\"][\"energies\"].append(res_train_vqe.fun)\n",
    "        TRAINING_ENERGIES[train_method][\"vqe\"][\"runs_per_step\"].append(res_train_vqe.nit)           "
   ]
  },
  {
   "cell_type": "code",
   "execution_count": null,
   "id": "0c5bd648",
   "metadata": {},
   "outputs": [],
   "source": [
    "fig, ax = plt.subplots()\n",
    "\n",
    "# Plot for errors\n",
    "ax.scatter(test_points,[np.abs(i-j)*1000 for i,j in zip([energy[-1] for energy in TRAINING_ENERGIES[\"spsa\"][\"opt_meta\"][\"energies\"]],fci_energies)], label=\"opt meta\", marker='o')\n",
    "ax.scatter(test_points,[np.abs(i-j)*1000 for i,j in zip([energy[-1] for energy in TRAINING_ENERGIES[\"spsa\"][\"vqe\"][\"energies\"]],fci_energies)], label=\"vqe\", marker='o')\n",
    "ax.scatter(test_points,[np.abs(i-j)*1000 for i,j in zip(TRAINING_ENERGIES[\"spsa\"][\"meta\"][\"energies_after_meta\"],fci_energies)], label=\"meta\", marker='o')\n",
    "\n",
    "\n",
    "ax.legend()\n",
    "ax.set_title('Error')\n",
    "ax.set_yscale('log',base=10) \n",
    "ax.set_ylabel('Energy error (m Hartrees)')\n",
    "ax.set_xlabel('Atomic Distance($a_{0}$)')\n",
    "\n",
    "\n",
    "ax.xaxis.set_minor_locator(MultipleLocator(0.2))\n",
    "ax.set_xticks(np.arange(min(test_points), max(test_points)+0.2, 1))"
   ]
  },
  {
   "cell_type": "code",
   "execution_count": null,
   "id": "2b250a2a-aa73-404c-b11d-390b3bfe0e2a",
   "metadata": {},
   "outputs": [],
   "source": [
    "import json\n",
    "import numpy as np\n",
    "\n",
    "class NumpyEncoder(json.JSONEncoder):\n",
    "    \"\"\" Special json encoder for numpy types \"\"\"\n",
    "    def default(self, obj):\n",
    "        if isinstance(obj, np.integer):\n",
    "            return int(obj)\n",
    "        elif isinstance(obj, np.floating):\n",
    "            return float(obj)\n",
    "        elif isinstance(obj, np.ndarray) or isinstance(obj, np.ndarray):\n",
    "            return obj.tolist()\n",
    "        return json.JSONEncoder.default(self, obj)\n",
    "    \n",
    "with open(f'exp_runs/kupccgsd_{LAYERS}layers_{GRADIENT_METHOD}.json', 'w') as f:\n",
    "    f.write(json.dumps({\n",
    "        \"layers\": LAYERS,\n",
    "        \"results\": TRAINING_ENERGIES\n",
    "    }\n",
    "    , indent=4, cls=NumpyEncoder)) "
   ]
  }
 ],
 "metadata": {
  "environment": {
   "kernel": "python3",
   "name": "common-cpu.m109",
   "type": "gcloud",
   "uri": "gcr.io/deeplearning-platform-release/base-cpu:m109"
  },
  "kernelspec": {
   "display_name": "Python 3",
   "language": "python",
   "name": "python3"
  },
  "language_info": {
   "codemirror_mode": {
    "name": "ipython",
    "version": 3
   },
   "file_extension": ".py",
   "mimetype": "text/x-python",
   "name": "python",
   "nbconvert_exporter": "python",
   "pygments_lexer": "ipython3",
   "version": "3.8.5"
  }
 },
 "nbformat": 4,
 "nbformat_minor": 5
}
