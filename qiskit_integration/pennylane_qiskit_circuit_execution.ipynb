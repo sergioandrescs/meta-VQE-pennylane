{
 "cells": [
  {
   "cell_type": "markdown",
   "metadata": {},
   "source": [
    "# Run Pennylane Code in IBMQ"
   ]
  },
  {
   "cell_type": "code",
   "execution_count": 3,
   "metadata": {},
   "outputs": [],
   "source": [
    "## Remember to save  the IBMQX_tokn in the pennylane config file\n",
    "## More information here\n",
    "## https://docs.pennylane.ai/en/stable/introduction/configuration.html\n",
    "## https://docs.pennylane.ai/projects/qiskit/en/latest/devices/ibmq.html\n",
    "\n",
    "\n",
    "## CAREFUL WHEN RUNNING. IT CAN BE CONNECTED TO A REAL DEVICE\n",
    "\n",
    "import pennylane as qml\n",
    "from pennylane import numpy as np\n"
   ]
  },
  {
   "cell_type": "code",
   "execution_count": 10,
   "metadata": {},
   "outputs": [],
   "source": [
    "symbols = [\"H\", \"H\"]\n",
    "coordinates = np.array([0.0, 0.0, -0.6614, 0.0, 0.0, 0.6614])\n",
    "basis_set = \"sto-3g\"\n",
    "electrons = 2\n",
    "\n",
    "hamiltonian, qubits = qml.qchem.molecular_hamiltonian(\n",
    "    symbols,\n",
    "    coordinates,\n",
    "    basis=basis_set,\n",
    ")\n",
    "\n",
    "simulator_dev = qml.device('qiskit.ibmq', wires=qubits, backend='ibmq_qasm_simulator')\n"
   ]
  },
  {
   "cell_type": "code",
   "execution_count": 11,
   "metadata": {},
   "outputs": [],
   "source": [
    "@qml.qnode(simulator_dev)\n",
    "def circuit_simulator(phi):\n",
    "    qml.PauliX(wires=0)\n",
    "    qml.SingleExcitation(phi, wires=[0, 1])\n",
    "    return qml.expval(\n",
    "        qml.Hamiltonian(np.array(hamiltonian.coeffs), hamiltonian.ops)\n",
    "    )  \n"
   ]
  },
  {
   "cell_type": "code",
   "execution_count": 8,
   "metadata": {},
   "outputs": [
    {
     "data": {
      "text/plain": [
       "array(-0.52144635)"
      ]
     },
     "execution_count": 8,
     "metadata": {},
     "output_type": "execute_result"
    }
   ],
   "source": [
    "circuit_simulator(0.1)"
   ]
  },
  {
   "cell_type": "code",
   "execution_count": 12,
   "metadata": {},
   "outputs": [],
   "source": [
    "device_dev = qml.device('qiskit.ibmq', wires=qubits, backend='ibmq_manila')\n"
   ]
  },
  {
   "cell_type": "code",
   "execution_count": 13,
   "metadata": {},
   "outputs": [],
   "source": [
    "@qml.qnode(device_dev)\n",
    "def circuit_device(phi):\n",
    "    qml.PauliX(wires=0)\n",
    "    qml.SingleExcitation(phi, wires=[0, 1])\n",
    "    return qml.expval(\n",
    "        qml.Hamiltonian(np.array(hamiltonian.coeffs), hamiltonian.ops)\n",
    "    )  \n"
   ]
  },
  {
   "cell_type": "code",
   "execution_count": 14,
   "metadata": {},
   "outputs": [
    {
     "name": "stderr",
     "output_type": "stream",
     "text": [
      "/home/linuxbrew/.linuxbrew/Cellar/python@3.8/3.8.5/lib/python3.8/site-packages/pennylane_qiskit/ibmq.py:91: UserWarning: ibmqx_token is not a recognized runtime option and may be ignored by the backend.\n",
      "  res = super().batch_execute(circuits, timeout=self.timeout_secs)\n"
     ]
    },
    {
     "data": {
      "text/plain": [
       "array(-0.45781282)"
      ]
     },
     "execution_count": 14,
     "metadata": {},
     "output_type": "execute_result"
    }
   ],
   "source": [
    "# circuit_device(0.1)"
   ]
  },
  {
   "cell_type": "code",
   "execution_count": null,
   "metadata": {},
   "outputs": [],
   "source": []
  }
 ],
 "metadata": {
  "kernelspec": {
   "display_name": "Python 3",
   "language": "python",
   "name": "python3"
  },
  "language_info": {
   "codemirror_mode": {
    "name": "ipython",
    "version": 3
   },
   "file_extension": ".py",
   "mimetype": "text/x-python",
   "name": "python",
   "nbconvert_exporter": "python",
   "pygments_lexer": "ipython3",
   "version": "3.8.5"
  },
  "orig_nbformat": 4
 },
 "nbformat": 4,
 "nbformat_minor": 2
}
