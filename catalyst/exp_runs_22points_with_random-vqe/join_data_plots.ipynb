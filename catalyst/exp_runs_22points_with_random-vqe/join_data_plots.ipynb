{
 "cells": [
  {
   "cell_type": "markdown",
   "metadata": {},
   "source": [
    "# Join data for Shots\n",
    "\n",
    "* Group json files by repetitions\n",
    "* Extract error and runs data\n",
    "* Average this data\n",
    "* Save in a new json file"
   ]
  },
  {
   "cell_type": "code",
   "execution_count": 38,
   "metadata": {},
   "outputs": [
    {
     "name": "stdout",
     "output_type": "stream",
     "text": [
      "29\n"
     ]
    }
   ],
   "source": [
    "from os import walk\n",
    "import json\n",
    "import numpy as np\n",
    "\n",
    "import matplotlib.pyplot as plt\n",
    "from matplotlib.ticker import MultipleLocator\n",
    "\n",
    "from sklearn.metrics import mean_squared_error\n",
    "\n",
    "\n",
    "optimizers = [\"gradient_descent\", \"spsa\", \"adam\"]\n",
    "train_types= [ 'vqe_previous','meta', 'opt_meta']\n",
    "\n",
    "with open('./h2_fci.json', 'r') as reader:\n",
    "    # Read & print the entire file\n",
    "    data = reader.read()\n",
    "    fci_h2 = json.loads(data)  \n",
    "\n",
    "fci_energies = fci_h2[\"energies\"]\n",
    "\n",
    "\n",
    "f = []\n",
    "for (dirpath, dirnames, filenames) in walk('./'):\n",
    "    f.extend(filenames)\n",
    "    break\n",
    "\n",
    "print(len(f))"
   ]
  },
  {
   "cell_type": "code",
   "execution_count": 39,
   "metadata": {},
   "outputs": [],
   "source": [
    "# Ordered by pairs - fd,ps\n",
    "main_groups = [ \"simplified2design_4layers_fd\", \"simplified2design_4layers_ps\",\"meta_singles_doubles_fd\", \"meta_singles_doubles_ps\", \"meta_doubles_fd\", \"meta_doubles_ps\",\"kupccgsd_1layers_fd\", \"kupccgsd_1layers_ps\"]"
   ]
  },
  {
   "cell_type": "code",
   "execution_count": 40,
   "metadata": {},
   "outputs": [],
   "source": [
    "condensed_data = []\n",
    "\n",
    "for group_count,file_name_base in enumerate(main_groups):\n",
    "\n",
    "    with open(f'./{file_name_base}.json', 'r') as reader:\n",
    "        # Read & print the entire file\n",
    "        data = reader.read()\n",
    "        data_entry = json.loads(data)\n",
    "    \n",
    "    group_dict = {i:{\"errors\":[0.0 for _ in train_types], \"runs\":[ 0 for _ in train_types]} for i in optimizers}\n",
    "    for opt in optimizers:\n",
    "        for count, result_type in enumerate(train_types):\n",
    "            if result_type == 'meta':\n",
    "                group_dict[opt][\"runs\"][count] += data_entry['results'][opt][result_type]['runs']\n",
    "                group_dict[opt][\"errors\"][count] += mean_squared_error(fci_energies, data_entry['results'][opt][result_type][\"energies_after_meta\"], squared=False)*1000\n",
    "\n",
    "            else:\n",
    "                group_dict[opt][\"runs\"][count] += np.sum(data_entry['results'][opt][result_type]['runs_per_step'])\n",
    "                group_dict[opt][\"errors\"][count] += mean_squared_error(fci_energies, [energy[-1] for energy in data_entry['results'][opt][result_type][\"energies\"]], squared=False)*1000                  \n",
    "\n",
    "    condensed_data.append(group_dict)\n"
   ]
  },
  {
   "cell_type": "code",
   "execution_count": 41,
   "metadata": {},
   "outputs": [],
   "source": [
    "plot_data = []\n",
    "for i in range(int(len(main_groups)/2)):\n",
    "    for count,result_type in enumerate(train_types):\n",
    "        row=[]\n",
    "        for opt in optimizers:\n",
    "            row.append(condensed_data[2*i][opt][\"errors\"][count])\n",
    "            row.append(condensed_data[2*i+1][opt][\"errors\"][count])\n",
    "        plot_data.append(row)\n"
   ]
  },
  {
   "cell_type": "code",
   "execution_count": 42,
   "metadata": {},
   "outputs": [],
   "source": [
    "import pandas as pd\n",
    "\n",
    "\n",
    "arrays = []\n",
    "for i in range(int(len(main_groups)/2)):\n",
    "    for result_type in train_types:\n",
    "        arrays.append((main_groups[2*i][0:-3].replace('_', '-'), result_type.replace('_', '-')))"
   ]
  },
  {
   "cell_type": "code",
   "execution_count": 43,
   "metadata": {},
   "outputs": [
    {
     "data": {
      "text/plain": [
       "[('simplified2design-4layers', 'vqe-previous'),\n",
       " ('simplified2design-4layers', 'meta'),\n",
       " ('simplified2design-4layers', 'opt-meta'),\n",
       " ('meta-singles-doubles', 'vqe-previous'),\n",
       " ('meta-singles-doubles', 'meta'),\n",
       " ('meta-singles-doubles', 'opt-meta'),\n",
       " ('meta-doubles', 'vqe-previous'),\n",
       " ('meta-doubles', 'meta'),\n",
       " ('meta-doubles', 'opt-meta'),\n",
       " ('kupccgsd-1layers', 'vqe-previous'),\n",
       " ('kupccgsd-1layers', 'meta'),\n",
       " ('kupccgsd-1layers', 'opt-meta')]"
      ]
     },
     "execution_count": 43,
     "metadata": {},
     "output_type": "execute_result"
    }
   ],
   "source": [
    "arrays"
   ]
  },
  {
   "cell_type": "code",
   "execution_count": 44,
   "metadata": {},
   "outputs": [],
   "source": [
    "columns = [('Gradient','fd'),('Gradient','ps'),('SPSA','fd'),('SPSA','ps'),('ADAM','fd'),('ADAM','ps')]"
   ]
  },
  {
   "cell_type": "code",
   "execution_count": 45,
   "metadata": {},
   "outputs": [
    {
     "data": {
      "text/html": [
       "<div>\n",
       "<style scoped>\n",
       "    .dataframe tbody tr th:only-of-type {\n",
       "        vertical-align: middle;\n",
       "    }\n",
       "\n",
       "    .dataframe tbody tr th {\n",
       "        vertical-align: top;\n",
       "    }\n",
       "\n",
       "    .dataframe thead tr th {\n",
       "        text-align: left;\n",
       "    }\n",
       "</style>\n",
       "<table border=\"1\" class=\"dataframe\">\n",
       "  <thead>\n",
       "    <tr>\n",
       "      <th></th>\n",
       "      <th></th>\n",
       "      <th colspan=\"2\" halign=\"left\">Gradient</th>\n",
       "      <th colspan=\"2\" halign=\"left\">SPSA</th>\n",
       "      <th colspan=\"2\" halign=\"left\">ADAM</th>\n",
       "    </tr>\n",
       "    <tr>\n",
       "      <th></th>\n",
       "      <th></th>\n",
       "      <th>fd</th>\n",
       "      <th>ps</th>\n",
       "      <th>fd</th>\n",
       "      <th>ps</th>\n",
       "      <th>fd</th>\n",
       "      <th>ps</th>\n",
       "    </tr>\n",
       "  </thead>\n",
       "  <tbody>\n",
       "    <tr>\n",
       "      <th rowspan=\"3\" valign=\"top\">simplified2design-4layers</th>\n",
       "      <th>vqe-previous</th>\n",
       "      <td>2.668</td>\n",
       "      <td>2.668</td>\n",
       "      <td>229.307</td>\n",
       "      <td>229.307</td>\n",
       "      <td>3.683</td>\n",
       "      <td>3.683</td>\n",
       "    </tr>\n",
       "    <tr>\n",
       "      <th>meta</th>\n",
       "      <td>254.312</td>\n",
       "      <td>254.311</td>\n",
       "      <td>626.152</td>\n",
       "      <td>626.152</td>\n",
       "      <td>58.264</td>\n",
       "      <td>58.264</td>\n",
       "    </tr>\n",
       "    <tr>\n",
       "      <th>opt-meta</th>\n",
       "      <td>34.785</td>\n",
       "      <td>34.785</td>\n",
       "      <td>52.414</td>\n",
       "      <td>52.414</td>\n",
       "      <td>19.477</td>\n",
       "      <td>19.477</td>\n",
       "    </tr>\n",
       "    <tr>\n",
       "      <th rowspan=\"3\" valign=\"top\">meta-singles-doubles</th>\n",
       "      <th>vqe-previous</th>\n",
       "      <td>0.123</td>\n",
       "      <td>0.123</td>\n",
       "      <td>1.574</td>\n",
       "      <td>1.576</td>\n",
       "      <td>0.036</td>\n",
       "      <td>0.036</td>\n",
       "    </tr>\n",
       "    <tr>\n",
       "      <th>meta</th>\n",
       "      <td>29.925</td>\n",
       "      <td>29.925</td>\n",
       "      <td>146.567</td>\n",
       "      <td>146.567</td>\n",
       "      <td>5.015</td>\n",
       "      <td>5.015</td>\n",
       "    </tr>\n",
       "    <tr>\n",
       "      <th>opt-meta</th>\n",
       "      <td>0.163</td>\n",
       "      <td>0.163</td>\n",
       "      <td>2.120</td>\n",
       "      <td>2.116</td>\n",
       "      <td>0.171</td>\n",
       "      <td>0.171</td>\n",
       "    </tr>\n",
       "    <tr>\n",
       "      <th rowspan=\"3\" valign=\"top\">meta-doubles</th>\n",
       "      <th>vqe-previous</th>\n",
       "      <td>0.122</td>\n",
       "      <td>0.122</td>\n",
       "      <td>0.734</td>\n",
       "      <td>0.734</td>\n",
       "      <td>0.043</td>\n",
       "      <td>0.043</td>\n",
       "    </tr>\n",
       "    <tr>\n",
       "      <th>meta</th>\n",
       "      <td>67.518</td>\n",
       "      <td>67.518</td>\n",
       "      <td>117.082</td>\n",
       "      <td>117.082</td>\n",
       "      <td>57.753</td>\n",
       "      <td>57.753</td>\n",
       "    </tr>\n",
       "    <tr>\n",
       "      <th>opt-meta</th>\n",
       "      <td>0.113</td>\n",
       "      <td>0.113</td>\n",
       "      <td>0.928</td>\n",
       "      <td>0.928</td>\n",
       "      <td>0.080</td>\n",
       "      <td>0.080</td>\n",
       "    </tr>\n",
       "    <tr>\n",
       "      <th rowspan=\"3\" valign=\"top\">kupccgsd-1layers</th>\n",
       "      <th>vqe-previous</th>\n",
       "      <td>0.056</td>\n",
       "      <td>0.056</td>\n",
       "      <td>33.185</td>\n",
       "      <td>77.224</td>\n",
       "      <td>0.701</td>\n",
       "      <td>0.104</td>\n",
       "    </tr>\n",
       "    <tr>\n",
       "      <th>meta</th>\n",
       "      <td>19.840</td>\n",
       "      <td>19.840</td>\n",
       "      <td>68.734</td>\n",
       "      <td>68.734</td>\n",
       "      <td>7.076</td>\n",
       "      <td>7.076</td>\n",
       "    </tr>\n",
       "    <tr>\n",
       "      <th>opt-meta</th>\n",
       "      <td>0.055</td>\n",
       "      <td>0.055</td>\n",
       "      <td>1.519</td>\n",
       "      <td>3.439</td>\n",
       "      <td>0.144</td>\n",
       "      <td>0.546</td>\n",
       "    </tr>\n",
       "  </tbody>\n",
       "</table>\n",
       "</div>"
      ],
      "text/plain": [
       "                                       Gradient            SPSA           \n",
       "                                             fd      ps      fd      ps   \n",
       "simplified2design-4layers vqe-previous    2.668   2.668 229.307 229.307  \\\n",
       "                          meta          254.312 254.311 626.152 626.152   \n",
       "                          opt-meta       34.785  34.785  52.414  52.414   \n",
       "meta-singles-doubles      vqe-previous    0.123   0.123   1.574   1.576   \n",
       "                          meta           29.925  29.925 146.567 146.567   \n",
       "                          opt-meta        0.163   0.163   2.120   2.116   \n",
       "meta-doubles              vqe-previous    0.122   0.122   0.734   0.734   \n",
       "                          meta           67.518  67.518 117.082 117.082   \n",
       "                          opt-meta        0.113   0.113   0.928   0.928   \n",
       "kupccgsd-1layers          vqe-previous    0.056   0.056  33.185  77.224   \n",
       "                          meta           19.840  19.840  68.734  68.734   \n",
       "                          opt-meta        0.055   0.055   1.519   3.439   \n",
       "\n",
       "                                         ADAM         \n",
       "                                           fd     ps  \n",
       "simplified2design-4layers vqe-previous  3.683  3.683  \n",
       "                          meta         58.264 58.264  \n",
       "                          opt-meta     19.477 19.477  \n",
       "meta-singles-doubles      vqe-previous  0.036  0.036  \n",
       "                          meta          5.015  5.015  \n",
       "                          opt-meta      0.171  0.171  \n",
       "meta-doubles              vqe-previous  0.043  0.043  \n",
       "                          meta         57.753 57.753  \n",
       "                          opt-meta      0.080  0.080  \n",
       "kupccgsd-1layers          vqe-previous  0.701  0.104  \n",
       "                          meta          7.076  7.076  \n",
       "                          opt-meta      0.144  0.546  "
      ]
     },
     "execution_count": 45,
     "metadata": {},
     "output_type": "execute_result"
    }
   ],
   "source": [
    "df = pd.DataFrame(plot_data, index=arrays, columns = columns)\n",
    "df.columns = pd.MultiIndex.from_tuples(df.columns)\n",
    "df.index = pd.MultiIndex.from_tuples(df.index)\n",
    "pd.options.display.float_format = '{:.3f}'.format\n",
    "df"
   ]
  },
  {
   "cell_type": "code",
   "execution_count": 46,
   "metadata": {},
   "outputs": [
    {
     "name": "stdout",
     "output_type": "stream",
     "text": [
      "\\begin{tabular}{llrrrrrr}\n",
      "\\toprule\n",
      " &  & \\multicolumn{2}{r}{Gradient} & \\multicolumn{2}{r}{SPSA} & \\multicolumn{2}{r}{ADAM} \\\\\n",
      " &  & fd & ps & fd & ps & fd & ps \\\\\n",
      "\\midrule\n",
      "\\multirow[t]{3}{*}{simplified2design-4layers} & vqe-previous & 2.668 & 2.668 & 229.307 & 229.307 & 3.683 & 3.683 \\\\\n",
      " & meta & 254.312 & 254.311 & 626.152 & 626.152 & 58.264 & 58.264 \\\\\n",
      " & opt-meta & 34.785 & 34.785 & 52.414 & 52.414 & 19.477 & 19.477 \\\\\n",
      "\\cline{1-8}\n",
      "\\multirow[t]{3}{*}{meta-singles-doubles} & vqe-previous & 0.123 & 0.123 & 1.574 & 1.576 & 0.036 & 0.036 \\\\\n",
      " & meta & 29.925 & 29.925 & 146.567 & 146.567 & 5.015 & 5.015 \\\\\n",
      " & opt-meta & 0.163 & 0.163 & 2.120 & 2.116 & 0.171 & 0.171 \\\\\n",
      "\\cline{1-8}\n",
      "\\multirow[t]{3}{*}{meta-doubles} & vqe-previous & 0.122 & 0.122 & 0.734 & 0.734 & 0.043 & 0.043 \\\\\n",
      " & meta & 67.518 & 67.518 & 117.082 & 117.082 & 57.753 & 57.753 \\\\\n",
      " & opt-meta & 0.113 & 0.113 & 0.928 & 0.928 & 0.080 & 0.080 \\\\\n",
      "\\cline{1-8}\n",
      "\\multirow[t]{3}{*}{kupccgsd-1layers} & vqe-previous & 0.056 & 0.056 & 33.185 & 77.224 & 0.701 & 0.104 \\\\\n",
      " & meta & 19.840 & 19.840 & 68.734 & 68.734 & 7.076 & 7.076 \\\\\n",
      " & opt-meta & 0.055 & 0.055 & 1.519 & 3.439 & 0.144 & 0.546 \\\\\n",
      "\\cline{1-8}\n",
      "\\bottomrule\n",
      "\\end{tabular}\n",
      "\n"
     ]
    }
   ],
   "source": [
    "print(df.to_latex(float_format=\"{:.3f}\".format))"
   ]
  },
  {
   "cell_type": "code",
   "execution_count": 47,
   "metadata": {},
   "outputs": [],
   "source": [
    "## Simplified: (WIRES + LAYERS*(WIRES-1)*2)\n",
    "## Single Double Excitations: 1 per excitation\n",
    "## kupccgsd: 6*LAYERS\n",
    "\n",
    "## For fd: (Nvars*4)+1\n",
    "overheads_fd = [22,28,3,1,6]\n",
    "\n",
    "## For ps - simplified: (Nvars*2)\n",
    "## For ps - excitations, kupccgsd: (Nvars*4)\n",
    "overheads_ps = [44,56,12,4,24]\n",
    "\n",
    "index_per_runs_plot_fd = [0,2,4,6,8]\n",
    "index_per_runs_plot_ps = [1,3,5,7,9]\n",
    "\n",
    "# overheads_fd = [13,5,25]\n",
    "# overheads_ps = [48,16,96]\n",
    "\n",
    "\n",
    "\n",
    "\n",
    "# index_per_runs_plot_fd = [0,2,4]\n",
    "# index_per_runs_plot_ps = [1,3,5]"
   ]
  },
  {
   "cell_type": "code",
   "execution_count": 48,
   "metadata": {},
   "outputs": [
    {
     "ename": "IndexError",
     "evalue": "list index out of range",
     "output_type": "error",
     "traceback": [
      "\u001b[0;31m---------------------------------------------------------------------------\u001b[0m",
      "\u001b[0;31mIndexError\u001b[0m                                Traceback (most recent call last)",
      "Cell \u001b[0;32mIn[48], line 5\u001b[0m\n\u001b[1;32m      1\u001b[0m opt_runs \u001b[39m=\u001b[39m optimizers[\u001b[39m1\u001b[39m]\n\u001b[1;32m      3\u001b[0m fig, ax \u001b[39m=\u001b[39m plt\u001b[39m.\u001b[39msubplots()\n\u001b[0;32m----> 5\u001b[0m vqe_ran_data \u001b[39m=\u001b[39m [condensed_data[idx][opt_runs][\u001b[39m\"\u001b[39m\u001b[39mruns\u001b[39m\u001b[39m\"\u001b[39m][\u001b[39m0\u001b[39m]\u001b[39m*\u001b[39m(overheads_fd[count]\u001b[39m+\u001b[39m\u001b[39m1\u001b[39m) \u001b[39mfor\u001b[39;00m count,idx \u001b[39min\u001b[39;00m \u001b[39menumerate\u001b[39m(index_per_runs_plot_fd)]\n\u001b[1;32m      6\u001b[0m vqe_prev_data \u001b[39m=\u001b[39m [condensed_data[idx][opt_runs][\u001b[39m\"\u001b[39m\u001b[39mruns\u001b[39m\u001b[39m\"\u001b[39m][\u001b[39m1\u001b[39m]\u001b[39m*\u001b[39m(overheads_fd[count]\u001b[39m+\u001b[39m\u001b[39m1\u001b[39m) \u001b[39mfor\u001b[39;00m count,idx \u001b[39min\u001b[39;00m \u001b[39menumerate\u001b[39m(index_per_runs_plot_fd)]\n\u001b[1;32m      7\u001b[0m meta_runs \u001b[39m=\u001b[39m [condensed_data[idx][opt_runs][\u001b[39m\"\u001b[39m\u001b[39mruns\u001b[39m\u001b[39m\"\u001b[39m][\u001b[39m2\u001b[39m]\u001b[39m*\u001b[39m(overheads_fd[count]\u001b[39m+\u001b[39m\u001b[39m1\u001b[39m)\u001b[39m*\u001b[39m\u001b[39m5\u001b[39m\u001b[39m*\u001b[39m\u001b[39m4\u001b[39m \u001b[39mfor\u001b[39;00m count,idx \u001b[39min\u001b[39;00m \u001b[39menumerate\u001b[39m(index_per_runs_plot_fd)]\n",
      "Cell \u001b[0;32mIn[48], line 5\u001b[0m, in \u001b[0;36m<listcomp>\u001b[0;34m(.0)\u001b[0m\n\u001b[1;32m      1\u001b[0m opt_runs \u001b[39m=\u001b[39m optimizers[\u001b[39m1\u001b[39m]\n\u001b[1;32m      3\u001b[0m fig, ax \u001b[39m=\u001b[39m plt\u001b[39m.\u001b[39msubplots()\n\u001b[0;32m----> 5\u001b[0m vqe_ran_data \u001b[39m=\u001b[39m [condensed_data[idx][opt_runs][\u001b[39m\"\u001b[39m\u001b[39mruns\u001b[39m\u001b[39m\"\u001b[39m][\u001b[39m0\u001b[39m]\u001b[39m*\u001b[39m(overheads_fd[count]\u001b[39m+\u001b[39m\u001b[39m1\u001b[39m) \u001b[39mfor\u001b[39;00m count,idx \u001b[39min\u001b[39;00m \u001b[39menumerate\u001b[39m(index_per_runs_plot_fd)]\n\u001b[1;32m      6\u001b[0m vqe_prev_data \u001b[39m=\u001b[39m [condensed_data[idx][opt_runs][\u001b[39m\"\u001b[39m\u001b[39mruns\u001b[39m\u001b[39m\"\u001b[39m][\u001b[39m1\u001b[39m]\u001b[39m*\u001b[39m(overheads_fd[count]\u001b[39m+\u001b[39m\u001b[39m1\u001b[39m) \u001b[39mfor\u001b[39;00m count,idx \u001b[39min\u001b[39;00m \u001b[39menumerate\u001b[39m(index_per_runs_plot_fd)]\n\u001b[1;32m      7\u001b[0m meta_runs \u001b[39m=\u001b[39m [condensed_data[idx][opt_runs][\u001b[39m\"\u001b[39m\u001b[39mruns\u001b[39m\u001b[39m\"\u001b[39m][\u001b[39m2\u001b[39m]\u001b[39m*\u001b[39m(overheads_fd[count]\u001b[39m+\u001b[39m\u001b[39m1\u001b[39m)\u001b[39m*\u001b[39m\u001b[39m5\u001b[39m\u001b[39m*\u001b[39m\u001b[39m4\u001b[39m \u001b[39mfor\u001b[39;00m count,idx \u001b[39min\u001b[39;00m \u001b[39menumerate\u001b[39m(index_per_runs_plot_fd)]\n",
      "\u001b[0;31mIndexError\u001b[0m: list index out of range"
     ]
    },
    {
     "data": {
      "image/png": "[encoded data removed]",
      "text/plain": [
       "<Figure size 640x480 with 1 Axes>"
      ]
     },
     "metadata": {},
     "output_type": "display_data"
    }
   ],
   "source": [
    "opt_runs = optimizers[1]\n",
    "\n",
    "fig, ax = plt.subplots()\n",
    "\n",
    "vqe_ran_data = [condensed_data[idx][opt_runs][\"runs\"][0]*(overheads_fd[count]+1) for count,idx in enumerate(index_per_runs_plot_fd)]\n",
    "vqe_prev_data = [condensed_data[idx][opt_runs][\"runs\"][1]*(overheads_fd[count]+1) for count,idx in enumerate(index_per_runs_plot_fd)]\n",
    "meta_runs = [condensed_data[idx][opt_runs][\"runs\"][2]*(overheads_fd[count]+1)*5*4 for count,idx in enumerate(index_per_runs_plot_fd)]\n",
    "opt_meta_data = [condensed_data[idx][opt_runs][\"runs\"][3]*(overheads_fd[count]+1) for count,idx in enumerate(index_per_runs_plot_fd)]\n",
    "\n",
    "vqe_ran_data_ps = [condensed_data[idx][opt_runs][\"runs\"][0]*overheads_ps[count] for count,idx in enumerate(index_per_runs_plot_ps)]\n",
    "vqe_prev_data_ps = [condensed_data[idx][opt_runs][\"runs\"][1]*overheads_ps[count] for count,idx in enumerate(index_per_runs_plot_ps)]\n",
    "meta_runs_ps = [condensed_data[idx][opt_runs][\"runs\"][2]*overheads_ps[count]*5*4 for count,idx in enumerate(index_per_runs_plot_ps)]\n",
    "opt_meta_data_ps = [condensed_data[idx][opt_runs][\"runs\"][3]*overheads_ps[count] for count,idx in enumerate(index_per_runs_plot_ps)]\n",
    "\n",
    "\n",
    "\n",
    "ind = np.arange(len(vqe_ran_data)) \n",
    "\n",
    "width = 0.12                    # the width of the bars\n",
    "\n",
    "ax.set_ylabel('Number of Runs')\n",
    "ax.set_title(f'Total Runs per Ansatz {opt_runs}')\n",
    "xTickMarks = [main_groups[idx] for idx in index_per_runs_plot_fd]\n",
    "ax.set_xticks(ind+(3*width))\n",
    "xtickNames = ax.set_xticklabels(xTickMarks)\n",
    "plt.setp(xtickNames, rotation=45, fontsize=10)\n",
    "\n",
    "\n",
    "plt.bar(np.arange(len(vqe_ran_data)), vqe_ran_data, width=width, label = \"vqe ran\")\n",
    "plt.bar(np.arange(len(vqe_prev_data))+ width, vqe_prev_data, width=width, label = \"vqe prev\")\n",
    "plt.bar(np.arange(len(meta_runs))+ width*2, meta_runs, width=width, label=\"meta\")\n",
    "plt.bar(np.arange(len(opt_meta_data))+ width*2, opt_meta_data, width=width, bottom= meta_runs, label=\"opt-meta\")\n",
    "\n",
    "plt.bar(np.arange(len(vqe_ran_data_ps))+ width*4, vqe_ran_data_ps, width=width, label=\"vqe ran ps\")\n",
    "plt.bar(np.arange(len(vqe_prev_data_ps))+ width*5, vqe_prev_data_ps, width=width, label = \"vqe prev ps\")\n",
    "plt.bar(np.arange(len(meta_runs_ps))+ width*6, meta_runs_ps, width=width, label=\"meta ps\")\n",
    "plt.bar(np.arange(len(opt_meta_data_ps))+ width*6, opt_meta_data_ps, width=width, bottom= meta_runs_ps, label=\"opt-meta ps\")\n",
    "ax.legend()\n",
    "plt.yscale('log')\n",
    "plt.ylim(100, 500000)\n",
    "plt.show()"
   ]
  },
  {
   "cell_type": "code",
   "execution_count": null,
   "metadata": {},
   "outputs": [
    {
     "name": "stdout",
     "output_type": "stream",
     "text": [
      "[39050, 56000, 4650, 935, 7290]\n"
     ]
    },
    {
     "data": {
      "image/png": "[encoded data removed]",
      "text/plain": [
       "<Figure size 640x480 with 1 Axes>"
      ]
     },
     "metadata": {},
     "output_type": "display_data"
    }
   ],
   "source": [
    "opt_runs = optimizers[3]\n",
    "\n",
    "fig, ax = plt.subplots()\n",
    "\n",
    "vqe_data = [condensed_data[idx][opt_runs][\"runs\"][0]*overheads_fd[count] for count,idx in enumerate(index_per_runs_plot_ps)]\n",
    "meta_runs = [condensed_data[idx][opt_runs][\"runs\"][1]*overheads_fd[count]*5 for count,idx in enumerate(index_per_runs_plot_ps)]\n",
    "opt_meta_data = [condensed_data[idx][opt_runs][\"runs\"][2]*overheads_fd[count] for count,idx in enumerate(index_per_runs_plot_ps)]\n",
    "\n",
    "\n",
    "print(meta_runs)\n",
    "\n",
    "\n",
    "ind = np.arange(len(vqe_data)) \n",
    "\n",
    "width = 0.4                      # the width of the bars\n",
    "\n",
    "ax.set_ylabel('Number of Runs')\n",
    "ax.set_title(f'Total Runs per Ansatz finite diff {opt_runs}')\n",
    "xTickMarks = [main_groups[idx] for idx in index_per_runs_plot_fd]\n",
    "ax.set_xticks(ind+(width/2))\n",
    "xtickNames = ax.set_xticklabels(xTickMarks)\n",
    "plt.setp(xtickNames, rotation=45, fontsize=10)\n",
    "\n",
    "\n",
    "plt.bar(np.arange(len(vqe_data)), vqe_data, width=width, label = \"vqe\")\n",
    "plt.bar(np.arange(len(meta_runs))+ width, meta_runs, width=width, label=\"meta\")\n",
    "plt.bar(np.arange(len(opt_meta_data))+ width, opt_meta_data, width=width, bottom= meta_runs, label=\"opt-meta\")\n",
    "ax.legend()\n",
    "plt.show()"
   ]
  },
  {
   "cell_type": "code",
   "execution_count": null,
   "metadata": {},
   "outputs": [],
   "source": []
  }
 ],
 "metadata": {
  "environment": {
   "kernel": "python3",
   "name": "common-cpu.m109",
   "type": "gcloud",
   "uri": "gcr.io/deeplearning-platform-release/base-cpu:m109"
  },
  "kernelspec": {
   "display_name": "Python 3",
   "language": "python",
   "name": "python3"
  },
  "language_info": {
   "codemirror_mode": {
    "name": "ipython",
    "version": 3
   },
   "file_extension": ".py",
   "mimetype": "text/x-python",
   "name": "python",
   "nbconvert_exporter": "python",
   "pygments_lexer": "ipython3",
   "version": "3.8.5"
  }
 },
 "nbformat": 4,
 "nbformat_minor": 4
}
