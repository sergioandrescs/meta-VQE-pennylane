{
 "cells": [
  {
   "cell_type": "code",
   "execution_count": 1,
   "metadata": {},
   "outputs": [],
   "source": [
    "import matplotlib.pyplot as plt\n",
    "from matplotlib.ticker import MultipleLocator\n",
    "import json\n",
    "from pennylane import numpy as np\n",
    "\n",
    "FILES_NAMES = {\"simplified_2_design\":{\"fd\":[\"simplified2design_1layers_fd\",\"simplified2design_2layers_fd\",\"simplified2design_3layers_fd\",\"simplified2design_4layers_fd\"], \"ps\":[\"simplified2design_1layers_ps\",\"simplified2design_2layers_ps\",\"simplified2design_3layers_ps\",\"simplified2design_4layers_ps\"]},\n",
    "               \"single_double\":{\"fd\":[\"meta_simples_doubles_fd\"], \"ps\":[\"meta_simples_doubles_ps\"]},\n",
    "               \"double\":{\"fd\":[\"meta_doubles_fd\"], \"ps\":[\"meta_doubles_ps\"]},\n",
    "               \"kupccgsd\":{\"fd\":[\"kupccgsd_1layers_fd\", \"kupccgsd_2layers_fd\"], \"ps\":[\"kupccgsd_1layers_ps\", \"kupccgsd_2layers_ps\"]}}\n",
    "\n",
    "DATA = {i:{\"fd\":[],\"ps\":[]} for i in FILES_NAMES}\n",
    "\n",
    "with open('./h2_fci.json', 'r') as reader:\n",
    "    # Read & print the entire file\n",
    "    data = reader.read()\n",
    "    fci_h2 = json.loads(data)   \n",
    "\n",
    "GRAD_METHOD_COMP = \"fd\" ## \"fd\" or \"ps\"\n",
    "\n",
    "DICT_GRAD_METHOD = {\"fd\":\"Finite Diff\", \"ps\":\"Parameter Shift\"}\n",
    "\n",
    "\n",
    "test_points=fci_h2[\"points\"]\n",
    "fci_energies = fci_h2[\"energies\"]\n",
    "    "
   ]
  },
  {
   "cell_type": "code",
   "execution_count": 12,
   "metadata": {},
   "outputs": [
    {
     "data": {
      "text/plain": [
       "[]"
      ]
     },
     "execution_count": 12,
     "metadata": {},
     "output_type": "execute_result"
    },
    {
     "data": {
      "image/png": "[encoded data removed]",
      "text/plain": [
       "<Figure size 640x480 with 1 Axes>"
      ]
     },
     "metadata": {},
     "output_type": "display_data"
    }
   ],
   "source": [
    "# Meta VQE description plot\n",
    "train_points_indexes = [2,6,10,14,18]\n",
    "\n",
    "fig, ax = plt.subplots()\n",
    "\n",
    "ax.plot(test_points,fci_energies, color=\"r\", linewidth=3, ls=\"dotted\")\n",
    "\n",
    "\n",
    "# ax.set_title('meta-VQE - Multi Objective Joined Optimization')\n",
    "ax.set_ylabel('Energy (Ha)')\n",
    "ax.set_xlabel('Distance($a_{0}$)')\n",
    "\n",
    "\n",
    "ax.set_yticks([])\n",
    "ax.set_xticks([])\n",
    "\n",
    "# for i in train_points_indexes:\n",
    "#     ax.axvline(x=test_points[i], color='0.7', linewidth=3, ls='-.')\n",
    "\n",
    "\n",
    "# ax.scatter([test_points[i] for i in train_points_indexes], [fci_energies[i] for i in train_points_indexes], zorder=99, label=\"Train Points\", marker='o', color=\"green\", s=100)\n"
   ]
  },
  {
   "cell_type": "code",
   "execution_count": 14,
   "metadata": {},
   "outputs": [
    {
     "data": {
      "text/plain": [
       "[]"
      ]
     },
     "execution_count": 14,
     "metadata": {},
     "output_type": "execute_result"
    },
    {
     "data": {
      "image/png": "[encoded data removed]",
      "text/plain": [
       "<Figure size 640x480 with 1 Axes>"
      ]
     },
     "metadata": {},
     "output_type": "display_data"
    }
   ],
   "source": [
    "# Meta VQE description plot\n",
    "train_points_indexes = [2,6,10,14,18]\n",
    "\n",
    "fig, ax = plt.subplots()\n",
    "\n",
    "ax.scatter([test_points[i] for i in train_points_indexes], [fci_energies[i] for i in train_points_indexes], color=\"b\", linewidth=3, marker='o')\n",
    "\n",
    "\n",
    "# ax.set_title('Standard VQE - Individual Optimization')\n",
    "ax.set_ylabel('Energy (Ha)')\n",
    "ax.set_xlabel('Distance($a_{0}$)')\n",
    "\n",
    "plt.xlim(test_points[0], test_points[-1])\n",
    "plt.ylim(min(fci_energies), max(fci_energies))\n",
    "\n",
    "\n",
    "ax.set_yticks([])\n",
    "ax.set_xticks([])\n"
   ]
  },
  {
   "cell_type": "code",
   "execution_count": 9,
   "metadata": {},
   "outputs": [
    {
     "data": {
      "text/plain": [
       "['#1f77b4',\n",
       " '#ff7f0e',\n",
       " '#2ca02c',\n",
       " '#d62728',\n",
       " '#9467bd',\n",
       " '#8c564b',\n",
       " '#e377c2',\n",
       " '#7f7f7f',\n",
       " '#bcbd22',\n",
       " '#17becf']"
      ]
     },
     "execution_count": 9,
     "metadata": {},
     "output_type": "execute_result"
    }
   ],
   "source": [
    "prop_cycle = plt.rcParams['axes.prop_cycle']\n",
    "colors = prop_cycle.by_key()['color']\n",
    "colors"
   ]
  },
  {
   "cell_type": "code",
   "execution_count": 11,
   "metadata": {},
   "outputs": [
    {
     "ename": "FileNotFoundError",
     "evalue": "[Errno 2] No such file or directory: 'exp_runs_22points_with_random-vqe/simplified2design_1layers_fd.json'",
     "output_type": "error",
     "traceback": [
      "\u001b[0;31m---------------------------------------------------------------------------\u001b[0m",
      "\u001b[0;31mFileNotFoundError\u001b[0m                         Traceback (most recent call last)",
      "Cell \u001b[0;32mIn[11], line 5\u001b[0m\n\u001b[1;32m      2\u001b[0m \u001b[39mfor\u001b[39;00m diff_method \u001b[39min\u001b[39;00m FILES_NAMES[ansatz]:\n\u001b[1;32m      3\u001b[0m     \u001b[39mfor\u001b[39;00m file \u001b[39min\u001b[39;00m FILES_NAMES[ansatz][diff_method]:\n\u001b[0;32m----> 5\u001b[0m         \u001b[39mwith\u001b[39;00m \u001b[39mopen\u001b[39;49m(\u001b[39mf\u001b[39;49m\u001b[39m'\u001b[39;49m\u001b[39mexp_runs_22points_with_random-vqe/\u001b[39;49m\u001b[39m{\u001b[39;49;00mfile\u001b[39m}\u001b[39;49;00m\u001b[39m.json\u001b[39;49m\u001b[39m'\u001b[39;49m, \u001b[39m'\u001b[39;49m\u001b[39mr\u001b[39;49m\u001b[39m'\u001b[39;49m) \u001b[39mas\u001b[39;00m reader:\n\u001b[1;32m      6\u001b[0m             \u001b[39m# Read & print the entire file\u001b[39;00m\n\u001b[1;32m      7\u001b[0m             data \u001b[39m=\u001b[39m reader\u001b[39m.\u001b[39mread()\n\u001b[1;32m      8\u001b[0m             DATA[ansatz][diff_method]\u001b[39m.\u001b[39mappend(json\u001b[39m.\u001b[39mloads(data))\n",
      "File \u001b[0;32m/home/linuxbrew/.linuxbrew/Cellar/python@3.8/3.8.5/lib/python3.8/site-packages/IPython/core/interactiveshell.py:284\u001b[0m, in \u001b[0;36m_modified_open\u001b[0;34m(file, *args, **kwargs)\u001b[0m\n\u001b[1;32m    277\u001b[0m \u001b[39mif\u001b[39;00m file \u001b[39min\u001b[39;00m {\u001b[39m0\u001b[39m, \u001b[39m1\u001b[39m, \u001b[39m2\u001b[39m}:\n\u001b[1;32m    278\u001b[0m     \u001b[39mraise\u001b[39;00m \u001b[39mValueError\u001b[39;00m(\n\u001b[1;32m    279\u001b[0m         \u001b[39mf\u001b[39m\u001b[39m\"\u001b[39m\u001b[39mIPython won\u001b[39m\u001b[39m'\u001b[39m\u001b[39mt let you open fd=\u001b[39m\u001b[39m{\u001b[39;00mfile\u001b[39m}\u001b[39;00m\u001b[39m by default \u001b[39m\u001b[39m\"\u001b[39m\n\u001b[1;32m    280\u001b[0m         \u001b[39m\"\u001b[39m\u001b[39mas it is likely to crash IPython. If you know what you are doing, \u001b[39m\u001b[39m\"\u001b[39m\n\u001b[1;32m    281\u001b[0m         \u001b[39m\"\u001b[39m\u001b[39myou can use builtins\u001b[39m\u001b[39m'\u001b[39m\u001b[39m open.\u001b[39m\u001b[39m\"\u001b[39m\n\u001b[1;32m    282\u001b[0m     )\n\u001b[0;32m--> 284\u001b[0m \u001b[39mreturn\u001b[39;00m io_open(file, \u001b[39m*\u001b[39;49margs, \u001b[39m*\u001b[39;49m\u001b[39m*\u001b[39;49mkwargs)\n",
      "\u001b[0;31mFileNotFoundError\u001b[0m: [Errno 2] No such file or directory: 'exp_runs_22points_with_random-vqe/simplified2design_1layers_fd.json'"
     ]
    }
   ],
   "source": [
    "for ansatz in FILES_NAMES:\n",
    "    for diff_method in FILES_NAMES[ansatz]:\n",
    "        for file in FILES_NAMES[ansatz][diff_method]:\n",
    "\n",
    "            with open(f'exp_runs_analytic/{file}.json', 'r') as reader:\n",
    "                # Read & print the entire file\n",
    "                data = reader.read()\n",
    "                DATA[ansatz][diff_method].append(json.loads(data))\n"
   ]
  },
  {
   "cell_type": "code",
   "execution_count": null,
   "metadata": {},
   "outputs": [],
   "source": [
    "simplified_data_fd = DATA[\"simplified_2_design\"][\"fd\"][3][\"results\"]\n",
    "single_double_data_fd = DATA[\"single_double\"][\"fd\"][0][\"results\"]\n",
    "double_data_fd = DATA[\"double\"][\"fd\"][0][\"results\"]\n",
    "kupccgsd_data_fd = DATA[\"kupccgsd\"][\"fd\"][0][\"results\"]\n"
   ]
  },
  {
   "cell_type": "code",
   "execution_count": null,
   "metadata": {},
   "outputs": [],
   "source": [
    "len(simplified_data_fd[\"adam\"][\"meta\"][\"energies\"][-1])"
   ]
  },
  {
   "cell_type": "code",
   "execution_count": null,
   "metadata": {},
   "outputs": [],
   "source": [
    "# Plot for meta energies\n",
    "\n",
    "\n",
    "plt.scatter([i for i in range(len(simplified_data_fd[\"adam\"][\"meta\"][\"energies\"][-1]))],simplified_data_fd[\"adam\"][\"meta\"][\"energies\"][-1], label=\"simplified 2 design - 4 layers\", marker='x')\n",
    "plt.scatter([i for i in range(len(single_double_data_fd[\"adam\"][\"meta\"][\"energies\"][-1]))],single_double_data_fd[\"adam\"][\"meta\"][\"energies\"][-1], label=\"Single double excitations\", marker='x')\n",
    "plt.scatter([i for i in range(len(double_data_fd[\"adam\"][\"meta\"][\"energies\"][-1]))],double_data_fd[\"adam\"][\"meta\"][\"energies\"][-1], label=\"double excitation\", marker='x')\n",
    "plt.scatter([i for i in range(len(kupccgsd_data_fd[\"adam\"][\"meta\"][\"energies\"][-1]))],kupccgsd_data_fd[\"adam\"][\"meta\"][\"energies\"][-1], label=\"k-UpCCGSD - 1 layer\", marker='x')\n",
    "\n",
    "plt.legend()\n",
    "plt.title('Meta-VQE cost function for training step ADAM Finite Diff')\n",
    "plt.ylabel('Cost function')\n",
    "plt.xlabel('Training step')\n",
    "plt.show"
   ]
  },
  {
   "cell_type": "code",
   "execution_count": null,
   "metadata": {},
   "outputs": [],
   "source": [
    "# Plot for errors\n",
    "fig, ax = plt.subplots()\n",
    "\n",
    "ax.scatter(test_points,[np.abs(i-j)*1000 for i,j in zip(simplified_data_fd[\"adam\"][\"meta\"][\"energies_after_meta\"],fci_energies)], label=\"meta\", marker='o')\n",
    "ax.scatter(test_points,[np.abs(i-j)*1000 for i,j in zip([energy[-1] for energy in simplified_data_fd[\"adam\"][\"opt_meta\"][\"energies\"]],fci_energies)], label=\"opt-meta\", marker='o')\n",
    "ax.scatter(test_points,[np.abs(i-j)*1000 for i,j in zip([energy[-1] for energy in simplified_data_fd[\"adam\"][\"vqe\"][\"energies\"]],fci_energies)], label=\"VQE\", marker='o')\n",
    "\n",
    "\n",
    "ax.legend()\n",
    "ax.set_title('Error for Simplified Two Design Finite Diff')\n",
    "ax.set_yscale('log',base=10) \n",
    "ax.set_ylabel('Energy error (m Hartrees)')\n",
    "ax.set_xlabel('Atomic Distance($a_{0}$)')\n",
    "ax.set_ylim(top=5e2)\n",
    "\n",
    "ax.hlines(y=1.6, xmin=test_points[0] -0.2, xmax=test_points[-1]+0.2, linestyles='--', linewidth=2, color='black')\n",
    "\n",
    "ax.xaxis.set_minor_locator(MultipleLocator(0.2))\n",
    "ax.set_xticks(np.arange(min(test_points), max(test_points)+0.2, 1))\n"
   ]
  },
  {
   "cell_type": "code",
   "execution_count": null,
   "metadata": {},
   "outputs": [],
   "source": [
    "# Plot for errors\n",
    "fig, ax = plt.subplots()\n",
    "\n",
    "ax.scatter(test_points,[np.abs(i-j)*1000 for i,j in zip(single_double_data_fd[\"adam\"][\"meta\"][\"energies_after_meta\"],fci_energies)], label=\"meta\", marker='o')\n",
    "ax.scatter(test_points,[np.abs(i-j)*1000 for i,j in zip([energy[-1] for energy in single_double_data_fd[\"adam\"][\"opt_meta\"][\"energies\"]],fci_energies)], label=\"opt-meta\", marker='o')\n",
    "ax.scatter(test_points,[np.abs(i-j)*1000 for i,j in zip([energy[-1] for energy in single_double_data_fd[\"adam\"][\"vqe\"][\"energies\"]],fci_energies)], label=\"VQE\", marker='o')\n",
    "\n",
    "\n",
    "ax.legend()\n",
    "ax.set_title('Error for Single Double Excitations Finite Diff')\n",
    "ax.set_yscale('log',base=10) \n",
    "ax.set_ylabel('Energy error (m Hartrees)')\n",
    "ax.set_xlabel('Atomic Distance($a_{0}$)')\n",
    "ax.set_ylim(top=5e2)\n",
    "\n",
    "ax.hlines(y=1.6, xmin=test_points[0] -0.2, xmax=test_points[-1]+0.2, linestyles='--', linewidth=2, color='black')\n",
    "\n",
    "ax.xaxis.set_minor_locator(MultipleLocator(0.2))\n",
    "ax.set_xticks(np.arange(min(test_points), max(test_points)+0.2, 1))\n"
   ]
  },
  {
   "cell_type": "code",
   "execution_count": null,
   "metadata": {},
   "outputs": [],
   "source": [
    "# Plot for errors\n",
    "fig, ax = plt.subplots()\n",
    "\n",
    "ax.scatter(test_points,[np.abs(i-j)*1000 for i,j in zip(double_data_fd[\"adam\"][\"meta\"][\"energies_after_meta\"],fci_energies)], label=\"meta\", marker='o')\n",
    "ax.scatter(test_points,[np.abs(i-j)*1000 for i,j in zip([energy[-1] for energy in double_data_fd[\"adam\"][\"opt_meta\"][\"energies\"]],fci_energies)], label=\"opt-meta\", marker='o')\n",
    "ax.scatter(test_points,[np.abs(i-j)*1000 for i,j in zip([energy[-1] for energy in double_data_fd[\"adam\"][\"vqe\"][\"energies\"]],fci_energies)], label=\"VQE\", marker='o')\n",
    "\n",
    "\n",
    "ax.legend()\n",
    "ax.set_title('Error for Double Excitation Finite Diff')\n",
    "ax.set_yscale('log',base=10) \n",
    "ax.set_ylabel('Energy error (m Hartrees)')\n",
    "ax.set_xlabel('Atomic Distance($a_{0}$)')\n",
    "ax.set_ylim(top=5e2)\n",
    "\n",
    "ax.hlines(y=1.6, xmin=test_points[0] -0.2, xmax=test_points[-1]+0.2, linestyles='--', linewidth=2, color='black')\n",
    "\n",
    "ax.xaxis.set_minor_locator(MultipleLocator(0.2))\n",
    "ax.set_xticks(np.arange(min(test_points), max(test_points)+0.2, 1))\n"
   ]
  },
  {
   "cell_type": "code",
   "execution_count": null,
   "metadata": {},
   "outputs": [],
   "source": [
    "# Plot for errors\n",
    "fig, ax = plt.subplots()\n",
    "\n",
    "ax.scatter(test_points,[np.abs(i-j)*1000 for i,j in zip(kupccgsd_data_fd[\"adam\"][\"meta\"][\"energies_after_meta\"],fci_energies)], label=\"meta\", marker='o')\n",
    "ax.scatter(test_points,[np.abs(i-j)*1000 for i,j in zip([energy[-1] for energy in kupccgsd_data_fd[\"adam\"][\"opt_meta\"][\"energies\"]],fci_energies)], label=\"opt-meta\", marker='o')\n",
    "ax.scatter(test_points,[np.abs(i-j)*1000 for i,j in zip([energy[-1] for energy in kupccgsd_data_fd[\"adam\"][\"vqe\"][\"energies\"]],fci_energies)], label=\"VQE\", marker='o')\n",
    "\n",
    "\n",
    "ax.legend()\n",
    "ax.set_title('Error for k-UpCCGSD 1 layer Finite Diff')\n",
    "ax.set_yscale('log',base=10) \n",
    "ax.set_ylabel('Energy error (m Hartrees)')\n",
    "ax.set_xlabel('Atomic Distance($a_{0}$)')\n",
    "ax.set_ylim(top=5e2)\n",
    "\n",
    "ax.hlines(y=1.6, xmin=test_points[0] -0.2, xmax=test_points[-1]+0.2, linestyles='--', linewidth=2, color='black')\n",
    "\n",
    "ax.xaxis.set_minor_locator(MultipleLocator(0.2))\n",
    "ax.set_xticks(np.arange(min(test_points), max(test_points)+0.2, 1))\n"
   ]
  }
 ],
 "metadata": {
  "environment": {
   "kernel": "python3",
   "name": "common-cpu.m108",
   "type": "gcloud",
   "uri": "gcr.io/deeplearning-platform-release/base-cpu:m108"
  },
  "kernelspec": {
   "display_name": "Python 3",
   "language": "python",
   "name": "python3"
  },
  "language_info": {
   "codemirror_mode": {
    "name": "ipython",
    "version": 3
   },
   "file_extension": ".py",
   "mimetype": "text/x-python",
   "name": "python",
   "nbconvert_exporter": "python",
   "pygments_lexer": "ipython3",
   "version": "3.8.5"
  }
 },
 "nbformat": 4,
 "nbformat_minor": 4
}
